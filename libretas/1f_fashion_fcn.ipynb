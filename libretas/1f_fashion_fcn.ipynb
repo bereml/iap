{
 "cells": [
  {
   "cell_type": "markdown",
   "metadata": {
    "colab_type": "text",
    "id": "view-in-github"
   },
   "source": [
    "<a href=\"https://colab.research.google.com/github/bereml/iap/blob/master/libretas/1f_fashion_fcn_sol.ipynb\" target=\"_parent\"><img src=\"https://colab.research.google.com/assets/colab-badge.svg\" alt=\"Open In Colab\"/></a>"
   ]
  },
  {
   "cell_type": "markdown",
   "metadata": {},
   "source": [
    "# Clasificación de Fashion-MNIST con una red densa\n",
    "\n",
    "Curso: [Introducción al Aprendizaje Profundo](http://turing.iimas.unam.mx/~ricardoml/course/iap/). Profesores: [Bere](https://turing.iimas.unam.mx/~bereml/) y [Ricardo](https://turing.iimas.unam.mx/~ricardoml/) Montalvo Lezama.\n",
    "\n",
    "---\n",
    "---\n",
    "\n",
    "En esta libreta debes entrenar dos clasificadores para el conjunto Fashion-MNIST.\n",
    "\n",
    "1. El primero usando la misma arquitectura e hiperparámetros que en el ejemplo de MNIST.\n",
    "2. En un segundo clasificador modifica la arquitectura intentando obtener un mejor desempeño.\n",
    "\n",
    "Para resolver este ejercicio emplea la clase [`FashionMNIST`](https://pytorch.org/vision/0.8/datasets.html#fashion-mnist) proporcionada por PyTorch.\n",
    "\n",
    "[Fashion-MNIST](https://github.com/zalandoresearch/fashion-mnist) es un conjunto para remplzar MNIST. Fue recolectado con la intención de proveer un conjunto un poco más dificil que MNIST.\n",
    "\n",
    "<img src=\"https://miro.medium.com/max/800/1*RNBs0OsymwAzDyYMk3_0Aw.jpeg\" width=\"600\"/>\n",
    "Conjunto Fashion-MNIST. Imagen tomada de https://medium.com/@sankarchanna2k18/fashion-mnist-data-image-classification-in-tensorflow-bd22f9e680bc."
   ]
  },
  {
   "cell_type": "markdown",
   "metadata": {},
   "source": [
    "## 1 Preparación"
   ]
  },
  {
   "cell_type": "code",
   "execution_count": 1,
   "metadata": {},
   "outputs": [
    {
     "name": "stdout",
     "output_type": "stream",
     "text": [
      "Requirement already satisfied: torchinfo in /home/richardt/.miniconda3/envs/iap/lib/python3.8/site-packages (0.0.8)\n"
     ]
    }
   ],
   "source": [
    "# biblioteca para inspeccionar arquitecturas\n",
    "# https://github.com/tyleryep/torchinfo\n",
    "!pip install torchinfo"
   ]
  },
  {
   "cell_type": "markdown",
   "metadata": {},
   "source": [
    "### 1.1 Bibliotecas"
   ]
  },
  {
   "cell_type": "code",
   "execution_count": 2,
   "metadata": {
    "colab": {},
    "colab_type": "code",
    "id": "Ny0L2LzogTN-"
   },
   "outputs": [],
   "source": [
    "# funciones aleatorias\n",
    "import random\n",
    "# tomar n elementos de una secuencia\n",
    "from itertools import islice as take\n",
    "\n",
    "# gráficas\n",
    "import matplotlib.pyplot as plt\n",
    "# arreglos multidimensionales\n",
    "import numpy as np\n",
    "# redes neuronales\n",
    "import torch\n",
    "import torch.nn as nn\n",
    "import torch.nn.functional as F\n",
    "import torch.optim as optim\n",
    "import torchvision.transforms as T\n",
    "# procesamiento de imágenes\n",
    "from skimage import io\n",
    "# redes neuronales\n",
    "from torch.utils.data import DataLoader\n",
    "from torchvision.datasets import FashionMNIST\n",
    "# inspección de arquitectura\n",
    "from torchinfo import summary\n",
    "# barras de progreso\n",
    "from tqdm import trange"
   ]
  },
  {
   "cell_type": "markdown",
   "metadata": {},
   "source": [
    "### 1.2 Auxiliares"
   ]
  },
  {
   "cell_type": "code",
   "execution_count": 3,
   "metadata": {},
   "outputs": [],
   "source": [
    "# directorio de datos\n",
    "DATA_DIR = '../data'\n",
    "\n",
    "# tamaño del lote\n",
    "BATCH_SIZE = 32\n",
    "# filas y columnas de la regilla de imágenes\n",
    "ROWS, COLS = 4, 8\n",
    "\n",
    "# Fashion-MNIST classes\n",
    "CLASSES = {\n",
    "    \"T-shirt/top\", \"Trouser\",\n",
    "    \"Pullover\", \"Dress\",\n",
    "    \"Coat\", \"Sandal\",\n",
    "    \"Shirt\", \"Sneaker\",\n",
    "    \"Bag\", \"Ankle boot\"\n",
    "}\n",
    "CLASSES = dict(enumerate(CLASSES))\n",
    "\n",
    "\n",
    "def display_grid(xs, titles, rows, cols, figsize=(12, 6)):\n",
    "    \"\"\"Displays examples in a grid.\"\"\"\n",
    "    fig, ax = plt.subplots(rows, cols, figsize=figsize)\n",
    "    i = 0\n",
    "    for r in range(rows):\n",
    "        for c in range(cols):\n",
    "            ax[r, c].imshow(xs[i], cmap='gray')\n",
    "            ax[r, c].set_title(titles[i])\n",
    "            ax[r, c].set_xticklabels([])\n",
    "            ax[r, c].set_yticklabels([])\n",
    "            i += 1\n",
    "    fig.tight_layout()\n",
    "    plt.show()\n",
    "\n",
    "\n",
    "def display_batch(x, titles, rows, cols, figsize=(12, 6)):\n",
    "    \"\"\"Displays a batch of processed examples in a grid.\"\"\"\n",
    "    # denormalizamos [0, 1] => [0, 255]\n",
    "    x *= 255\n",
    "    # rotamos canales (C x H x W) => (H x W x C)\n",
    "    x = x.permute(0, 2, 3, 1)\n",
    "    # convertimos a entero\n",
    "    x = (x.numpy()).astype(np.uint8)\n",
    "    # aplanamos canal\n",
    "    x = x.reshape(*x.shape[:3])\n",
    "    # desplegamos\n",
    "    display_grid(x, titles, rows, cols, figsize)\n",
    "\n",
    "    \n",
    "def set_seed(seed=0):\n",
    "    \"\"\"Initializes pseudo-random number generators.\"\"\"\n",
    "    random.seed(seed)\n",
    "    np.random.seed(seed)\n",
    "    torch.manual_seed(seed)\n",
    "\n",
    "    \n",
    "# reproducibilidad\n",
    "set_seed()"
   ]
  },
  {
   "cell_type": "markdown",
   "metadata": {
    "colab_type": "text",
    "id": "MjKxreAkoZeT"
   },
   "source": [
    "## 2 Datos"
   ]
  },
  {
   "cell_type": "markdown",
   "metadata": {},
   "source": [
    "### 2.1 Tuberias de datos con PyTorch\n",
    "\n",
    "<img src=\"https://raw.githubusercontent.com/bereml/iap/master/fig/mnist_pipeline.png\"/>\n",
    "&nbsp;\n",
    "Tuberia de datos para MNIST."
   ]
  },
  {
   "cell_type": "markdown",
   "metadata": {},
   "source": [
    "### 2.2 Exploración"
   ]
  },
  {
   "cell_type": "code",
   "execution_count": null,
   "metadata": {},
   "outputs": [],
   "source": []
  },
  {
   "cell_type": "code",
   "execution_count": null,
   "metadata": {},
   "outputs": [],
   "source": []
  },
  {
   "cell_type": "markdown",
   "metadata": {
    "colab_type": "text",
    "id": "9p_BsiITogUA"
   },
   "source": [
    "### 2.3 Cargadores de datos\n",
    "\n",
    "<img src=\"https://raw.githubusercontent.com/bereml/iap/master/fig/eval_trn_tst.svg\" width=\"450\"/>\n",
    "&nbsp;\n",
    "Entrenamiento con una partición de entrenamiento y prueba."
   ]
  },
  {
   "cell_type": "markdown",
   "metadata": {},
   "source": [
    "#### Entrenamiento"
   ]
  },
  {
   "cell_type": "code",
   "execution_count": null,
   "metadata": {
    "colab": {
     "base_uri": "https://localhost:8080/",
     "height": 54
    },
    "colab_type": "code",
    "id": "E1aEVpYtuadH",
    "outputId": "8df25761-3201-461a-e82b-26b5befd0302"
   },
   "outputs": [],
   "source": []
  },
  {
   "cell_type": "markdown",
   "metadata": {},
   "source": [
    "#### Prueba"
   ]
  },
  {
   "cell_type": "code",
   "execution_count": null,
   "metadata": {
    "colab": {
     "base_uri": "https://localhost:8080/",
     "height": 54
    },
    "colab_type": "code",
    "id": "QXMXXc9DPgqY",
    "outputId": "100e6a58-5552-4c5f-b08e-dc83c23c3b21"
   },
   "outputs": [],
   "source": []
  },
  {
   "cell_type": "markdown",
   "metadata": {},
   "source": [
    "## 3 Modelo\n",
    "\n",
    "<img src=\"https://raw.githubusercontent.com/bereml/iap/master/fig/fcn_arch.png\"/>\n",
    "&nbsp;\n",
    "Arquitectura de la red completamente conectada."
   ]
  },
  {
   "cell_type": "markdown",
   "metadata": {},
   "source": [
    "### 3.1 Definición de la arquitectura"
   ]
  },
  {
   "cell_type": "code",
   "execution_count": null,
   "metadata": {},
   "outputs": [],
   "source": []
  },
  {
   "cell_type": "markdown",
   "metadata": {},
   "source": [
    "### 3.2 Instancia de la arquitectura"
   ]
  },
  {
   "cell_type": "code",
   "execution_count": null,
   "metadata": {},
   "outputs": [],
   "source": []
  },
  {
   "cell_type": "code",
   "execution_count": null,
   "metadata": {},
   "outputs": [],
   "source": []
  },
  {
   "cell_type": "markdown",
   "metadata": {},
   "source": [
    "### 3.3 Inspección de la arquitectura"
   ]
  },
  {
   "cell_type": "code",
   "execution_count": null,
   "metadata": {},
   "outputs": [],
   "source": []
  },
  {
   "cell_type": "markdown",
   "metadata": {},
   "source": [
    "## 4 Entrenamiento\n",
    "\n",
    "<img src=\"https://raw.githubusercontent.com/bereml/iap/master/fig/supervisado.svg\" width=\"700\"/>\n",
    "&nbsp;\n",
    "Ciclo de entrenamiento supervisado."
   ]
  },
  {
   "cell_type": "markdown",
   "metadata": {},
   "source": [
    "### 4.1 Ciclo de entrenamiento"
   ]
  },
  {
   "cell_type": "code",
   "execution_count": null,
   "metadata": {
    "colab": {
     "base_uri": "https://localhost:8080/",
     "height": 568
    },
    "colab_type": "code",
    "id": "xCqwGRD1nz1a",
    "outputId": "7dc4823c-865a-41ee-b54b-67117e5d4e95"
   },
   "outputs": [],
   "source": []
  },
  {
   "cell_type": "markdown",
   "metadata": {},
   "source": [
    "Entrenamos un modelo:"
   ]
  },
  {
   "cell_type": "code",
   "execution_count": null,
   "metadata": {},
   "outputs": [],
   "source": []
  },
  {
   "cell_type": "markdown",
   "metadata": {},
   "source": [
    "### 4.2 Gráficas de pérdidas y exactitud"
   ]
  },
  {
   "cell_type": "code",
   "execution_count": null,
   "metadata": {},
   "outputs": [],
   "source": []
  },
  {
   "cell_type": "code",
   "execution_count": null,
   "metadata": {},
   "outputs": [],
   "source": []
  },
  {
   "cell_type": "markdown",
   "metadata": {},
   "source": [
    "## 5 Evaluación\n",
    "\n",
    "<img src=\"https://raw.githubusercontent.com/bereml/iap/master/fig/eval_trn_tst.svg\" width=\"450\"/>\n",
    "&nbsp;\n",
    "Entrenamiento con una partición de entrenamiento y prueba."
   ]
  },
  {
   "cell_type": "markdown",
   "metadata": {},
   "source": [
    "### 5.1 Evaluación final"
   ]
  },
  {
   "cell_type": "code",
   "execution_count": null,
   "metadata": {},
   "outputs": [],
   "source": []
  },
  {
   "cell_type": "markdown",
   "metadata": {},
   "source": [
    "### 5.2 Inferencia"
   ]
  },
  {
   "cell_type": "code",
   "execution_count": null,
   "metadata": {},
   "outputs": [],
   "source": []
  }
 ],
 "metadata": {
  "kernelspec": {
   "display_name": "Python 3",
   "language": "python",
   "name": "python3"
  },
  "language_info": {
   "codemirror_mode": {
    "name": "ipython",
    "version": 3
   },
   "file_extension": ".py",
   "mimetype": "text/x-python",
   "name": "python",
   "nbconvert_exporter": "python",
   "pygments_lexer": "ipython3",
   "version": "3.8.5"
  }
 },
 "nbformat": 4,
 "nbformat_minor": 4
}
