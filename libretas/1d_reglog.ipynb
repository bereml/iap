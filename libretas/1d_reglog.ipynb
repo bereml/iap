{
 "cells": [
  {
   "cell_type": "markdown",
   "metadata": {},
   "source": [
    "<a href=\"https://colab.research.google.com/github/bereml/iap/blob/master/libretas/1d_reglog.ipynb\" target=\"_parent\"><img src=\"https://colab.research.google.com/assets/colab-badge.svg\" alt=\"Open In Colab\"/></a>"
   ]
  },
  {
   "cell_type": "markdown",
   "metadata": {},
   "source": [
    "# Regresión logística\n",
    "\n",
    "Curso: [Introducción al Aprendizaje Profundo](http://turing.iimas.unam.mx/~ricardoml/course/iap/). Profesores: [Bere](https://turing.iimas.unam.mx/~bereml/) y [Ricardo](https://turing.iimas.unam.mx/~ricardoml/) Montalvo Lezama.\n",
    "\n",
    "---\n",
    "---\n",
    "\n",
    "En este ejemplo veremos como implementar regresión logisitica para un atributo. Este modelo se puede ver como la forma más simple de una red neuronal para clasificación, por lo que es importante comprenderlo a profundidad.\n",
    "\n",
    "<img src=\"https://upload.wikimedia.org/wikipedia/commons/0/04/Pierre_Francois_Verhulst.jpg\" width=\"150\"/>\n",
    "<a href=\"https://en.wikipedia.org/wiki/Pierre_Fran%C3%A7ois_Verhulst\">Pierre François Verhulst</a> desarrollo la función logística. Imagen tomada de Wikipedia."
   ]
  },
  {
   "cell_type": "markdown",
   "metadata": {},
   "source": [
    "## 1 Preparación\n",
    "\n",
    "### 1.1 Bibliotecas"
   ]
  },
  {
   "cell_type": "code",
   "execution_count": 1,
   "metadata": {},
   "outputs": [],
   "source": [
    "# sistema de archivos\n",
    "import os\n",
    "# pseudo aleatorios\n",
    "import random\n",
    "\n",
    "# gráficas\n",
    "import matplotlib.pyplot as plt\n",
    "# arreglos multidimensionales\n",
    "import numpy as np\n",
    "# csv\n",
    "import pandas as pd\n",
    "# redes neuronales\n",
    "import torch"
   ]
  },
  {
   "cell_type": "markdown",
   "metadata": {},
   "source": [
    "### 1.2 Auxiliares"
   ]
  },
  {
   "cell_type": "code",
   "execution_count": 2,
   "metadata": {},
   "outputs": [],
   "source": [
    "URL = 'https://raw.githubusercontent.com/bereml/iap/master/datos/iris.csv'\n",
    "base_dir = '../datos'\n",
    "filename = 'iris.csv'\n",
    "filepath = os.path.join(base_dir, filename)\n",
    "\n",
    "\n",
    "def set_seed(seed=0):\n",
    "    \"\"\"Initializes pseudo-random number generators.\"\"\"\n",
    "    random.seed(seed)\n",
    "    np.random.seed(seed)\n",
    "    torch.manual_seed(seed)\n",
    "\n",
    "# reproducibilidad\n",
    "set_seed()"
   ]
  },
  {
   "cell_type": "markdown",
   "metadata": {},
   "source": [
    "## 2 Datos\n",
    "\n",
    "Usaremos el conjunto de flores de [Iris](https://en.wikipedia.org/wiki/Iris_flower_data_set). Cuenta con cuatro atributos de entrada (ancho y alto de sépalo y pétalo) y tres clases de flores (setosa, versicolor, verginica). Este conjunto fue recolectado por [Ronald Fisher](https://en.wikipedia.org/wiki/Ronald_Fisher).\n",
    "\n",
    "<img src=\"https://raw.githubusercontent.com/bereml/iap/master/fig/iris.png\" width=\"500\"/>\n",
    "Fuente: Suruchi Fialoke, October 13, 2016, Classification of Iris Varieties."
   ]
  },
  {
   "cell_type": "markdown",
   "metadata": {},
   "source": [
    "### 2.1 Lectura"
   ]
  },
  {
   "cell_type": "markdown",
   "metadata": {},
   "source": [
    "Descargamos los datos."
   ]
  },
  {
   "cell_type": "code",
   "execution_count": 3,
   "metadata": {},
   "outputs": [
    {
     "name": "stdout",
     "output_type": "stream",
     "text": [
      "mkdir: cannot create directory '../datos': File exists\n",
      "File '../datos/iris.csv' already there; not retrieving.\n"
     ]
    }
   ],
   "source": [
    "! mkdir {base_dir}\n",
    "! wget -nc {URL} -O {filepath}"
   ]
  },
  {
   "cell_type": "markdown",
   "metadata": {},
   "source": [
    "Utilizamos para la lectura del csv e imprimimos los primeros 5 ejemplos."
   ]
  },
  {
   "cell_type": "code",
   "execution_count": 4,
   "metadata": {
    "scrolled": true
   },
   "outputs": [
    {
     "data": {
      "text/html": [
       "<div>\n",
       "<style scoped>\n",
       "    .dataframe tbody tr th:only-of-type {\n",
       "        vertical-align: middle;\n",
       "    }\n",
       "\n",
       "    .dataframe tbody tr th {\n",
       "        vertical-align: top;\n",
       "    }\n",
       "\n",
       "    .dataframe thead th {\n",
       "        text-align: right;\n",
       "    }\n",
       "</style>\n",
       "<table border=\"1\" class=\"dataframe\">\n",
       "  <thead>\n",
       "    <tr style=\"text-align: right;\">\n",
       "      <th></th>\n",
       "      <th>largo sépalo</th>\n",
       "      <th>ancho sépalo</th>\n",
       "      <th>largo pétalo</th>\n",
       "      <th>ancho pétalo</th>\n",
       "      <th>clase</th>\n",
       "    </tr>\n",
       "  </thead>\n",
       "  <tbody>\n",
       "    <tr>\n",
       "      <th>1</th>\n",
       "      <td>4.9</td>\n",
       "      <td>3.0</td>\n",
       "      <td>1.4</td>\n",
       "      <td>0.2</td>\n",
       "      <td>Iris-setosa</td>\n",
       "    </tr>\n",
       "    <tr>\n",
       "      <th>50</th>\n",
       "      <td>7.0</td>\n",
       "      <td>3.2</td>\n",
       "      <td>4.7</td>\n",
       "      <td>1.4</td>\n",
       "      <td>Iris-versicolor</td>\n",
       "    </tr>\n",
       "    <tr>\n",
       "      <th>51</th>\n",
       "      <td>6.4</td>\n",
       "      <td>3.2</td>\n",
       "      <td>4.5</td>\n",
       "      <td>1.5</td>\n",
       "      <td>Iris-versicolor</td>\n",
       "    </tr>\n",
       "    <tr>\n",
       "      <th>100</th>\n",
       "      <td>6.3</td>\n",
       "      <td>3.3</td>\n",
       "      <td>6.0</td>\n",
       "      <td>2.5</td>\n",
       "      <td>Iris-virginica</td>\n",
       "    </tr>\n",
       "    <tr>\n",
       "      <th>101</th>\n",
       "      <td>5.8</td>\n",
       "      <td>2.7</td>\n",
       "      <td>5.1</td>\n",
       "      <td>1.9</td>\n",
       "      <td>Iris-virginica</td>\n",
       "    </tr>\n",
       "  </tbody>\n",
       "</table>\n",
       "</div>"
      ],
      "text/plain": [
       "     largo sépalo  ancho sépalo  largo pétalo  ancho pétalo            clase\n",
       "1             4.9           3.0           1.4           0.2      Iris-setosa\n",
       "50            7.0           3.2           4.7           1.4  Iris-versicolor\n",
       "51            6.4           3.2           4.5           1.5  Iris-versicolor\n",
       "100           6.3           3.3           6.0           2.5   Iris-virginica\n",
       "101           5.8           2.7           5.1           1.9   Iris-virginica"
      ]
     },
     "execution_count": 4,
     "metadata": {},
     "output_type": "execute_result"
    }
   ],
   "source": [
    "cols = ('largo sépalo', 'ancho sépalo', 'largo pétalo', 'ancho pétalo', 'clase')\n",
    "df = pd.read_csv(filepath, names=cols)\n",
    "pd.concat((df[1:2], df[50:52], df[100:102]))"
   ]
  },
  {
   "cell_type": "markdown",
   "metadata": {},
   "source": [
    "Obtengamos el atributo y la salida:"
   ]
  },
  {
   "cell_type": "code",
   "execution_count": 5,
   "metadata": {},
   "outputs": [
    {
     "name": "stdout",
     "output_type": "stream",
     "text": [
      "torch.Size([100, 1])\n"
     ]
    },
    {
     "data": {
      "text/plain": [
       "tensor([[0.2000],\n",
       "        [0.2000],\n",
       "        [0.2000],\n",
       "        [0.2000],\n",
       "        [0.2000]])"
      ]
     },
     "execution_count": 5,
     "metadata": {},
     "output_type": "execute_result"
    }
   ],
   "source": [
    "x = torch.tensor(df.iloc[:100, 3].values)\n",
    "x = x.view(-1, 1).type(torch.float32)\n",
    "print(x.shape)\n",
    "x[:5]"
   ]
  },
  {
   "cell_type": "code",
   "execution_count": 6,
   "metadata": {},
   "outputs": [
    {
     "name": "stdout",
     "output_type": "stream",
     "text": [
      "torch.Size([100, 1])\n"
     ]
    },
    {
     "data": {
      "text/plain": [
       "tensor([[0],\n",
       "        [0],\n",
       "        [0],\n",
       "        [0],\n",
       "        [0]], dtype=torch.int32)"
      ]
     },
     "execution_count": 6,
     "metadata": {},
     "output_type": "execute_result"
    }
   ],
   "source": [
    "label2index = {'Iris-setosa': 0, 'Iris-versicolor': 1}\n",
    "y_true = [label2index[l] for l in df.iloc[:100, 4]]\n",
    "y_true = torch.tensor(y_true, dtype=torch.float32)\n",
    "y_true = y_true.view(-1, 1).type(torch.int32)\n",
    "print(y_true.shape)\n",
    "y_true[:5]"
   ]
  },
  {
   "cell_type": "markdown",
   "metadata": {},
   "source": [
    "### 2.2 Partición entrenamiento/prueba\n",
    "\n",
    "<img src=\"https://raw.githubusercontent.com/bereml/iap/master/fig/eval_trn_tst.svg\" width=\"450\"/>\n",
    "&nbsp;\n",
    "Entrenamiento con una partición de entrenamiento y prueba."
   ]
  },
  {
   "cell_type": "code",
   "execution_count": 7,
   "metadata": {},
   "outputs": [],
   "source": [
    "def partition(x, y, trn_pct=.8):\n",
    "    \"\"\"Returns a random train/test partition.\"\"\"\n",
    "    # generamos indices aleatorios\n",
    "    rand_idx = torch.randperm(x.shape[0])\n",
    "    # calculamos el tamaño de la partición de entrenamiento\n",
    "    trn_size = int(x.shape[0] * trn_pct)\n",
    "    # seleccionamos indices de entranamiento\n",
    "    trn_idx = rand_idx[:trn_size]\n",
    "    # seleccionamos indices de prueba\n",
    "    tst_idx = rand_idx[trn_size:]\n",
    "    # filtramos ejemplos de entrenamiento\n",
    "    x_trn = x[trn_idx]\n",
    "    y_trn = y[trn_idx]\n",
    "    # filtramos ejemplos de prueba\n",
    "    x_tst = x[tst_idx]\n",
    "    y_tst = y[tst_idx]\n",
    "    return x_trn, y_trn, x_tst, y_tst"
   ]
  },
  {
   "cell_type": "code",
   "execution_count": 8,
   "metadata": {},
   "outputs": [],
   "source": [
    "# partición de la clase 0\n",
    "x_trn0, y_true_trn0, x_tst0, y_true_tst0 = partition(x[:50], y_true[:50])\n",
    "# partición de la clase 1\n",
    "x_trn1, y_true_trn1, x_tst1, y_true_tst1 = partition(x[50:], y_true[50:])"
   ]
  },
  {
   "cell_type": "markdown",
   "metadata": {},
   "source": [
    "Grafiquemos para tener una idea de la distribución de la particióin :"
   ]
  },
  {
   "cell_type": "code",
   "execution_count": 9,
   "metadata": {},
   "outputs": [
    {
     "data": {
      "image/png": "[encoded data removed]",
      "text/plain": [
       "<Figure size 432x288 with 1 Axes>"
      ]
     },
     "metadata": {
      "needs_background": "light"
     },
     "output_type": "display_data"
    }
   ],
   "source": [
    "plt.plot(x_trn0.view(-1).numpy(), y_true_trn0.view(-1).numpy(), \n",
    "         'x', color='tab:blue', label='Iris-setosa trn')\n",
    "plt.plot(x_trn1.view(-1).numpy(), y_true_trn1.view(-1).numpy(),\n",
    "         'x', color='tab:purple', label='Iris-versicolor trn')\n",
    "plt.plot(x_tst0.view(-1).numpy(), y_true_tst0.view(-1).numpy(), \n",
    "         '+', color='tab:blue', label='Iris-setosa tst')\n",
    "plt.plot(x_tst1.view(-1).numpy(), y_true_tst1.view(-1).numpy(),\n",
    "         '+', color='tab:purple', label='Iris-versicolor tst')\n",
    "plt.xlabel('ancho pétalo')\n",
    "plt.ylabel('clase')\n",
    "plt.legend(loc='lower right')\n",
    "plt.show()"
   ]
  },
  {
   "cell_type": "markdown",
   "metadata": {},
   "source": [
    "Unimos las dos clases:"
   ]
  },
  {
   "cell_type": "code",
   "execution_count": 10,
   "metadata": {},
   "outputs": [],
   "source": [
    "x_trn = torch.cat([x_trn0, x_trn1])\n",
    "y_true_trn = torch.cat([y_true_trn0, y_true_trn1])\n",
    "x_tst = torch.cat([x_tst0, x_tst1])\n",
    "y_true_tst = torch.cat([y_true_tst0, y_true_tst1])"
   ]
  },
  {
   "cell_type": "code",
   "execution_count": 11,
   "metadata": {},
   "outputs": [
    {
     "data": {
      "text/plain": [
       "(80, 1)"
      ]
     },
     "execution_count": 11,
     "metadata": {},
     "output_type": "execute_result"
    }
   ],
   "source": [
    "m, d = x_trn.shape\n",
    "m, d"
   ]
  },
  {
   "cell_type": "markdown",
   "metadata": {},
   "source": [
    "## 3 Hipótesis"
   ]
  },
  {
   "cell_type": "markdown",
   "metadata": {},
   "source": [
    "Recordemos que dado un conjunto de ejemplos con atributos ($x_1, \\dots, x_d$) y salidas $y$, la hipótesis de regresión lineal considerando un plano está dada por:\n",
    "\n",
    "$$\\hat{y} = \\sigma(x_1 w_1 + \\dots +  x_d w_d + b)$$\n",
    "\n",
    "donde $w_i$ y $b$ son pesos y sesgo (parámetros) del modelo, $\\hat{y}$ la salida predicha, y $\\sigma(\\cdot)$ es la función sigmoide definida por: \n",
    "\n",
    "\n",
    "$$ \\sigma(z) =  \\frac{\\mathrm{1} }{\\mathrm{1} + e^{-z} }  $$ \n",
    "\n",
    "Podemos expresar la hipótesis en su forma vectorial como:\n",
    "\n",
    "$$\\hat{y} = \\sigma( x w + b)$$\n",
    "\n",
    "Nuestro trabajo consiste en estimar (aprender) los parámetros $w_i$ y $b$. Por el momento supongamos que proponemos valores para los parámetros y hagamos inferencia:"
   ]
  },
  {
   "cell_type": "code",
   "execution_count": 12,
   "metadata": {},
   "outputs": [
    {
     "data": {
      "image/png": "[encoded data removed]",
      "text/plain": [
       "<Figure size 432x288 with 1 Axes>"
      ]
     },
     "metadata": {
      "needs_background": "light"
     },
     "output_type": "display_data"
    }
   ],
   "source": [
    "# parámetros que nos regalo el oráculo\n",
    "w = torch.tensor([[3.4489]])\n",
    "b = torch.tensor([-2.3331])\n",
    "\n",
    "# inferencia\n",
    "x = torch.linspace(x_trn.min(), x_trn.max(), 100, dtype=torch.float32).view(-1, 1)\n",
    "y_pred = torch.sigmoid(x @ w + b)\n",
    "\n",
    "# gráfica\n",
    "plt.plot(x_trn0.view(-1).numpy(), y_true_trn0.view(-1).numpy(), \n",
    "         'x', color='tab:blue', label='Iris-setosa trn')\n",
    "plt.plot(x_trn1.view(-1).numpy(), y_true_trn1.view(-1).numpy(),\n",
    "         'x', color='tab:purple', label='Iris-versicolor trn')\n",
    "plt.plot(x_tst0.view(-1).numpy(), y_true_tst0.view(-1).numpy(), \n",
    "         '+', color='tab:blue', label='Iris-setosa tst')\n",
    "plt.plot(x_tst1.view(-1).numpy(), y_true_tst1.view(-1).numpy(),\n",
    "         '+', color='tab:purple', label='Iris-versicolor tst')\n",
    "plt.plot(x.view(-1).numpy(), y_pred.view(-1).numpy(),\n",
    "         '-', color='tab:green', label='Reglog Pred')\n",
    "plt.xlabel('ancho pétalo')\n",
    "plt.ylabel('clase')\n",
    "plt.legend(loc='lower right')\n",
    "plt.show()"
   ]
  },
  {
   "cell_type": "markdown",
   "metadata": {},
   "source": [
    "## 4 Función de pérdida\n",
    "\n",
    "La pérdida para este modelo es el error cuadrático medio y queda expresado de la siguiente manera:\n",
    "\n",
    "$$ J(w, b) = - \\frac{1}{m} \\sum_{i=1}^{m}{ \\big( y^{(i)} log(\\hat{y}^{(i)}) + (1 - y^{(i)}) log(1 - \\hat{y}^{(i)}) \\big) } $$\n",
    "\n",
    "Para los parámetros propuestos, la pérdida se puede implementar como:"
   ]
  },
  {
   "cell_type": "code",
   "execution_count": 13,
   "metadata": {},
   "outputs": [
    {
     "data": {
      "text/plain": [
       "tensor(0.1708)"
      ]
     },
     "execution_count": 13,
     "metadata": {},
     "output_type": "execute_result"
    }
   ],
   "source": [
    "y_pred_trn = torch.sigmoid(x_trn @ w + b)\n",
    "loss = - (y_true_trn * torch.log(y_pred_trn) + (1 - y_true_trn) * torch.log(1 - y_pred_trn)).mean()\n",
    "loss"
   ]
  },
  {
   "cell_type": "markdown",
   "metadata": {},
   "source": [
    "## 5 Descenso por gradiente\n",
    "\n",
    "![graddes](https://ml-cheatsheet.readthedocs.io/en/latest/_images/gradient_descent_demystified.png)\n",
    "<div style=\"text-align: center\"> https://ml-cheatsheet.readthedocs.io/en/latest/gradient_descent.html </div>\n",
    "\n",
    "El algoritmo del gradiente descendente se basa en el gradiente de la pérdida respecto de los parámetros:\n",
    "\n",
    "$$\\frac{\\partial J(w_j)}{\\partial w_j} = \\frac{1}{m} \\sum_{i=1}^{m}{x^{(i)}_j(\\hat{y}^{(i)} - y^{(i)})}$$\n",
    "\n",
    "$$\\frac{\\partial J(b)}{\\partial b} = \\frac{1}{m} \\sum_{i=1}^{m}{(\\hat{y}^{(i)} - y^{(i)})}$$\n",
    "\n",
    "en su forma vectorial:\n",
    "\n",
    "$$\\Delta J(w) = \\frac{1}{m} x^T (\\hat{y} - y)$$\n",
    "\n",
    "$$\\Delta J(b) = \\frac{1}{m} \\sum_{i=1}^{m}{(\\hat{y} - y)^{(i)}}$$\n",
    "\n",
    "Para los parámetros propuestos, el computo gradiente se puede implementar como:"
   ]
  },
  {
   "cell_type": "code",
   "execution_count": 14,
   "metadata": {},
   "outputs": [
    {
     "data": {
      "text/plain": [
       "(tensor([[-0.0448]]), tensor(0.0345))"
      ]
     },
     "execution_count": 14,
     "metadata": {},
     "output_type": "execute_result"
    }
   ],
   "source": [
    "grad_w = (x_trn.T @ (y_pred_trn - y_true_trn)) / m\n",
    "grad_b = (y_pred_trn - y_true_trn).sum() / m\n",
    "grad_w, grad_b"
   ]
  },
  {
   "cell_type": "markdown",
   "metadata": {},
   "source": [
    "## 6 Entrenamiento\n",
    "\n",
    "<img src=\"https://raw.githubusercontent.com/bereml/iap/master/fig/supervisado.svg\" width=\"700\"/>\n",
    "&nbsp;\n",
    "Ciclo de entrenamiento supervisado.\n",
    "\n",
    "&nbsp;\n",
    "\n",
    "Ahora implementemos todo en una función:"
   ]
  },
  {
   "cell_type": "code",
   "execution_count": 15,
   "metadata": {},
   "outputs": [],
   "source": [
    "def cross_entropy(y_true, y_srcs):\n",
    "    \"\"\"Computes binary cross-entropy.\"\"\"\n",
    "    return - (y_true * torch.log(y_srcs) + (1 - y_true) * torch.log(1 - y_srcs)).mean()\n",
    "\n",
    "\n",
    "def accuracy(y_true, y_pred):\n",
    "    \"\"\"Computes accuracy.\"\"\"\n",
    "    return (y_true == y_pred).type(torch.float32).mean()\n",
    "\n",
    "\n",
    "def train(x_trn, y_true_trn, x_tst, y_true_tst, alpha=0.1, steps=500):\n",
    "    \"\"\"Fits logistic regression.\"\"\"\n",
    "\n",
    "    # ejemplos, atributos\n",
    "    m, d = x.shape\n",
    "\n",
    "    # inicialización de parámetros\n",
    "    w = torch.zeros(d, 1)\n",
    "    b = torch.zeros(1)\n",
    "\n",
    "    # históricos\n",
    "    loss_trn_hist, loss_tst_hist = [], []\n",
    "    acc_trn_hist, acc_tst_hist = [], []\n",
    "\n",
    "    # ciclo de entrenamiento\n",
    "    for i in range(steps):\n",
    "        \n",
    "        # cómputo de puntajes\n",
    "        y_srcs_trn = torch.sigmoid(x_trn @ w + b)\n",
    "        y_srcs_tst = torch.sigmoid(x_tst @ w + b)\n",
    "        \n",
    "        # cómputo de clases\n",
    "        y_pred_trn = y_srcs_trn.round()\n",
    "        y_pred_tst = y_srcs_tst.round()\n",
    "\n",
    "        # cómputo de la pérdida\n",
    "        loss_trn = cross_entropy(y_true_trn, y_srcs_trn)\n",
    "        loss_tst = cross_entropy(y_true_tst, y_srcs_tst)\n",
    "\n",
    "        # cómputo de la exactitud\n",
    "        acc_trn = accuracy(y_true_trn, y_pred_trn)\n",
    "        acc_tst = accuracy(y_true_tst, y_pred_tst)\n",
    "\n",
    "        # cómputo del gradiente\n",
    "        grad_w = (x_trn.T @ (y_srcs_trn - y_true_trn)) / m\n",
    "        grad_b = (y_srcs_trn - y_true_trn).sum() / m\n",
    "\n",
    "        # actualización de parámetros\n",
    "        w = w - alpha * grad_w\n",
    "        b = b - alpha * grad_b\n",
    "\n",
    "        # históricos\n",
    "        loss_trn_hist.append(loss_trn)\n",
    "        loss_tst_hist.append(loss_tst)\n",
    "        acc_trn_hist.append(acc_trn)\n",
    "        acc_tst_hist.append(acc_tst)\n",
    "        \n",
    "    loss_hist = loss_trn_hist, loss_tst_hist\n",
    "    acc_hist = acc_trn_hist, acc_tst_hist\n",
    "\n",
    "    return w, b, loss_hist, acc_hist"
   ]
  },
  {
   "cell_type": "markdown",
   "metadata": {},
   "source": [
    "Entrenemos un modelo:"
   ]
  },
  {
   "cell_type": "code",
   "execution_count": 16,
   "metadata": {},
   "outputs": [
    {
     "data": {
      "text/plain": [
       "(tensor([[3.4489]]), tensor([-2.3331]))"
      ]
     },
     "execution_count": 16,
     "metadata": {},
     "output_type": "execute_result"
    }
   ],
   "source": [
    "w, b, loss_hist, acc_hist = train(x_trn, y_true_trn, x_tst, y_true_tst)\n",
    "w, b"
   ]
  },
  {
   "cell_type": "markdown",
   "metadata": {},
   "source": [
    "Grafiquemos la evolución de la pérdida:"
   ]
  },
  {
   "cell_type": "code",
   "execution_count": 17,
   "metadata": {},
   "outputs": [
    {
     "data": {
      "image/png": "[encoded data removed]",
      "text/plain": [
       "<Figure size 432x288 with 1 Axes>"
      ]
     },
     "metadata": {
      "needs_background": "light"
     },
     "output_type": "display_data"
    }
   ],
   "source": [
    "loss_trn_hist, loss_tst_hist = loss_hist\n",
    "plt.figure()\n",
    "plt.plot(range(len(loss_trn_hist)), loss_trn_hist, \n",
    "         'tab:orange', label='trn loss')\n",
    "plt.plot(range(len(loss_tst_hist)), loss_tst_hist, \n",
    "         'tab:red', label='tst loss')\n",
    "plt.legend(loc='upper right')\n",
    "plt.show()"
   ]
  },
  {
   "cell_type": "markdown",
   "metadata": {},
   "source": [
    "Grafiquemos la evolución de la exactitud:"
   ]
  },
  {
   "cell_type": "code",
   "execution_count": 18,
   "metadata": {},
   "outputs": [
    {
     "data": {
      "image/png": "[encoded data removed]",
      "text/plain": [
       "<Figure size 432x288 with 1 Axes>"
      ]
     },
     "metadata": {
      "needs_background": "light"
     },
     "output_type": "display_data"
    }
   ],
   "source": [
    "acc_trn_hist, acc_tst_hist = acc_hist\n",
    "plt.figure()\n",
    "plt.plot(range(len(acc_trn_hist)), acc_trn_hist, \n",
    "         'tab:green', label='trn acc')\n",
    "plt.plot(range(len(acc_tst_hist)), acc_tst_hist, \n",
    "         'tab:blue', label='tst acc')\n",
    "plt.legend(loc='lower right')\n",
    "plt.show()"
   ]
  },
  {
   "cell_type": "markdown",
   "metadata": {},
   "source": [
    "## 7 Discusión\n",
    "\n",
    "* ¿Qué pasa con el modelo si lo seguimos entrenando?\n",
    "* ¿Conoces otras métricas para medir el desempeño de un clasificador?"
   ]
  }
 ],
 "metadata": {
  "kernelspec": {
   "display_name": "Python 3",
   "language": "python",
   "name": "python3"
  },
  "language_info": {
   "codemirror_mode": {
    "name": "ipython",
    "version": 3
   },
   "file_extension": ".py",
   "mimetype": "text/x-python",
   "name": "python",
   "nbconvert_exporter": "python",
   "pygments_lexer": "ipython3",
   "version": "3.6.12"
  }
 },
 "nbformat": 4,
 "nbformat_minor": 4
}
