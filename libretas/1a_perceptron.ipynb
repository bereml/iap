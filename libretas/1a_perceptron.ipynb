{
 "cells": [
  {
   "cell_type": "markdown",
   "metadata": {
    "colab_type": "text",
    "id": "view-in-github"
   },
   "source": [
    "<a href=\"https://colab.research.google.com/github/bereml/iap/blob/master/libretas/1a_perceptron.ipynb\" target=\"_parent\"><img src=\"https://colab.research.google.com/assets/colab-badge.svg\" alt=\"Open In Colab\"/></a>"
   ]
  },
  {
   "cell_type": "markdown",
   "metadata": {
    "id": "v8X1X5KGWhZT"
   },
   "source": [
    "# Neuronas artificiales\n",
    "\n",
    "Curso: [Introducción al Aprendizaje Profundo](http://turing.iimas.unam.mx/~ricardoml/course/iap/). Profesores: [Bere](https://turing.iimas.unam.mx/~bereml/) y [Ricardo](https://turing.iimas.unam.mx/~ricardoml/) Montalvo Lezama.\n",
    "\n",
    "---\n",
    "---\n",
    "\n",
    "La neurona artificial es un modelo simplificado de la neurona natural que trata de imitar 3 aspectos principales: \n",
    "\n",
    "1. La fuerza sináptica que pondera los impulsos recibidos\n",
    "2. La acumulación de estos impulsos ponderados \n",
    "3. La activación de la neurona que produce un impulso de respuesta a su salida. \n",
    "\n",
    "La primera neurona artificial fue la llamada Unidad de Umbral Lineal propuesta en 1943 por Warren McCulloch y Walter Pitts. Este modelo presupone que tanto los valores de los atributos de entrada como los valores de salida son binarios."
   ]
  },
  {
   "cell_type": "code",
   "execution_count": 1,
   "metadata": {
    "id": "C4qjFKtZafzQ"
   },
   "outputs": [],
   "source": [
    "# arreglos multidimensionales\n",
    "import numpy as np"
   ]
  },
  {
   "cell_type": "markdown",
   "metadata": {
    "id": "8ec2lh4iaj7J"
   },
   "source": [
    "## Unidad de umbral lineal\n",
    "La operación que lleva a cabo una neurona artificial está dada por la suma pesada evaluada en una función de activación $\\phi$.  Una de las primeras funciones de activación utilizadas fue la escalón unitario, definida como\n",
    "\n",
    "$\n",
    "\\phi(x) = \\begin{cases} 1, & \\text{si } x > 0\\\\0, & \\text{en caso contrario}\\end{cases}\n",
    "$\n",
    "\n",
    "Esta se puede implementar en Python de la siguiente manera:"
   ]
  },
  {
   "cell_type": "code",
   "execution_count": 2,
   "metadata": {
    "id": "3DF3X4nFS8ze"
   },
   "outputs": [],
   "source": [
    "def step(z):\n",
    "    \"\"\"Computes step function.\"\"\"\n",
    "    return 1.0 if z > 0 else 0.0"
   ]
  },
  {
   "cell_type": "markdown",
   "metadata": {
    "id": "tHUpzFQLY8Y1"
   },
   "source": [
    "Por su parte, la suma pesada simplemente consiste en multiplicar cada entrada por su correspondiente peso y sumarle el sesgo. Esto lo podemos expresar como\n",
    "\n",
    "$\n",
    "z = w_1 \\cdot x_1 + w_2 \\cdot x_2 + \\cdots + w_d \\cdot x_d + b \n",
    "$\n",
    "\n",
    "En su forma vectorial\n",
    "\n",
    "$\n",
    "z = \\mathbf{w}^T \\mathbf{x} + b\n",
    "$\n",
    "\n",
    "Para realizar esto en Python, podemos usar la función [`np.dot`](https://numpy.org/doc/stable/reference/generated/numpy.dot.htmlhttps://www.reddit.com/r/nvidia/comments/lri6as/did_newegg_leak_the_msi_3060_or_was_this_already/https://www.reddit.com/r/nvidia/comments/lri6as/did_newegg_leak_the_msi_3060_or_was_this_already/) de Numpy de la siguiente manera `z = np.dot(w.T, x) + b`. Así, la operación de la neurona completa sería:"
   ]
  },
  {
   "cell_type": "code",
   "execution_count": 3,
   "metadata": {
    "id": "G61wzAPaT3r3"
   },
   "outputs": [],
   "source": [
    "def neuron(x, w, b):\n",
    "    \"\"\"Returns forward pass as step(`w`·`x`+`b`).\"\"\"\n",
    "    # preactivación\n",
    "    z = np.dot(w.T, x) + b\n",
    "    # activación\n",
    "    a = step(z)\n",
    "    return a"
   ]
  },
  {
   "cell_type": "markdown",
   "metadata": {
    "id": "a-VjUcwrZpmW"
   },
   "source": [
    "### Compuerta AND ($\\land$)\n",
    "Esta neurona es capaz de aproximar el operador AND, cuya salida es 1 cuando ambas entradas son 1:\n",
    "\n",
    "| $x_1$ | $x_2$ | $y$ |\n",
    "|-------|-------|-----|\n",
    "| 0     | 0     | 0   |\n",
    "| 0     | 1     | 0   |\n",
    "| 1     | 0     | 0   |\n",
    "| 1     | 1     | 1   |\n",
    "\n",
    "La neurona recibe 2 valores binarios como entrada y produce un valor binario como salida. Específicamente, la neurona calcularía\n",
    "\n",
    "$\\hat{y} = \\phi(w_1 \\cdot x_1 + w_2 \\cdot x_2 + b)$\n",
    "\n",
    "Para poder aproximar la operación AND es necesario encontrar los valores apropiados de $w_1$, $w_2$ y $b$. Una posible elección sería 10, 10 y -15 respectivamente. Verifiquemos estos valores:"
   ]
  },
  {
   "cell_type": "code",
   "execution_count": 4,
   "metadata": {
    "colab": {
     "base_uri": "https://localhost:8080/",
     "height": 137
    },
    "id": "XE5LjZh9TWcF",
    "outputId": "169ebbf7-eb7f-4c05-f7e3-fc0f98892d4a"
   },
   "outputs": [
    {
     "name": "stdout",
     "output_type": "stream",
     "text": [
      "-----------------------------\n",
      "x_1 \tx_2 \ty_hat\n",
      "-----------------------------\n",
      "0.0\t0.0\t0.0\n",
      "0.0\t1.0\t0.0\n",
      "1.0\t0.0\t0.0\n",
      "1.0\t1.0\t1.0\n"
     ]
    }
   ],
   "source": [
    "# tabla de verdad\n",
    "X = np.array([\n",
    "    [0., 0.], \n",
    "    [0., 1.], \n",
    "    [1., 0.], \n",
    "    [1., 1.]\n",
    "])\n",
    "\n",
    "# pesos y sesgo para AND\n",
    "w = np.array([10, 10]).T\n",
    "b = -15\n",
    "\n",
    "# predicción por cada ejemplo\n",
    "print('-----------------------------')\n",
    "print('x_1 \\tx_2 \\ty_hat')\n",
    "print('-----------------------------')\n",
    "for i in range(X.shape[0]):\n",
    "    x1, x2 = x = X[i]\n",
    "    y_hat = neuron(x, w, b)\n",
    "    print(f'{x1}\\t{x2}\\t{y_hat}')"
   ]
  },
  {
   "cell_type": "markdown",
   "metadata": {
    "id": "jnqeydbxeavD"
   },
   "source": [
    "### Participación: Compuerta OR ($\\lor$)\n",
    "\n",
    "Propon y evalua un conjunto de pesos y sesgo para aproximar la operación OR.\n",
    "\n",
    "| $x_1$ | $x_2$ | $y$ |\n",
    "|-------|-------|-----|\n",
    "| 0     | 0     | 0   |\n",
    "| 0     | 1     | 1   |\n",
    "| 1     | 0     | 1   |\n",
    "| 1     | 1     | 1   |"
   ]
  },
  {
   "cell_type": "code",
   "execution_count": null,
   "metadata": {
    "colab": {
     "base_uri": "https://localhost:8080/",
     "height": 137
    },
    "id": "Hdcp_-oqTc75",
    "outputId": "a470ea98-ca6d-46d6-aee6-e2da961b603c"
   },
   "outputs": [],
   "source": []
  },
  {
   "cell_type": "markdown",
   "metadata": {
    "id": "VJW4l3Gcx-j2"
   },
   "source": [
    "### Participación: Compuerta NAND \n",
    "Propon y evalua un conjunto de pesos y sesgo para aproximar la operación NAND.\n",
    "\n",
    "| $x_1$ | $x_2$ | $y$ |\n",
    "|-------|-------|-----|\n",
    "| 0     | 0     | 1   |\n",
    "| 0     | 1     | 1   |\n",
    "| 1     | 0     | 1   |\n",
    "| 1     | 1     | 0   |"
   ]
  },
  {
   "cell_type": "code",
   "execution_count": null,
   "metadata": {
    "colab": {
     "base_uri": "https://localhost:8080/",
     "height": 137
    },
    "id": "AJoT4krVyGEo",
    "outputId": "30541e00-00ca-432b-f58a-fb5f24190551"
   },
   "outputs": [],
   "source": []
  },
  {
   "cell_type": "markdown",
   "metadata": {
    "id": "sqXVXWhve5pR"
   },
   "source": [
    "## Algoritmo del perceptrón"
   ]
  },
  {
   "cell_type": "code",
   "execution_count": 5,
   "metadata": {
    "id": "i7kivF042Heh"
   },
   "outputs": [],
   "source": [
    "def perceptron_algorithm(X, y, n_epochs=10):\n",
    "    \n",
    "    # inicilizamos los pesos y sesgo\n",
    "    w_new = np.zeros(X.shape[1])\n",
    "    b_new = 0\n",
    "    \n",
    "    # entrenamiento por un numero fijo de épocas\n",
    "    for i in range(n_epochs):\n",
    "        \n",
    "        # error total\n",
    "        total_error = 0.0\n",
    "        \n",
    "        # por cada ejemplo computamos \n",
    "        # nuevos pesos y sesgo\n",
    "        for j in range(X.shape[0]):\n",
    "            \n",
    "            # guadamos los anteriores\n",
    "            w_old = w_new\n",
    "            b_old = b_new\n",
    "            \n",
    "            # computamos la predicción y error\n",
    "            y_hat = neuron(X[j], w_old, b_old)\n",
    "            error = y[j] - y_hat\n",
    "            \n",
    "            # compuamos nuevos pesos y sesgo\n",
    "            w_new = w_old + error * X[j]\n",
    "            b_new = b_old + error\n",
    "\n",
    "            # agragmos al error total\n",
    "            total_error += np.abs(error)\n",
    "\n",
    "        #imprimos el error de la época\n",
    "        total_error /= float(X.shape[0])\n",
    "        print(f\"Epoch {i}: error = {total_error}\")\n",
    "\n",
    "    # regresamos pesos y sesgo aprendidos\n",
    "    return w_new, b_new"
   ]
  },
  {
   "cell_type": "markdown",
   "metadata": {
    "id": "E8WH4x7afCKv"
   },
   "source": [
    "### Aprendiendo la operación OR"
   ]
  },
  {
   "cell_type": "markdown",
   "metadata": {
    "id": "HqukG0wL9DhC"
   },
   "source": [
    "Probemos el algoritmo del perceptrón para aprender la operación lógica OR."
   ]
  },
  {
   "cell_type": "code",
   "execution_count": 6,
   "metadata": {
    "colab": {
     "base_uri": "https://localhost:8080/",
     "height": 343
    },
    "id": "vOFZdaie9D6n",
    "outputId": "9d30af14-2e5a-4fc4-dbac-1c4cdd88d989"
   },
   "outputs": [
    {
     "name": "stdout",
     "output_type": "stream",
     "text": [
      "Epoch 0: error = 0.25\n",
      "Epoch 1: error = 0.5\n",
      "Epoch 2: error = 0.25\n",
      "Epoch 3: error = 0.0\n",
      "Epoch 4: error = 0.0\n",
      "Epoch 5: error = 0.0\n",
      "Epoch 6: error = 0.0\n",
      "Epoch 7: error = 0.0\n",
      "Epoch 8: error = 0.0\n",
      "Epoch 9: error = 0.0\n",
      "\n",
      "w_1 = 1.0, w_2 = 1.0, b = 0.0\n",
      "-----------------------------\n",
      "x_1 \tx_2 \t y\ty_hat\n",
      "-----------------------------\n",
      "0.0\t0.0\t0.0\t0.0\n",
      "0.0\t1.0\t1.0\t1.0\n",
      "1.0\t0.0\t1.0\t1.0\n",
      "1.0\t1.0\t1.0\t1.0\n"
     ]
    }
   ],
   "source": [
    "# salida para OR\n",
    "y_or = np.array([0., 1., 1., 1.]) \n",
    "\n",
    "# aprendizaje de pesos y sesgo\n",
    "w, b = perceptron_algorithm(X, y_or)\n",
    "\n",
    "# predicción por cada ejemplo\n",
    "print('\\nw_1 = {0}, w_2 = {1}, b = {2}'.format(w[0], w[1], b))\n",
    "print('-----------------------------')\n",
    "print('x_1 \\tx_2 \\t y\\ty_hat')\n",
    "print('-----------------------------')\n",
    "for i in range(X.shape[0]):\n",
    "    x1, x2 = x = X[i]\n",
    "    y_hat = neuron(x, w, b)\n",
    "    print(f'{x1}\\t{x2}\\t{y_or[i]}\\t{y_hat}')"
   ]
  },
  {
   "cell_type": "markdown",
   "metadata": {
    "id": "LSinG4G6rSCF"
   },
   "source": [
    "### Aprendiendo la operación AND\n",
    "Ahora veamos qué ocurre si en lugar de la operación OR tratamos de aprender la operación AND"
   ]
  },
  {
   "cell_type": "code",
   "execution_count": 7,
   "metadata": {
    "colab": {
     "base_uri": "https://localhost:8080/",
     "height": 343
    },
    "id": "aqyp83uorS_i",
    "outputId": "9612fe21-40e7-4b44-e35e-aed4d5ab3d09"
   },
   "outputs": [
    {
     "name": "stdout",
     "output_type": "stream",
     "text": [
      "Epoch 0: error = 0.25\n",
      "Epoch 1: error = 0.75\n",
      "Epoch 2: error = 0.75\n",
      "Epoch 3: error = 0.5\n",
      "Epoch 4: error = 0.25\n",
      "Epoch 5: error = 0.0\n",
      "Epoch 6: error = 0.0\n",
      "Epoch 7: error = 0.0\n",
      "Epoch 8: error = 0.0\n",
      "Epoch 9: error = 0.0\n",
      "\n",
      "w_1 = 2.0, w_2 = 1.0, b = -2.0\n",
      "-----------------------------\n",
      "x_1 \tx_2 \t y\ty_hat\n",
      "-----------------------------\n",
      "0.0\t0.0\t0.0\t0.0\n",
      "0.0\t1.0\t0.0\t0.0\n",
      "1.0\t0.0\t0.0\t0.0\n",
      "1.0\t1.0\t1.0\t1.0\n"
     ]
    }
   ],
   "source": [
    "# salida de AND\n",
    "y_and = np.array([0., 0., 0., 1.])\n",
    "\n",
    "# aprendizaje de pesos y sesgo\n",
    "w, b = perceptron_algorithm(X, y_and)\n",
    "\n",
    "print('\\nw_1 = {0}, w_2 = {1}, b = {2}'.format(w[0], w[1], b))\n",
    "print('-----------------------------')\n",
    "print('x_1 \\tx_2 \\t y\\ty_hat')\n",
    "print('-----------------------------')\n",
    "for i in range(X.shape[0]):\n",
    "    x1, x2 = x = X[i]\n",
    "    y_hat = neuron(x, w, b)\n",
    "    print(f'{x1}\\t{x2}\\t{y_and[i]}\\t{y_hat}')"
   ]
  },
  {
   "cell_type": "markdown",
   "metadata": {
    "id": "c406Vb4Rz2bm"
   },
   "source": [
    "## Aproximando funciones no lineales: XOR ($\\oplus$)\n",
    "Minsky y Papert mostraron que una neurona del tipo LTU no puede aproximar de forma precisa una función no lineal como la compuerta XOR ($\\oplus$):\n",
    "\n",
    "| $x_1$ | $x_2$ | $y$ |\n",
    "|-------|-------|-----|\n",
    "| 0     | 0     | 0   |\n",
    "| 0     | 1     | 1   |\n",
    "| 1     | 0     | 1   |\n",
    "| 1     | 1     | 0   |\n",
    "\n",
    "Sin embargo, es posible aproximar este tipo  combinando múltiples LTU conectadas en red. Por ejemplo, es posible llevar a cabo la operación XOR con operaciones OR, AND y NAND en la siguiente ecuación:\n",
    "\n",
    "$x_1 \\mathbin{\\oplus} x_2 = (x_1 \\lor x_2) \\land \\neg(x_1 \\land x_2)$\n",
    "\n",
    "que podemos diagramar de la siguiente forma:\n",
    "\n",
    "\n",
    "<img src=\"https://raw.githubusercontent.com/bereml/iap/master/fig/xor.svg\" width=\"350\"> \n",
    "\n",
    "Esto lo llevamos a cabo con la siguiente función:"
   ]
  },
  {
   "cell_type": "code",
   "execution_count": 8,
   "metadata": {
    "id": "Ucf4fSl01XTA"
   },
   "outputs": [],
   "source": [
    "# vectorizamos la función para que\n",
    "# aplique a un arreglo de entradas\n",
    "step_vec = np.vectorize(step)\n",
    "\n",
    "# red con dos capas\n",
    "# capa 1: OR y NAND\n",
    "# capa 2: AND\n",
    "def multi_layer(x, W1, b1, W2, b2):\n",
    "    # capa 1\n",
    "    z1 = np.dot(W1.T, x) + b1\n",
    "    a1 = step_vec(z1)\n",
    "    # capa 2\n",
    "    z2 = np.dot(W2.T, a1) + b2\n",
    "    a2 = step_vec(z2)\n",
    "    return a2"
   ]
  },
  {
   "cell_type": "markdown",
   "metadata": {
    "id": "HbStOf7Qif1P"
   },
   "source": [
    "Encontrando los valores de pesos y sesgos adecuados, podemos usar esta función para aproximar la operación XOR. Ya hemos encontrado los pesos y sesgos para las operaciones OR, AND y NAND, por lo que podemos usar estas neuronas con sus correspondientes pesos y sesgos. La red tendría 2 neuronas conectadas a las entradas que realizan las operaciones OR ($w_{11}^{\\{1\\}} = 10$, $w_{12}^{\\{1\\}} = 10$ y $b_1^{\\{1\\}} = -5$)  y NAND ($w_{21}^{\\{1\\}} = -10$, $w_{22}^{\\{1\\}} = -10$ y $b_2^{\\{1\\}} = 15$) respectivamente. La salida de estas 2 neuronas estarían conectadas a una tercera neurona que realiza la operacioón AND ($w_{11}^{\\{2\\}} = 10$, $w_{12}^{\\{2\\}} = 10$ y $b_1^{\\{2\\}} = -15$). En su forma matricial:\n",
    "\n",
    "$$\n",
    "\\mathbf{W}^{\\{1\\}} = \\left[\\begin{matrix} \n",
    "10 & -10\\\\\n",
    "10 & -10\n",
    "\\end{matrix}\\right] \n",
    "$$\n",
    "\n",
    "$$\n",
    "\\mathbf{b}^{\\{1\\}} = \\left[\\begin{matrix} \n",
    "-5 \\\\\n",
    "15\n",
    "\\end{matrix}\\right] \n",
    "$$\n",
    "\n",
    "$$\n",
    "\\mathbf{W}^{\\{2\\}} = \\left[\\begin{matrix} \n",
    "10\\\\\n",
    "10\n",
    "\\end{matrix}\\right] \n",
    "$$\n",
    "\n",
    "$$\n",
    "\\mathbf{b}^{\\{2\\}} = \\left[\\begin{matrix} \n",
    "-15\\\\\n",
    "\\end{matrix}\\right] \n",
    "$$"
   ]
  },
  {
   "cell_type": "code",
   "execution_count": 9,
   "metadata": {
    "colab": {
     "base_uri": "https://localhost:8080/",
     "height": 171
    },
    "id": "3OtTynPBsPax",
    "outputId": "ec05ead3-8dd8-4510-8950-ba1b7c2d877c"
   },
   "outputs": [
    {
     "name": "stdout",
     "output_type": "stream",
     "text": [
      "Pesos y sesgos para compuertas OR y NAND\n",
      "W_1 = [[ 10 -10][ 10 -10]], b_1 = [-5 15]\n",
      "Pesos y sesgos para compuerta AND\n",
      "W_2 = [[10][10]], b_2 = [-15]\n",
      "-----------------------------\n",
      "x_1 \tx_2 \ty\ty_hat\n",
      "-----------------------------\n",
      "0.0\t0.0\t0.0\t0.0\n",
      "0.0\t1.0\t1.0\t1.0\n",
      "1.0\t0.0\t1.0\t1.0\n",
      "1.0\t1.0\t0.0\t0.0\n"
     ]
    }
   ],
   "source": [
    "# salida de XOR\n",
    "y_xor = np.array([0., 1., 1., 0.])\n",
    "\n",
    "# pesos y sesgo para la primera capa\n",
    "# compuertas OR y NAND\n",
    "W1 = np.array([[10, 10], [-10, -10]]).T\n",
    "b1 = np.array([-5, 15])\n",
    "# pesos y sesgo para la segunda capa\n",
    "# compuerta AND\n",
    "W2 = np.array([[10], [10]])\n",
    "b2 = np.array([-15])\n",
    "\n",
    "print('Pesos y sesgos para compuertas OR y NAND')\n",
    "print('W_1 = [{0}{1}], b_1 = {2}'.format(W1[0, :], W1[1, :], b1))\n",
    "print('Pesos y sesgos para compuerta AND')\n",
    "print('W_2 = [{0}{1}], b_2 = {2}'.format(W2[0], W2[1], b2))\n",
    "print('-----------------------------')\n",
    "print('x_1 \\tx_2 \\ty\\ty_hat')\n",
    "print('-----------------------------')\n",
    "for i in range(X.shape[0]):\n",
    "    x1, x2 = x = X[i]\n",
    "    y_hat = multi_layer(x, W1, b1, W2, b2)\n",
    "    print(f'{x1}\\t{x2}\\t{y_xor[i]}\\t{y_hat[0]}')"
   ]
  }
 ],
 "metadata": {
  "accelerator": "GPU",
  "colab": {
   "collapsed_sections": [],
   "include_colab_link": true,
   "name": "1b_perceptron.ipynb",
   "provenance": []
  },
  "kernelspec": {
   "display_name": "Python 3",
   "language": "python",
   "name": "python3"
  },
  "language_info": {
   "codemirror_mode": {
    "name": "ipython",
    "version": 3
   },
   "file_extension": ".py",
   "mimetype": "text/x-python",
   "name": "python",
   "nbconvert_exporter": "python",
   "pygments_lexer": "ipython3",
   "version": "3.8.5"
  }
 },
 "nbformat": 4,
 "nbformat_minor": 4
}
