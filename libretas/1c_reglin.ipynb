{
 "cells": [
  {
   "cell_type": "markdown",
   "metadata": {},
   "source": [
    "<a href=\"https://colab.research.google.com/github/bereml/iap/blob/master/libretas/1c_reglin.ipynb\" target=\"_parent\"><img src=\"https://colab.research.google.com/assets/colab-badge.svg\" alt=\"Open In Colab\"/></a>"
   ]
  },
  {
   "cell_type": "markdown",
   "metadata": {},
   "source": [
    "# Regresión lineal\n",
    "\n",
    "Curso: [Introducción al Aprendizaje Profundo](http://turing.iimas.unam.mx/~ricardoml/course/iap/). Profesores: [Bere](https://turing.iimas.unam.mx/~bereml/) y [Ricardo](https://turing.iimas.unam.mx/~ricardoml/) Montalvo Lezama.\n",
    "\n",
    "---\n",
    "---\n",
    "\n",
    "En esta libreta implementaremos el modelo regresión lineal sobre un conjunto de datos de calificaciones, lo que deseamos predecir es que calificación tendrá el alumno en un examen. El conjunto de datos posee dos atributos entrada: la calificación que obtuvo en un examen previo y el número de horas que estudio el alumno para presentar el examen. En este ejemplo consideraremos únicamente un atributo de entrada, el número de horas de estudio.\n",
    "\n",
    "![xkcd-linreg](https://imgs.xkcd.com/comics/linear_regression.png)\n",
    "<div> https://xkcd.com/1725/ </div>"
   ]
  },
  {
   "cell_type": "markdown",
   "metadata": {},
   "source": [
    "## 1 Preparación\n",
    "\n",
    "### 1.1 Bibliotecas"
   ]
  },
  {
   "cell_type": "code",
   "execution_count": 1,
   "metadata": {},
   "outputs": [],
   "source": [
    "# sistema de archivos\n",
    "import os\n",
    "\n",
    "# gráficas\n",
    "import matplotlib.pyplot as plt\n",
    "# csv\n",
    "import pandas as pd\n",
    "# redes neuronales\n",
    "import torch"
   ]
  },
  {
   "cell_type": "markdown",
   "metadata": {},
   "source": [
    "### 1.2 Auxiliares"
   ]
  },
  {
   "cell_type": "code",
   "execution_count": 2,
   "metadata": {},
   "outputs": [],
   "source": [
    "URL = 'https://raw.githubusercontent.com/bereml/iap/master/datos/califs.csv'\n",
    "base_dir = '../datos'\n",
    "filename = 'califs.csv'\n",
    "filepath = os.path.join(base_dir, filename)"
   ]
  },
  {
   "cell_type": "markdown",
   "metadata": {},
   "source": [
    "## 2 Datos"
   ]
  },
  {
   "cell_type": "markdown",
   "metadata": {},
   "source": [
    "Descargamos los datos."
   ]
  },
  {
   "cell_type": "code",
   "execution_count": 3,
   "metadata": {},
   "outputs": [
    {
     "name": "stdout",
     "output_type": "stream",
     "text": [
      "File '../datos/califs.csv' already there; not retrieving.\n"
     ]
    }
   ],
   "source": [
    "! wget -nc {URL} -O {filepath}"
   ]
  },
  {
   "cell_type": "markdown",
   "metadata": {},
   "source": [
    "Utilizamos para la lectura del csv e imprimimos los primeros 5 ejemplos."
   ]
  },
  {
   "cell_type": "code",
   "execution_count": 4,
   "metadata": {
    "scrolled": true
   },
   "outputs": [
    {
     "data": {
      "text/html": [
       "<div>\n",
       "<style scoped>\n",
       "    .dataframe tbody tr th:only-of-type {\n",
       "        vertical-align: middle;\n",
       "    }\n",
       "\n",
       "    .dataframe tbody tr th {\n",
       "        vertical-align: top;\n",
       "    }\n",
       "\n",
       "    .dataframe thead th {\n",
       "        text-align: right;\n",
       "    }\n",
       "</style>\n",
       "<table border=\"1\" class=\"dataframe\">\n",
       "  <thead>\n",
       "    <tr style=\"text-align: right;\">\n",
       "      <th></th>\n",
       "      <th>prev</th>\n",
       "      <th>horas</th>\n",
       "      <th>calif</th>\n",
       "    </tr>\n",
       "  </thead>\n",
       "  <tbody>\n",
       "    <tr>\n",
       "      <th>0</th>\n",
       "      <td>5.6</td>\n",
       "      <td>8.2</td>\n",
       "      <td>5.1</td>\n",
       "    </tr>\n",
       "    <tr>\n",
       "      <th>1</th>\n",
       "      <td>6.7</td>\n",
       "      <td>9.3</td>\n",
       "      <td>5.9</td>\n",
       "    </tr>\n",
       "    <tr>\n",
       "      <th>2</th>\n",
       "      <td>5.1</td>\n",
       "      <td>10.0</td>\n",
       "      <td>5.4</td>\n",
       "    </tr>\n",
       "    <tr>\n",
       "      <th>3</th>\n",
       "      <td>5.7</td>\n",
       "      <td>10.4</td>\n",
       "      <td>6.5</td>\n",
       "    </tr>\n",
       "    <tr>\n",
       "      <th>4</th>\n",
       "      <td>7.1</td>\n",
       "      <td>10.4</td>\n",
       "      <td>6.7</td>\n",
       "    </tr>\n",
       "  </tbody>\n",
       "</table>\n",
       "</div>"
      ],
      "text/plain": [
       "   prev  horas  calif\n",
       "0   5.6    8.2    5.1\n",
       "1   6.7    9.3    5.9\n",
       "2   5.1   10.0    5.4\n",
       "3   5.7   10.4    6.5\n",
       "4   7.1   10.4    6.7"
      ]
     },
     "execution_count": 4,
     "metadata": {},
     "output_type": "execute_result"
    }
   ],
   "source": [
    "df = pd.read_csv(filepath)\n",
    "df.head(5)"
   ]
  },
  {
   "cell_type": "markdown",
   "metadata": {},
   "source": [
    "Obtengamos el atributo y la salida:"
   ]
  },
  {
   "cell_type": "code",
   "execution_count": 5,
   "metadata": {},
   "outputs": [
    {
     "name": "stdout",
     "output_type": "stream",
     "text": [
      "torch.Size([50, 1])\n"
     ]
    },
    {
     "data": {
      "text/plain": [
       "tensor([[ 8.2000],\n",
       "        [ 9.3000],\n",
       "        [10.0000],\n",
       "        [10.4000],\n",
       "        [10.4000]])"
      ]
     },
     "execution_count": 5,
     "metadata": {},
     "output_type": "execute_result"
    }
   ],
   "source": [
    "x = torch.tensor(df.iloc[:, 1].values)\n",
    "x = x.view(-1, 1).type(torch.float32)\n",
    "print(x.shape)\n",
    "x[:5]"
   ]
  },
  {
   "cell_type": "code",
   "execution_count": 6,
   "metadata": {},
   "outputs": [
    {
     "name": "stdout",
     "output_type": "stream",
     "text": [
      "torch.Size([50, 1])\n"
     ]
    },
    {
     "data": {
      "text/plain": [
       "tensor([[5.1000],\n",
       "        [5.9000],\n",
       "        [5.4000],\n",
       "        [6.5000],\n",
       "        [6.7000]])"
      ]
     },
     "execution_count": 6,
     "metadata": {},
     "output_type": "execute_result"
    }
   ],
   "source": [
    "y_true = torch.tensor(df.iloc[:, 2].values)\n",
    "y_true = y_true.view(-1, 1).type(torch.float32)\n",
    "print(y_true.shape)\n",
    "y_true[:5]"
   ]
  },
  {
   "cell_type": "code",
   "execution_count": 7,
   "metadata": {},
   "outputs": [
    {
     "data": {
      "text/plain": [
       "(50, 1)"
      ]
     },
     "execution_count": 7,
     "metadata": {},
     "output_type": "execute_result"
    }
   ],
   "source": [
    "# número de ejemplos y atributos\n",
    "m, d = x.shape\n",
    "m, d"
   ]
  },
  {
   "cell_type": "markdown",
   "metadata": {},
   "source": [
    "Grafiquemos para tener una idea de la distribución de los datos:"
   ]
  },
  {
   "cell_type": "code",
   "execution_count": 8,
   "metadata": {},
   "outputs": [
    {
     "data": {
      "image/png": "[encoded data removed]",
      "text/plain": [
       "<Figure size 432x288 with 1 Axes>"
      ]
     },
     "metadata": {
      "needs_background": "light"
     },
     "output_type": "display_data"
    }
   ],
   "source": [
    "plt.plot(x.view(-1).numpy(), y_true.view(-1).numpy(), \n",
    "         '.', color='tab:blue', markersize=8)\n",
    "plt.xlabel('horas de estudio')\n",
    "plt.ylabel('calificación')\n",
    "plt.show()"
   ]
  },
  {
   "cell_type": "markdown",
   "metadata": {},
   "source": [
    "## 3 Hipótesis"
   ]
  },
  {
   "cell_type": "markdown",
   "metadata": {},
   "source": [
    "Recordemos que dado un conjunto de ejemplos con atributos ($x_1, \\dots, x_d$) y salidas $y$, la hipótesis de regresión lineal considerando un plano está dada por:\n",
    "\n",
    "$$\\hat{y} = w_1 x_1 + \\dots + w_d x_d + b$$\n",
    "\n",
    "donde $w_i$ y $b$ son pesos y sesgo (parámetros) del modelo y $\\hat{y}$ la salida predicha. Podemos expresar la hipótesis en su forma vectorial como:\n",
    "\n",
    "$$\\hat{y} = w x + b$$\n",
    "\n",
    "Nuestro trabajo consiste en estimar (aprender) los parámetros $w_i$ y $b$. Por el momento supongamos que proponemos valores para los parámetros y hagamos inferencia:"
   ]
  },
  {
   "cell_type": "code",
   "execution_count": 9,
   "metadata": {},
   "outputs": [
    {
     "data": {
      "image/png": "[encoded data removed]",
      "text/plain": [
       "<Figure size 432x288 with 1 Axes>"
      ]
     },
     "metadata": {
      "needs_background": "light"
     },
     "output_type": "display_data"
    }
   ],
   "source": [
    "# parámetros que nos regalo el oráculo\n",
    "w = torch.tensor([[0.6030]])\n",
    "b = torch.tensor([0.0496])\n",
    "\n",
    "# inferencia\n",
    "y_pred = x @ w + b\n",
    "\n",
    "# gráfica\n",
    "plt.plot(x.view(-1).numpy(), y_true.view(-1).numpy(), \n",
    "         '.', color='tab:blue', markersize=8)\n",
    "plt.plot(x.view(-1).numpy(), y_pred.view(-1).numpy(), \n",
    "         '-', color='tab:green', markersize=8)\n",
    "plt.xlabel('horas de estudio')\n",
    "plt.ylabel('calificación')\n",
    "plt.show()"
   ]
  },
  {
   "cell_type": "markdown",
   "metadata": {},
   "source": [
    "## 4 Función de pérdida\n",
    "\n",
    "La pérdida para este modelo es el error cuadrático medio y queda expresado de la siguiente manera:\n",
    "\n",
    "$$ J(w, b) = \\frac{1}{2m}  \\sum_{i=1}^{m}{(\\hat{y}^{(i)} - y^{(i)})^2} $$\n",
    "\n",
    "en su forma vectorial:\n",
    "\n",
    "$$ J(w, b) = \\frac{1}{2m} (\\hat{y} - y)^T (\\hat{y} - y) $$\n",
    "\n",
    "Para los parámetros propuestos, la pérdida se puede implementar como:"
   ]
  },
  {
   "cell_type": "code",
   "execution_count": 10,
   "metadata": {},
   "outputs": [
    {
     "data": {
      "text/plain": [
       "tensor([[0.1176]])"
      ]
     },
     "execution_count": 10,
     "metadata": {},
     "output_type": "execute_result"
    }
   ],
   "source": [
    "loss = (y_pred - y_true).T @ (y_pred - y_true) / (2 * m)\n",
    "loss"
   ]
  },
  {
   "cell_type": "markdown",
   "metadata": {},
   "source": [
    "## 5 Descenso por gradiente\n",
    "\n",
    "![graddes](https://ml-cheatsheet.readthedocs.io/en/latest/_images/gradient_descent_demystified.png)\n",
    "<div> https://ml-cheatsheet.readthedocs.io/en/latest/gradient_descent.html </div>\n",
    "&nbsp;\n",
    "\n",
    "El algoritmo del gradiente descendente se basa en el gradiente de la pérdida respecto de los parámetros:\n",
    "\n",
    "$$\\frac{\\partial J(w_j)}{\\partial w_j} = \\frac{1}{m} \\sum_{i=1}^{m}{x^{(i)}_j(\\hat{y}^{(i)} - y^{(i)})}$$\n",
    "\n",
    "$$\\frac{\\partial J(b)}{\\partial b} = \\frac{1}{m} \\sum_{i=1}^{m}{(\\hat{y}^{(i)} - y^{(i)})}$$\n",
    "\n",
    "en su forma vectorial:\n",
    "\n",
    "$$\\Delta J(w) = \\frac{1}{m} x^T (\\hat{y} - y)$$\n",
    "\n",
    "$$\\Delta J(b) = \\frac{1}{m} \\sum_{i=1}^{m}{(\\hat{y} - y)^{(i)}}$$\n",
    "\n",
    "Para los parámetros propuestos, el computo gradiente se puede implementar como:"
   ]
  },
  {
   "cell_type": "code",
   "execution_count": 11,
   "metadata": {},
   "outputs": [
    {
     "data": {
      "text/plain": [
       "(tensor([[-0.0390]]), tensor(-0.0028))"
      ]
     },
     "execution_count": 11,
     "metadata": {},
     "output_type": "execute_result"
    }
   ],
   "source": [
    "grad_w = (x.T @ (y_pred - y_true)) / m\n",
    "grad_b = (y_pred - y_true).sum() / m\n",
    "grad_w, grad_b"
   ]
  },
  {
   "cell_type": "markdown",
   "metadata": {},
   "source": [
    "## 6 Entrenamiento\n",
    "\n",
    "Ahora implementemos todo en una función:"
   ]
  },
  {
   "cell_type": "code",
   "execution_count": 12,
   "metadata": {},
   "outputs": [],
   "source": [
    "def train(x, y_true, alpha=0.01, steps=10):\n",
    "    \"\"\"Fits linear regression.\"\"\"\n",
    "\n",
    "    # ejemplos, atributos\n",
    "    m, d = x.shape\n",
    "\n",
    "    # inicialización de parámetros\n",
    "    w = torch.zeros(d, 1)\n",
    "    b = torch.zeros(1)\n",
    "\n",
    "    # histórico de pérdidas\n",
    "    loss_hist = []\n",
    "\n",
    "    # ciclo de entrenamiento\n",
    "    for i in range(steps):\n",
    "\n",
    "        # cómputo de la hipótesis\n",
    "        y_pred = x @ w + b\n",
    "\n",
    "        # cómputo de la pérdida\n",
    "        loss = (y_pred - y_true).T @ (y_pred - y_true) / (2 * m)\n",
    "\n",
    "        # cómputo del gradiente\n",
    "        grad_w = (x.T @ (y_pred - y_true)) / m\n",
    "        grad_b = (y_pred - y_true).sum() / m\n",
    "\n",
    "        # actualización de parámetros\n",
    "        w = w - alpha * grad_w\n",
    "        b = b - alpha * grad_b\n",
    "\n",
    "        # histórico de pérdida\n",
    "        loss_hist.append(loss)\n",
    "\n",
    "    return w, b, loss_hist"
   ]
  },
  {
   "cell_type": "markdown",
   "metadata": {},
   "source": [
    "Entrenemos un modelo:"
   ]
  },
  {
   "cell_type": "code",
   "execution_count": 13,
   "metadata": {},
   "outputs": [
    {
     "data": {
      "text/plain": [
       "(tensor([[0.6030]]), tensor([0.0496]))"
      ]
     },
     "execution_count": 13,
     "metadata": {},
     "output_type": "execute_result"
    }
   ],
   "source": [
    "w, b, loss_hist = train(x, y_true)\n",
    "w, b"
   ]
  },
  {
   "cell_type": "markdown",
   "metadata": {},
   "source": [
    "Grafiquemos la evolución de la pérdida:"
   ]
  },
  {
   "cell_type": "code",
   "execution_count": 14,
   "metadata": {},
   "outputs": [
    {
     "data": {
      "image/png": "[encoded data removed]",
      "text/plain": [
       "<Figure size 432x288 with 1 Axes>"
      ]
     },
     "metadata": {
      "needs_background": "light"
     },
     "output_type": "display_data"
    }
   ],
   "source": [
    "plt.figure()\n",
    "plt.plot(range(len(loss_hist)), loss_hist, color='tab:red')\n",
    "plt.show()"
   ]
  },
  {
   "cell_type": "markdown",
   "metadata": {},
   "source": [
    "## 7 Discusión\n",
    "\n",
    "* ¿De qué otra forma podemos inicilizar los parámetros?\n",
    "* ¿Cómo influye la tasa de aprendizaje?\n",
    "* ¿Cómo elejimos el número de pasos de entrenamiento?"
   ]
  }
 ],
 "metadata": {
  "kernelspec": {
   "display_name": "Python 3",
   "language": "python",
   "name": "python3"
  },
  "language_info": {
   "codemirror_mode": {
    "name": "ipython",
    "version": 3
   },
   "file_extension": ".py",
   "mimetype": "text/x-python",
   "name": "python",
   "nbconvert_exporter": "python",
   "pygments_lexer": "ipython3",
   "version": "3.8.5"
  }
 },
 "nbformat": 4,
 "nbformat_minor": 4
}
