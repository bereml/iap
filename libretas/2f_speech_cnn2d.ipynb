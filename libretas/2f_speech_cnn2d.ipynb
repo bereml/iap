{
 "cells": [
  {
   "cell_type": "markdown",
   "metadata": {
    "colab_type": "text",
    "id": "view-in-github"
   },
   "source": [
    "<a href=\"https://colab.research.google.com/github/bereml/iap/blob/master/libretas/2f_speech_cnn2d.ipynb\" target=\"_parent\"><img src=\"https://colab.research.google.com/assets/colab-badge.svg\" alt=\"Open In Colab\"/></a>"
   ]
  },
  {
   "cell_type": "markdown",
   "metadata": {},
   "source": [
    "# Reconocimiento de comandos de voz con CNN 2D\n",
    "\n",
    "Curso: [Introducción al Aprendizaje Profundo](http://turing.iimas.unam.mx/~ricardoml/course/iap/). Profesores: [Bere](https://turing.iimas.unam.mx/~bereml/) y [Ricardo](https://turing.iimas.unam.mx/~ricardoml/) Montalvo Lezama.\n",
    "\n",
    "---\n",
    "---\n",
    "\n",
    "En esta libreta veremos un ejemplo de clasificación de audio empleando espectrogramas y redes convolucionales 2D.\n",
    "\n",
    "[Speech Commands](https://arxiv.org/abs/1804.03209) es un conjunto de comandos de voz (palabras) con más de 100k ejemplos. Cada audio dura alrededor de 1 segundo y tienen un solo canal de voz con una frecuencia de muestreo de 16000hz.\n",
    "\n",
    "<img src=\"https://d3i71xaburhd42.cloudfront.net/da6e404d8911b0e5785019a79dc8607e0b313dc4/7-Figure1-1.png\"  style=\"width: 200px;\" />"
   ]
  },
  {
   "cell_type": "markdown",
   "metadata": {},
   "source": [
    "## 1. Preparación"
   ]
  },
  {
   "cell_type": "code",
   "execution_count": 1,
   "metadata": {},
   "outputs": [
    {
     "name": "stdout",
     "output_type": "stream",
     "text": [
      "Requirement already satisfied: torchinfo in /home/richardt/.miniconda3/lib/python3.8/site-packages (0.0.5)\n"
     ]
    }
   ],
   "source": [
    "# Colab\n",
    "! pip install torchinfo\n",
    "try:\n",
    "    import torchaudio\n",
    "except:\n",
    "    ! pip install torchaudio"
   ]
  },
  {
   "cell_type": "markdown",
   "metadata": {},
   "source": [
    "### 1.1. Bibliotecas"
   ]
  },
  {
   "cell_type": "code",
   "execution_count": 2,
   "metadata": {
    "colab": {},
    "colab_type": "code",
    "id": "Ny0L2LzogTN-"
   },
   "outputs": [],
   "source": [
    "# funciones aleatorias\n",
    "import random\n",
    "# tomar n elementos de una secuencia\n",
    "from itertools import islice as take\n",
    "\n",
    "# audio\n",
    "import librosa\n",
    "import librosa.display\n",
    "\n",
    "# gráficas\n",
    "import matplotlib.pyplot as plt\n",
    "# arreglos multidimensionales\n",
    "import numpy as np\n",
    "\n",
    "# redes neuronales\n",
    "import torch\n",
    "import torch.nn as nn\n",
    "import torch.nn.functional as F\n",
    "import torch.optim as optim\n",
    "# redes audio\n",
    "import torchaudio\n",
    "import torchaudio.transforms as T\n",
    "# redes visión\n",
    "import torchvision.models as tvm\n",
    "\n",
    "# redes neuronales\n",
    "from torch.utils.data import DataLoader\n",
    "from torchaudio.datasets import SPEECHCOMMANDS\n",
    "# inspección de arquitectura\n",
    "from torchinfo import summary\n",
    "\n",
    "# barras de progreso\n",
    "from tqdm.auto import trange"
   ]
  },
  {
   "cell_type": "markdown",
   "metadata": {},
   "source": [
    "### 1.2. Auxiliares"
   ]
  },
  {
   "cell_type": "code",
   "execution_count": 3,
   "metadata": {},
   "outputs": [],
   "source": [
    "# directorio de datos\n",
    "DATA_DIR = '../datos/speech_commands'\n",
    "\n",
    "# tamaño del lote\n",
    "BATCH_SIZE = 32\n",
    "\n",
    "# parámetros de audio\n",
    "SECS = 1\n",
    "SAMPLE_RATE = 16000\n",
    "\n",
    "# parámetros FFT\n",
    "N_FFT = 400\n",
    "HOP_LENGTH = N_FFT // 2\n",
    "\n",
    "# SpeechCommands classes\n",
    "CLASSES = (\n",
    "    'backward', 'bed', 'bird', 'cat', 'dog',\n",
    "    'down', 'eight', 'five', 'follow', 'forward',\n",
    "    'four', 'go', 'happy', 'house', 'learn', \n",
    "    'left', 'marvin', 'nine', 'no', 'off', \n",
    "    'on', 'one', 'right', 'seven', 'sheila',\n",
    "    'six', 'stop', 'three', 'tree', 'two',\n",
    "    'up', 'visual', 'wow', 'yes', 'zero'\n",
    ")\n",
    "NUM_CLASSES = len(CLASSES)\n",
    "CLASS_IDX = {c: i for i, c in enumerate(CLASSES)}\n",
    "\n",
    "    \n",
    "def set_seed(seed=0):\n",
    "    \"\"\"Initializes pseudo-random number generators.\"\"\"\n",
    "    random.seed(seed)\n",
    "    np.random.seed(seed)\n",
    "    torch.manual_seed(seed)\n",
    "\n",
    "    \n",
    "# reproducibilidad\n",
    "set_seed()"
   ]
  },
  {
   "cell_type": "markdown",
   "metadata": {
    "colab_type": "text",
    "id": "MjKxreAkoZeT"
   },
   "source": [
    "## 2. Datos"
   ]
  },
  {
   "cell_type": "markdown",
   "metadata": {},
   "source": [
    "### 2.1. Descarga"
   ]
  },
  {
   "cell_type": "code",
   "execution_count": 4,
   "metadata": {},
   "outputs": [],
   "source": [
    "! mkdir -p {DATA_DIR}"
   ]
  },
  {
   "cell_type": "code",
   "execution_count": 5,
   "metadata": {},
   "outputs": [],
   "source": [
    "ds = SPEECHCOMMANDS(DATA_DIR, download=True)"
   ]
  },
  {
   "cell_type": "code",
   "execution_count": 6,
   "metadata": {},
   "outputs": [
    {
     "data": {
      "text/plain": [
       "105829"
      ]
     },
     "execution_count": 6,
     "metadata": {},
     "output_type": "execute_result"
    }
   ],
   "source": [
    "len(ds)"
   ]
  },
  {
   "cell_type": "code",
   "execution_count": 7,
   "metadata": {},
   "outputs": [
    {
     "name": "stdout",
     "output_type": "stream",
     "text": [
      "../datos/speech_commands:\n",
      "SpeechCommands\n",
      "speech_commands_v0.02.tar.gz\n",
      "\n",
      "../datos/speech_commands/SpeechCommands:\n",
      "speech_commands_v0.02\n",
      "\n",
      "../datos/speech_commands/SpeechCommands/speech_commands_v0.02:\n",
      "LICENSE\n",
      "README.md\n",
      "_background_noise_\n",
      "backward\n",
      "bed\n",
      "bird\n",
      "cat\n",
      "dog\n",
      "down\n",
      "eight\n",
      "five\n",
      "follow\n",
      "forward\n",
      "four\n",
      "go\n",
      "happy\n",
      "house\n",
      "learn\n",
      "left\n",
      "marvin\n",
      "nine\n",
      "no\n",
      "off\n",
      "on\n",
      "one\n",
      "right\n",
      "seven\n",
      "sheila\n",
      "six\n",
      "stop\n",
      "testing_list.txt\n",
      "three\n",
      "tree\n",
      "two\n",
      "up\n",
      "validation_list.txt\n",
      "visual\n",
      "wow\n",
      "yes\n",
      "zero\n",
      "\n",
      "../datos/speech_commands/SpeechCommands/speech_commands_v0.02/_background_noise_:\n",
      "README.md\n",
      "doing_the_dishes.wav\n",
      "dude_miaowing.wav\n",
      "exercise_bike.wav\n",
      "pink_noise.wav\n",
      "ls: write error: Broken pipe\n"
     ]
    }
   ],
   "source": [
    "! ls -R {DATA_DIR} | head -55"
   ]
  },
  {
   "cell_type": "markdown",
   "metadata": {
    "colab_type": "text",
    "id": "9p_BsiITogUA"
   },
   "source": [
    "### 2.2. Conjunto de datos"
   ]
  },
  {
   "cell_type": "code",
   "execution_count": 8,
   "metadata": {},
   "outputs": [],
   "source": [
    "def identity(x):\n",
    "    return x\n",
    "\n",
    "\n",
    "def label2index(label):\n",
    "    return CLASS_IDX[label]\n",
    "\n",
    "\n",
    "class SPEECHCOMMANDS2(SPEECHCOMMANDS):\n",
    "\n",
    "    def __init__(self, root, download=False, subset=None,\n",
    "                 waveform_tsfm=identity, label_tsfm=identity):\n",
    "        super().__init__(root=root, download=download, subset=subset)\n",
    "        self.waveform_tsfm = waveform_tsfm\n",
    "        self.label_tsfm = label_tsfm\n",
    "\n",
    "    def __getitem__(self, i):\n",
    "        waveform, sample_rate, label, *_ = super().__getitem__(i)\n",
    "        x = self.waveform_tsfm(waveform)\n",
    "        y = self.label_tsfm(label)\n",
    "        return x, y, label, sample_rate\n",
    "\n",
    "\n",
    "class WaveformPadTruncate(nn.Module):\n",
    "\n",
    "    def __init__(self, secs=SECS, sample_rate=SAMPLE_RATE):\n",
    "        super().__init__()\n",
    "        self.samples = secs * sample_rate\n",
    "    \n",
    "    def forward(self, waveform):\n",
    "        samples = waveform.shape[1]\n",
    "\n",
    "        # rellenamos con zeros\n",
    "        if samples < self.samples:\n",
    "            difference = self.samples - samples\n",
    "            padding = torch.zeros(1, difference)\n",
    "            waveform = torch.cat([waveform, padding], 1)\n",
    "\n",
    "        # recortamos\n",
    "        elif samples > self.samples:\n",
    "            start = random.randint(0, waveform.shape[1] - self.samples)\n",
    "            waveform = waveform.narrow(1, start, self.samples)\n",
    "        \n",
    "        return waveform"
   ]
  },
  {
   "cell_type": "code",
   "execution_count": 9,
   "metadata": {},
   "outputs": [
    {
     "name": "stdout",
     "output_type": "stream",
     "text": [
      "x shape=torch.Size([32, 1, 16000]) dtype=torch.float32\n",
      "y shape=torch.Size([32]) dtype=torch.int64\n"
     ]
    }
   ],
   "source": [
    "# creamos un Dataset\n",
    "ds = SPEECHCOMMANDS2(\n",
    "    # directorio de datos\n",
    "    root=DATA_DIR,\n",
    "    # transformación de la forma de onda\n",
    "    waveform_tsfm=WaveformPadTruncate(),\n",
    "    # transformación de etiqueta\n",
    "    label_tsfm=label2index,\n",
    ")\n",
    "\n",
    "# creamos un DataLoader\n",
    "dl = DataLoader(\n",
    "    # conjunto\n",
    "    ds,\n",
    "    # tamaño del lote\n",
    "    batch_size=BATCH_SIZE,\n",
    ")\n",
    "\n",
    "# desplegamos un lote de imágenes\n",
    "x, y, labels, sr = next(iter(dl))\n",
    "print(f'x shape={x.shape} dtype={x.dtype}')\n",
    "print(f'y shape={y.shape} dtype={y.dtype}')"
   ]
  },
  {
   "cell_type": "markdown",
   "metadata": {},
   "source": [
    "### 2.3. Cargadores de datos"
   ]
  },
  {
   "cell_type": "code",
   "execution_count": 10,
   "metadata": {
    "colab": {
     "base_uri": "https://localhost:8080/",
     "height": 54
    },
    "colab_type": "code",
    "id": "E1aEVpYtuadH",
    "outputId": "8df25761-3201-461a-e82b-26b5befd0302"
   },
   "outputs": [],
   "source": [
    "def build_dl(subset=None, spectrogram='spec', shuffle=False):\n",
    "\n",
    "    waveform_tsfm = [\n",
    "        WaveformPadTruncate()\n",
    "    ]\n",
    "\n",
    "    if spectrogram == 'spec':\n",
    "        waveform_tsfm.extend([\n",
    "            T.Spectrogram(n_fft=N_FFT),\n",
    "            T.AmplitudeToDB(),\n",
    "        ])\n",
    "    elif spectrogram == 'mel':\n",
    "        waveform_tsfm.extend([\n",
    "            T.MelSpectrogram(sample_rate=SAMPLE_RATE, n_fft=N_FFT),\n",
    "            T.AmplitudeToDB(),\n",
    "        ])\n",
    "    elif spectrogram == 'mfcc':\n",
    "        waveform_tsfm.extend([\n",
    "            T.MFCC(sample_rate=SAMPLE_RATE),\n",
    "        ])\n",
    "    else:\n",
    "        raise NotImplementedError(\n",
    "            f'Espectrograma no implementado: {spectrogram}')\n",
    "\n",
    "    waveform_tsfm = nn.Sequential(*waveform_tsfm)\n",
    "    \n",
    "    \n",
    "        # creamos un Dataset\n",
    "    ds = SPEECHCOMMANDS2(\n",
    "        # directorio de datos\n",
    "        root=DATA_DIR,\n",
    "        # subconjunto\n",
    "        subset=subset,\n",
    "        # transformación de la forma de onda\n",
    "        waveform_tsfm=waveform_tsfm,\n",
    "        # transformación de etiqueta\n",
    "        label_tsfm=label2index,\n",
    "    )\n",
    "\n",
    "    # creamos un DataLoader\n",
    "    dl = DataLoader(\n",
    "        # conjunto\n",
    "        ds,\n",
    "        # tamaño del lote\n",
    "        batch_size=BATCH_SIZE,\n",
    "        # barajear\n",
    "        shuffle=shuffle,\n",
    "        # procesos paralelos\n",
    "        num_workers=2\n",
    "    )\n",
    "    return dl"
   ]
  },
  {
   "cell_type": "markdown",
   "metadata": {},
   "source": [
    "### 2.4. Espectrogramas"
   ]
  },
  {
   "cell_type": "code",
   "execution_count": 11,
   "metadata": {},
   "outputs": [
    {
     "name": "stdout",
     "output_type": "stream",
     "text": [
      "x shape=torch.Size([32, 1, 201, 81]) dtype=torch.float32\n",
      "y shape=torch.Size([32]) dtype=torch.int64\n"
     ]
    },
    {
     "data": {
      "image/png": "[encoded data removed]",
      "text/plain": [
       "<Figure size 432x288 with 2 Axes>"
      ]
     },
     "metadata": {
      "needs_background": "light"
     },
     "output_type": "display_data"
    }
   ],
   "source": [
    "dl = build_dl(spectrogram='spec')\n",
    "\n",
    "# inspeccionemos el lote\n",
    "x, y, labels, sr = next(iter(dl))\n",
    "print(f'x shape={x.shape} dtype={x.dtype}')\n",
    "print(f'y shape={y.shape} dtype={y.dtype}')\n",
    "\n",
    "# inspeccionemos un ejemplo\n",
    "spec = x[0].squeeze().numpy()\n",
    "label = labels[0]\n",
    "\n",
    "librosa.display.specshow(spec, sr=SAMPLE_RATE, hop_length=HOP_LENGTH)\n",
    "plt.title(f'Espectrograma: {label}')\n",
    "plt.xlabel('tiempo')\n",
    "plt.ylabel('frecuencia')\n",
    "cbar = plt.colorbar()\n",
    "cbar.set_label('magnitud', rotation=90)\n",
    "plt.show()"
   ]
  },
  {
   "cell_type": "markdown",
   "metadata": {},
   "source": [
    "### 2.5. Espectrogramas Log-Mel"
   ]
  },
  {
   "cell_type": "code",
   "execution_count": 12,
   "metadata": {},
   "outputs": [
    {
     "name": "stderr",
     "output_type": "stream",
     "text": [
      "/home/richardt/.miniconda3/envs/iap/lib/python3.8/site-packages/torchaudio/functional/functional.py:357: UserWarning: At least one mel filterbank has all zero values. The value for `n_mels` (128) may be set too high. Or, the value for `n_freqs` (201) may be set too low.\n",
      "  warnings.warn(\n"
     ]
    },
    {
     "name": "stdout",
     "output_type": "stream",
     "text": [
      "x shape=torch.Size([32, 1, 128, 81]) dtype=torch.float32\n",
      "y shape=torch.Size([32]) dtype=torch.int64\n"
     ]
    },
    {
     "data": {
      "image/png": "[encoded data removed]",
      "text/plain": [
       "<Figure size 432x288 with 2 Axes>"
      ]
     },
     "metadata": {
      "needs_background": "light"
     },
     "output_type": "display_data"
    }
   ],
   "source": [
    "dl = build_dl(spectrogram='mel')\n",
    "\n",
    "# inspeccionemos el lote\n",
    "x, y, labels, sr = next(iter(dl))\n",
    "print(f'x shape={x.shape} dtype={x.dtype}')\n",
    "print(f'y shape={y.shape} dtype={y.dtype}')\n",
    "\n",
    "# inspeccionemos un ejemplo\n",
    "spec = x[0].squeeze().numpy()\n",
    "label = labels[0]\n",
    "\n",
    "librosa.display.specshow(spec, sr=SAMPLE_RATE, hop_length=HOP_LENGTH)\n",
    "plt.title(f'Espectrograma Log-Mel: {label}')\n",
    "plt.xlabel('tiempo')\n",
    "plt.ylabel('frecuencia')\n",
    "cbar = plt.colorbar()\n",
    "cbar.set_label('magnitud', rotation=90)\n",
    "plt.show()"
   ]
  },
  {
   "cell_type": "markdown",
   "metadata": {},
   "source": [
    "### 2.6. Espectrogramas MFCCs"
   ]
  },
  {
   "cell_type": "code",
   "execution_count": 13,
   "metadata": {},
   "outputs": [
    {
     "name": "stdout",
     "output_type": "stream",
     "text": [
      "x shape=torch.Size([32, 1, 40, 81]) dtype=torch.float32\n",
      "y shape=torch.Size([32]) dtype=torch.int64\n"
     ]
    },
    {
     "data": {
      "image/png": "[encoded data removed]",
      "text/plain": [
       "<Figure size 432x288 with 2 Axes>"
      ]
     },
     "metadata": {
      "needs_background": "light"
     },
     "output_type": "display_data"
    }
   ],
   "source": [
    "dl = build_dl(spectrogram='mfcc')\n",
    "\n",
    "# inspeccionemos el lote\n",
    "x, y, labels, sr = next(iter(dl))\n",
    "print(f'x shape={x.shape} dtype={x.dtype}')\n",
    "print(f'y shape={y.shape} dtype={y.dtype}')\n",
    "\n",
    "# inspeccionemos un ejemplo\n",
    "spec = x[0].squeeze().numpy()\n",
    "label = labels[0]\n",
    "\n",
    "librosa.display.specshow(spec, sr=SAMPLE_RATE, hop_length=HOP_LENGTH)\n",
    "plt.title(f'Espectrograma MFCC: {label}')\n",
    "plt.xlabel('tiempo')\n",
    "plt.ylabel('coeficientes')\n",
    "cbar = plt.colorbar()\n",
    "cbar.set_label('magnitud', rotation=90)\n",
    "plt.show()"
   ]
  },
  {
   "cell_type": "markdown",
   "metadata": {},
   "source": [
    "## 3. Ciclo de entrenamiento"
   ]
  },
  {
   "cell_type": "code",
   "execution_count": 14,
   "metadata": {},
   "outputs": [],
   "source": [
    "def train_epoch(dl, model, opt, device):\n",
    "\n",
    "    # por cada lote\n",
    "    for x, y_true, *_ in dl:\n",
    "\n",
    "        # movemos a dispositivo\n",
    "        x = x.to(device)\n",
    "        y_true = y_true.to(device)\n",
    "\n",
    "        # computamos logits\n",
    "        y_lgts = model(x)\n",
    "\n",
    "        # computamos la pérdida\n",
    "        loss = F.cross_entropy(y_lgts, y_true)\n",
    "\n",
    "        # vaciamos los gradientes\n",
    "        opt.zero_grad()\n",
    "\n",
    "        # retropropagamos\n",
    "        loss.backward()\n",
    "\n",
    "        # actualizamos parámetros\n",
    "        opt.step()\n",
    "\n",
    "\n",
    "def eval_epoch(dl, model, device, num_batches=None):\n",
    "\n",
    "    # evitamos que se registren las operaciones \n",
    "    # en la gráfica de cómputo\n",
    "    with torch.no_grad():\n",
    "\n",
    "        # historiales\n",
    "        losses, accs = [], []\n",
    "\n",
    "        # validación de la época con num_batches\n",
    "        # si num_batches==None, se usan todos los lotes\n",
    "        for x, y_true, *_ in take(dl, num_batches):\n",
    "\n",
    "            # movemos a dispositivo\n",
    "            x = x.to(device)\n",
    "            y_true = y_true.to(device)\n",
    "\n",
    "            # computamos los logits\n",
    "            y_lgts = model(x)\n",
    "\n",
    "            # computamos los puntajes\n",
    "            y_prob = F.softmax(y_lgts, 1)\n",
    "\n",
    "            # computamos la clases\n",
    "            y_pred = torch.argmax(y_prob, 1)\n",
    "\n",
    "            # computamos la pérdida\n",
    "            loss = F.cross_entropy(y_lgts, y_true)\n",
    "\n",
    "            # computamos la exactitud\n",
    "            acc = (y_true == y_pred).type(torch.float32).mean()\n",
    "\n",
    "            # guardamos históricos\n",
    "            losses.append(loss.item())\n",
    "            accs.append(acc.item())\n",
    "\n",
    "        # promediamos\n",
    "        loss = np.mean(losses) * 100\n",
    "        acc = np.mean(accs) * 100\n",
    "\n",
    "        return loss, acc\n",
    "        \n",
    "        \n",
    "def train(model, trn_dl, tst_dl, lr=1e-4, epochs=20,\n",
    "          trn_batches=None, tst_batches=None):\n",
    "\n",
    "    # historiales\n",
    "    loss_hist, acc_hist = [], []\n",
    "    \n",
    "    # optimizador\n",
    "    opt = optim.Adam(model.parameters(), lr=lr)\n",
    "\n",
    "    # usamos GPU si está disponible\n",
    "    device = torch.device('cuda' if torch.cuda.is_available() else 'cpu')\n",
    "    # movemos a dispositivo\n",
    "    model.to(device)\n",
    "\n",
    "    # ciclo de entrenamiento\n",
    "    for epoch in trange(epochs):\n",
    "\n",
    "        # modelo en modo de entrenamiento\n",
    "        model.train()\n",
    "        # entrenamos la época\n",
    "        train_epoch(trn_dl, model, opt, device)\n",
    "\n",
    "        # modelo en modo de evaluación\n",
    "        model.eval()\n",
    "        # evaluamos la época en entrenamiento\n",
    "        trn_loss, trn_acc = eval_epoch(trn_dl, model, device, trn_batches)\n",
    "        # evaluamos la época en prueba\n",
    "        tst_loss, tst_acc = eval_epoch(tst_dl, model, device, tst_batches)\n",
    "\n",
    "        # guardamos historial\n",
    "        loss_hist.append([trn_loss, tst_loss])\n",
    "        acc_hist.append([trn_acc, tst_acc])\n",
    "\n",
    "        # imprimimos progreso\n",
    "        print(f'E{epoch:02} '\n",
    "              f'loss=[{trn_loss:6.2f},{tst_loss:6.2f}] '\n",
    "              f'acc=[{trn_acc:5.2f},{tst_acc:5.2f}]')\n",
    "\n",
    "    return loss_hist, acc_hist"
   ]
  },
  {
   "cell_type": "markdown",
   "metadata": {},
   "source": [
    "## 4. Arquitectura"
   ]
  },
  {
   "cell_type": "code",
   "execution_count": 15,
   "metadata": {},
   "outputs": [
    {
     "data": {
      "text/plain": [
       "CNN(\n",
       "  (cnn): Sequential(\n",
       "    (0): Conv2d(1, 32, kernel_size=(3, 3), stride=(1, 1))\n",
       "    (1): BatchNorm2d(32, eps=1e-05, momentum=0.1, affine=True, track_running_stats=True)\n",
       "    (2): ReLU()\n",
       "    (3): MaxPool2d(kernel_size=2, stride=2, padding=0, dilation=1, ceil_mode=False)\n",
       "    (4): Conv2d(32, 32, kernel_size=(3, 3), stride=(1, 1))\n",
       "    (5): BatchNorm2d(32, eps=1e-05, momentum=0.1, affine=True, track_running_stats=True)\n",
       "    (6): ReLU()\n",
       "    (7): MaxPool2d(kernel_size=2, stride=2, padding=0, dilation=1, ceil_mode=False)\n",
       "    (8): Conv2d(32, 64, kernel_size=(3, 3), stride=(1, 1))\n",
       "    (9): BatchNorm2d(64, eps=1e-05, momentum=0.1, affine=True, track_running_stats=True)\n",
       "    (10): ReLU()\n",
       "    (11): MaxPool2d(kernel_size=2, stride=2, padding=0, dilation=1, ceil_mode=False)\n",
       "    (12): Conv2d(64, 64, kernel_size=(3, 3), stride=(1, 1))\n",
       "    (13): BatchNorm2d(64, eps=1e-05, momentum=0.1, affine=True, track_running_stats=True)\n",
       "    (14): ReLU()\n",
       "    (15): MaxPool2d(kernel_size=2, stride=2, padding=0, dilation=1, ceil_mode=False)\n",
       "  )\n",
       "  (pool): AdaptiveAvgPool2d(output_size=1)\n",
       "  (flat): Flatten(start_dim=1, end_dim=-1)\n",
       "  (fc): Linear(in_features=64, out_features=35, bias=True)\n",
       ")"
      ]
     },
     "execution_count": 15,
     "metadata": {},
     "output_type": "execute_result"
    }
   ],
   "source": [
    "class CNN(nn.Module):\n",
    "\n",
    "    def __init__(self, n_in_channels=1, n_classes=NUM_CLASSES, n_channel=32):\n",
    "        super().__init__()\n",
    "\n",
    "        self.cnn = nn.Sequential(\n",
    "\n",
    "            # bloque conv 1\n",
    "            nn.Conv2d(in_channels=n_in_channels, \n",
    "                      out_channels=n_channel,\n",
    "                      kernel_size=3),\n",
    "            nn.BatchNorm2d(n_channel),\n",
    "            nn.ReLU(),\n",
    "            nn.MaxPool2d(kernel_size=2),\n",
    "\n",
    "            # bloque conv 2\n",
    "            nn.Conv2d(in_channels=n_channel, \n",
    "                      out_channels=n_channel, \n",
    "                      kernel_size=3),\n",
    "            nn.BatchNorm2d(num_features=n_channel),\n",
    "            nn.ReLU(),\n",
    "            nn.MaxPool2d(kernel_size=2),\n",
    "\n",
    "            # bloque conv 3\n",
    "            nn.Conv2d(in_channels=n_channel,\n",
    "                      out_channels=2*n_channel,\n",
    "                      kernel_size=3),\n",
    "            nn.BatchNorm2d(num_features=2*n_channel),\n",
    "            nn.ReLU(),\n",
    "            nn.MaxPool2d(kernel_size=2),\n",
    "\n",
    "            # bloque conv 4\n",
    "            nn.Conv2d(in_channels=2*n_channel,\n",
    "                      out_channels=2*n_channel,\n",
    "                      kernel_size=3),\n",
    "            nn.BatchNorm2d(num_features=2*n_channel),\n",
    "            nn.ReLU(),\n",
    "            nn.MaxPool2d(kernel_size=2),\n",
    "\n",
    "        )\n",
    "\n",
    "        self.pool = nn.AdaptiveAvgPool2d(1)\n",
    "        self.flat = nn.Flatten()\n",
    "        self.fc = nn.Linear(2*n_channel, n_classes)\n",
    "\n",
    "\n",
    "    def forward(self, x):\n",
    "        x = self.cnn(x)\n",
    "        x = self.pool(x)\n",
    "        x = self.flat(x)\n",
    "        x = self.fc(x)\n",
    "        return x\n",
    "    \n",
    "def build_cnn():\n",
    "    return CNN()\n",
    "\n",
    "cnn = build_cnn()\n",
    "cnn"
   ]
  },
  {
   "cell_type": "code",
   "execution_count": 16,
   "metadata": {},
   "outputs": [
    {
     "name": "stdout",
     "output_type": "stream",
     "text": [
      "torch.Size([1, 1, 201, 81]) => torch.Size([1, 35])\n"
     ]
    }
   ],
   "source": [
    "x = torch.zeros(1, 1, 201, 81)\n",
    "y = cnn(x)\n",
    "print(f'{x.shape} => {y.shape}')"
   ]
  },
  {
   "cell_type": "code",
   "execution_count": 17,
   "metadata": {},
   "outputs": [
    {
     "data": {
      "text/plain": [
       "===================================================================================================================\n",
       "Layer (type:depth-idx)                   Input Shape               Output Shape              Param #\n",
       "===================================================================================================================\n",
       "├─Sequential: 1-1                        [1, 1, 201, 81]           [1, 64, 10, 3]            --\n",
       "|    └─Conv2d: 2-1                       [1, 1, 201, 81]           [1, 32, 199, 79]          320\n",
       "|    └─BatchNorm2d: 2-2                  [1, 32, 199, 79]          [1, 32, 199, 79]          64\n",
       "|    └─ReLU: 2-3                         [1, 32, 199, 79]          [1, 32, 199, 79]          --\n",
       "|    └─MaxPool2d: 2-4                    [1, 32, 199, 79]          [1, 32, 99, 39]           --\n",
       "|    └─Conv2d: 2-5                       [1, 32, 99, 39]           [1, 32, 97, 37]           9,248\n",
       "|    └─BatchNorm2d: 2-6                  [1, 32, 97, 37]           [1, 32, 97, 37]           64\n",
       "|    └─ReLU: 2-7                         [1, 32, 97, 37]           [1, 32, 97, 37]           --\n",
       "|    └─MaxPool2d: 2-8                    [1, 32, 97, 37]           [1, 32, 48, 18]           --\n",
       "|    └─Conv2d: 2-9                       [1, 32, 48, 18]           [1, 64, 46, 16]           18,496\n",
       "|    └─BatchNorm2d: 2-10                 [1, 64, 46, 16]           [1, 64, 46, 16]           128\n",
       "|    └─ReLU: 2-11                        [1, 64, 46, 16]           [1, 64, 46, 16]           --\n",
       "|    └─MaxPool2d: 2-12                   [1, 64, 46, 16]           [1, 64, 23, 8]            --\n",
       "|    └─Conv2d: 2-13                      [1, 64, 23, 8]            [1, 64, 21, 6]            36,928\n",
       "|    └─BatchNorm2d: 2-14                 [1, 64, 21, 6]            [1, 64, 21, 6]            128\n",
       "|    └─ReLU: 2-15                        [1, 64, 21, 6]            [1, 64, 21, 6]            --\n",
       "|    └─MaxPool2d: 2-16                   [1, 64, 21, 6]            [1, 64, 10, 3]            --\n",
       "├─AdaptiveAvgPool2d: 1-2                 [1, 64, 10, 3]            [1, 64, 1, 1]             --\n",
       "├─Flatten: 1-3                           [1, 64, 1, 1]             [1, 64]                   --\n",
       "├─Linear: 1-4                            [1, 64]                   [1, 35]                   2,275\n",
       "===================================================================================================================\n",
       "Total params: 67,651\n",
       "Trainable params: 67,651\n",
       "Non-trainable params: 0\n",
       "Total mult-adds (M): 55.88\n",
       "===================================================================================================================\n",
       "Input size (MB): 0.07\n",
       "Forward/backward pass size (MB): 10.77\n",
       "Params size (MB): 0.27\n",
       "Estimated Total Size (MB): 11.11\n",
       "==================================================================================================================="
      ]
     },
     "execution_count": 17,
     "metadata": {},
     "output_type": "execute_result"
    }
   ],
   "source": [
    "summary(cnn, (1, 1, 201, 81), device='cpu', verbose=0,\n",
    "        col_names=['input_size', 'output_size', 'num_params'])"
   ]
  },
  {
   "cell_type": "markdown",
   "metadata": {},
   "source": [
    "## 5. Entrenamiento"
   ]
  },
  {
   "cell_type": "code",
   "execution_count": 18,
   "metadata": {},
   "outputs": [],
   "source": [
    "def train_model(spectrogram, build_model, lr=1e-4, epochs=5):\n",
    "    set_seed()\n",
    "    trn_dl = build_dl('training', spectrogram, shuffle=True)\n",
    "    val_dl = build_dl('validation', spectrogram, shuffle=False)\n",
    "    model = build_model()\n",
    "    loss_hist, acc_hist = train(\n",
    "        model, trn_dl, val_dl, lr=lr, epochs=epochs)"
   ]
  },
  {
   "cell_type": "code",
   "execution_count": 19,
   "metadata": {},
   "outputs": [
    {
     "data": {
      "application/vnd.jupyter.widget-view+json": {
       "model_id": "4d866a9312ed46098746099d69c42883",
       "version_major": 2,
       "version_minor": 0
      },
      "text/plain": [
       "  0%|          | 0/5 [00:00<?, ?it/s]"
      ]
     },
     "metadata": {},
     "output_type": "display_data"
    },
    {
     "name": "stdout",
     "output_type": "stream",
     "text": [
      "E00 loss=[279.88,277.45] acc=[28.32,29.74]\n",
      "E01 loss=[227.50,225.39] acc=[43.91,45.46]\n",
      "E02 loss=[185.44,181.51] acc=[53.40,55.74]\n",
      "E03 loss=[159.81,155.43] acc=[59.59,61.89]\n",
      "E04 loss=[146.07,141.80] acc=[62.67,64.85]\n"
     ]
    }
   ],
   "source": [
    "train_model(spectrogram='spec', build_model=build_cnn)"
   ]
  },
  {
   "cell_type": "markdown",
   "metadata": {},
   "source": [
    "## 6. Participación"
   ]
  },
  {
   "cell_type": "markdown",
   "metadata": {},
   "source": [
    "Adapta una arquitectura del estado del arte y entrena un modelo con algún espectrograma."
   ]
  },
  {
   "cell_type": "code",
   "execution_count": null,
   "metadata": {},
   "outputs": [],
   "source": []
  },
  {
   "cell_type": "code",
   "execution_count": null,
   "metadata": {},
   "outputs": [],
   "source": []
  },
  {
   "cell_type": "code",
   "execution_count": null,
   "metadata": {},
   "outputs": [],
   "source": []
  },
  {
   "cell_type": "code",
   "execution_count": null,
   "metadata": {},
   "outputs": [],
   "source": []
  },
  {
   "cell_type": "code",
   "execution_count": null,
   "metadata": {},
   "outputs": [],
   "source": []
  },
  {
   "cell_type": "code",
   "execution_count": null,
   "metadata": {},
   "outputs": [],
   "source": []
  }
 ],
 "metadata": {
  "kernelspec": {
   "display_name": "Python 3",
   "language": "python",
   "name": "python3"
  },
  "language_info": {
   "codemirror_mode": {
    "name": "ipython",
    "version": 3
   },
   "file_extension": ".py",
   "mimetype": "text/x-python",
   "name": "python",
   "nbconvert_exporter": "python",
   "pygments_lexer": "ipython3",
   "version": "3.8.5"
  }
 },
 "nbformat": 4,
 "nbformat_minor": 4
}
