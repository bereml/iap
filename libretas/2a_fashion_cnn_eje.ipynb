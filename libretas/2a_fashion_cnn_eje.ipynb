{
 "cells": [
  {
   "cell_type": "markdown",
   "metadata": {
    "colab_type": "text",
    "id": "view-in-github"
   },
   "source": [
    "<a href=\"https://colab.research.google.com/github/bereml/iap/blob/master/libretas/2b_fashion_cnn_eje.ipynb\" target=\"_parent\"><img src=\"https://colab.research.google.com/assets/colab-badge.svg\" alt=\"Open In Colab\"/></a>"
   ]
  },
  {
   "cell_type": "markdown",
   "metadata": {},
   "source": [
    "# Clasificación de MNIST con un red convolucional\n",
    "\n",
    "Curso: [Introducción al Aprendizaje Profundo](http://turing.iimas.unam.mx/~ricardoml/course/iap/). Profesores: [Bere](https://turing.iimas.unam.mx/~bereml/) y [Ricardo](https://turing.iimas.unam.mx/~ricardoml/) Montalvo Lezama.\n",
    "\n",
    "---\n",
    "---\n",
    "\n",
    "En esta libreta veremos un ejemplo de clasificación multiclase de imágenes implementando una red convolucional en PyTorch.\n",
    "\n",
    "[Fashion-MNIST](https://github.com/zalandoresearch/fashion-mnist) es un conjunto para remplzar MNIST. Fue recolectado con la intención de proveer un conjunto un poco más dificil que MNIST.\n",
    "\n",
    "<img src=\"https://miro.medium.com/max/800/1*RNBs0OsymwAzDyYMk3_0Aw.jpeg\" width=\"600\"/>\n",
    "Conjunto Fashion-MNIST. Imagen tomada de https://medium.com/@sankarchanna2k18/fashion-mnist-data-image-classification-in-tensorflow-bd22f9e680bc."
   ]
  },
  {
   "cell_type": "markdown",
   "metadata": {},
   "source": [
    "## 1 Preparación"
   ]
  },
  {
   "cell_type": "code",
   "execution_count": null,
   "metadata": {},
   "outputs": [],
   "source": [
    "# biblioteca para inspeccionar arquitecturas\n",
    "# https://github.com/tyleryep/torchinfo\n",
    "!pip install torchinfo"
   ]
  },
  {
   "cell_type": "markdown",
   "metadata": {},
   "source": [
    "### 1.1 Bibliotecas"
   ]
  },
  {
   "cell_type": "code",
   "execution_count": null,
   "metadata": {
    "colab": {},
    "colab_type": "code",
    "id": "Ny0L2LzogTN-"
   },
   "outputs": [],
   "source": [
    "# funciones aleatorias\n",
    "import random\n",
    "# tomar n elementos de una secuencia\n",
    "from itertools import islice as take\n",
    "\n",
    "# gráficas\n",
    "import matplotlib.pyplot as plt\n",
    "# arreglos multidimensionales\n",
    "import numpy as np\n",
    "# redes neuronales\n",
    "import torch\n",
    "import torch.nn as nn\n",
    "import torch.nn.functional as F\n",
    "import torch.optim as optim\n",
    "import torchvision.transforms as T\n",
    "# procesamiento de imágenes\n",
    "from skimage import io\n",
    "# redes neuronales\n",
    "from torch.utils.data import DataLoader\n",
    "from torchvision.datasets import FashionMNIST\n",
    "# inspección de arquitectura\n",
    "from torchinfo import summary\n",
    "# barras de progreso\n",
    "from tqdm import trange"
   ]
  },
  {
   "cell_type": "markdown",
   "metadata": {},
   "source": [
    "### 1.2 Auxiliares"
   ]
  },
  {
   "cell_type": "code",
   "execution_count": null,
   "metadata": {},
   "outputs": [],
   "source": [
    "# directorio de datos\n",
    "DATA_DIR = '../datos'\n",
    "\n",
    "# tamaño del lote\n",
    "BATCH_SIZE = 32\n",
    "# filas y columnas de la regilla de imágenes\n",
    "ROWS, COLS = 4, 8\n",
    "\n",
    "\n",
    "def display_grid(xs, titles, rows, cols, figsize=(12, 6)):\n",
    "    \"\"\"Displays examples in a grid.\"\"\"\n",
    "    fig, ax = plt.subplots(rows, cols, figsize=figsize)\n",
    "    i = 0\n",
    "    for r in range(rows):\n",
    "        for c in range(cols):\n",
    "            ax[r, c].imshow(xs[i], cmap='gray')\n",
    "            ax[r, c].set_title(titles[i])\n",
    "            ax[r, c].set_xticklabels([])\n",
    "            ax[r, c].set_yticklabels([])\n",
    "            i += 1\n",
    "    fig.tight_layout()\n",
    "    plt.show()\n",
    "\n",
    "\n",
    "def display_batch(x, titles, rows, cols, figsize=(12, 6)):\n",
    "    \"\"\"Displays a batch of processed examples in a grid.\"\"\"\n",
    "    # denormalizamos [0, 1] => [0, 255]\n",
    "    x *= 255\n",
    "    # rotamos canales (C x H x W) => (H x W x C)\n",
    "    x = x.permute(0, 2, 3, 1)\n",
    "    # convertimos a entero\n",
    "    x = (x.numpy()).astype(np.uint8)\n",
    "    # aplanamos canal\n",
    "    x = x.reshape(*x.shape[:3])\n",
    "    # desplegamos\n",
    "    display_grid(x, titles, rows, cols, figsize)\n",
    "\n",
    "    \n",
    "def set_seed(seed=0):\n",
    "    \"\"\"Initializes pseudo-random number generators.\"\"\"\n",
    "    random.seed(seed)\n",
    "    np.random.seed(seed)\n",
    "    torch.manual_seed(seed)\n",
    "\n",
    "    \n",
    "# reproducibilidad\n",
    "set_seed()"
   ]
  },
  {
   "cell_type": "markdown",
   "metadata": {
    "colab_type": "text",
    "id": "MjKxreAkoZeT"
   },
   "source": [
    "## 2 Datos"
   ]
  },
  {
   "cell_type": "markdown",
   "metadata": {},
   "source": [
    "### 2.1 Tuberias de datos con PyTorch\n",
    "\n",
    "<img src=\"https://raw.githubusercontent.com/bereml/iap/master/fig/mnist_pipeline.png\"/>"
   ]
  },
  {
   "cell_type": "markdown",
   "metadata": {
    "colab_type": "text",
    "id": "9p_BsiITogUA"
   },
   "source": [
    "### 2.2 Cargadores de datos"
   ]
  },
  {
   "cell_type": "markdown",
   "metadata": {},
   "source": [
    "#### Entrenamiento"
   ]
  },
  {
   "cell_type": "code",
   "execution_count": null,
   "metadata": {
    "colab": {
     "base_uri": "https://localhost:8080/",
     "height": 54
    },
    "colab_type": "code",
    "id": "E1aEVpYtuadH",
    "outputId": "8df25761-3201-461a-e82b-26b5befd0302"
   },
   "outputs": [],
   "source": [
    "# transformación que convierte una imagen:\n",
    "#   de numpy.ndarray    (H x W x C) en rango [0, 255]\n",
    "#   a torch.FloatTensor (C x H x W) en rango [0, 1]\n",
    "tsfm = T.ToTensor()\n",
    "\n",
    "# creamos un Dataset\n",
    "trn_ds = FashionMNIST(\n",
    "    # directorio de datos\n",
    "    root=DATA_DIR,\n",
    "    # subconjunto de entrenamiento\n",
    "    train=True,\n",
    "    # transformación\n",
    "    transform=tsfm,\n",
    "    # descaraga\n",
    "    download=True\n",
    ")\n",
    "\n",
    "# creamos un DataLoader\n",
    "trn_dl = DataLoader(\n",
    "    # conjunto\n",
    "    trn_ds,\n",
    "    # tamaño del lote\n",
    "    batch_size=BATCH_SIZE,\n",
    "    # desordenar\n",
    "    shuffle=True\n",
    ")\n",
    "\n",
    "# desplegamos un lote de imágenes\n",
    "x, y = next(iter(trn_dl))\n",
    "print(f'x shape={x.shape} dtype={x.dtype}')\n",
    "print(f'y shape={y.shape} dtype={y.dtype}')\n",
    "display_batch(x, y.tolist(), ROWS, COLS)"
   ]
  },
  {
   "cell_type": "markdown",
   "metadata": {},
   "source": [
    "#### Prueba"
   ]
  },
  {
   "cell_type": "code",
   "execution_count": null,
   "metadata": {
    "colab": {
     "base_uri": "https://localhost:8080/",
     "height": 54
    },
    "colab_type": "code",
    "id": "QXMXXc9DPgqY",
    "outputId": "100e6a58-5552-4c5f-b08e-dc83c23c3b21"
   },
   "outputs": [],
   "source": [
    "# creamos un Dataset\n",
    "tst_ds = FashionMNIST(\n",
    "    # directorio de datos\n",
    "    root=DATA_DIR, \n",
    "    # subconjunto de entrenamiento\n",
    "    train=False,\n",
    "    # transformación\n",
    "    transform=tsfm\n",
    ")\n",
    "\n",
    "# creamos un DataLoader\n",
    "tst_dl = DataLoader(\n",
    "    # subconjunto\n",
    "    tst_ds,\n",
    "    # tamaño del lote\n",
    "    batch_size=BATCH_SIZE,\n",
    "    # desordenar\n",
    "    shuffle=False\n",
    ")\n",
    "\n",
    "# desplegamos un lote de imágenes\n",
    "x, y = next(iter(tst_dl))\n",
    "print(f'x shape={x.shape} dtype={x.dtype}')\n",
    "print(f'y shape={y.shape} dtype={y.dtype}')\n",
    "display_batch(x, y.tolist(), ROWS, COLS)"
   ]
  },
  {
   "cell_type": "markdown",
   "metadata": {},
   "source": [
    "## 3 Modelo\n",
    "\n",
    "<img src=\"https://raw.githubusercontent.com/bereml/iap/master/fig/mnist_cnn2.svg\" width=\"600\"/>"
   ]
  },
  {
   "cell_type": "markdown",
   "metadata": {},
   "source": [
    "### 3.1 Definición de la arquitectura"
   ]
  },
  {
   "cell_type": "code",
   "execution_count": null,
   "metadata": {},
   "outputs": [],
   "source": [
    "# definición del arquitectura\n",
    "class CNN(nn.Module):\n",
    "    \n",
    "    # inicializador\n",
    "    def __init__(self):\n",
    "\n",
    "        # inicilización del objeto padre, obligatorio\n",
    "        super(CNN, self).__init__()\n",
    "        self.num_feats = 16 * 7 * 7\n",
    "\n",
    "        # definición de bloques conv\n",
    "        # [N, 1, 28, 28] => [N, 4, 14, 14]\n",
    "        self.cnn = nn.Sequential(\n",
    "\n",
    "            # bloque conv1\n",
    "            # [N, 1, 28, 28] => [N, 4, 28, 28]\n",
    "            nn.Conv2d(in_channels=1, out_channels=4, \n",
    "                      kernel_size=3, padding=1),\n",
    "            # [N, 4, 28, 28]\n",
    "            nn.ReLU(),\n",
    "            # [N, 4, 28, 28] => [N, 4, 14, 14]\n",
    "            nn.MaxPool2d(kernel_size=2, stride=2),\n",
    "\n",
    "        )       \n",
    "        \n",
    "        # [N, 4, 14, 14] => [N, 4x14x14]\n",
    "        self.flatten = nn.Flatten()\n",
    "\n",
    "        # [N, 4x14x14] => [N, 1]\n",
    "        self.cls = nn.Linear(self.num_feats, 10)\n",
    "    \n",
    "    # metodo para inferencia\n",
    "    def forward(self, x):\n",
    "        # [N, 1, 28, 28] => [N, 4, 14, 14]\n",
    "        x = self.cnn(x)\n",
    "        # [N, 4, 14, 14] => [N, 4x14x14]\n",
    "        x = self.flatten(x)\n",
    "        # [N, 4x14x14] => [N, 10]\n",
    "        x = self.cls(x)\n",
    "        return x"
   ]
  },
  {
   "cell_type": "markdown",
   "metadata": {},
   "source": [
    "### 3.2 Instancia de la arquitectura"
   ]
  },
  {
   "cell_type": "code",
   "execution_count": null,
   "metadata": {},
   "outputs": [],
   "source": [
    "model = CNN()\n",
    "print(model)"
   ]
  },
  {
   "cell_type": "code",
   "execution_count": null,
   "metadata": {},
   "outputs": [],
   "source": [
    "# inferencia con datos sintéticos\n",
    "x = torch.zeros(1, 1, 28, 28)\n",
    "y = model(x)\n",
    "print(f'{x.shape} => {y.shape}')"
   ]
  },
  {
   "cell_type": "markdown",
   "metadata": {},
   "source": [
    "### 3.3 Inspección de la arquitectura"
   ]
  },
  {
   "cell_type": "code",
   "execution_count": null,
   "metadata": {},
   "outputs": [],
   "source": [
    "summary(model, (1, 1, 28, 28), device='cpu', verbose=0)"
   ]
  },
  {
   "cell_type": "markdown",
   "metadata": {},
   "source": [
    "## 4 Entrenamiento\n",
    "\n",
    "<img src=\"https://raw.githubusercontent.com/bereml/iap/master/fig/supervisado.svg\" width=\"700\"/>\n",
    "&nbsp;\n",
    "Ciclo de entrenamiento supervisado."
   ]
  },
  {
   "cell_type": "markdown",
   "metadata": {},
   "source": [
    "### 4.1 Ciclo de entrenamiento"
   ]
  },
  {
   "cell_type": "code",
   "execution_count": null,
   "metadata": {
    "colab": {
     "base_uri": "https://localhost:8080/",
     "height": 568
    },
    "colab_type": "code",
    "id": "xCqwGRD1nz1a",
    "outputId": "7dc4823c-865a-41ee-b54b-67117e5d4e95"
   },
   "outputs": [],
   "source": [
    "def train_epoch(dl, model, opt):\n",
    "\n",
    "    # por cada lote\n",
    "    for x, y_true in dl:\n",
    "        \n",
    "        # computamos logits\n",
    "        y_lgts = model(x)\n",
    "        \n",
    "        # computamos la pérdida\n",
    "        loss = F.cross_entropy(y_lgts, y_true)\n",
    "        \n",
    "        # vaciamos los gradientes\n",
    "        opt.zero_grad()\n",
    "        \n",
    "        # retropropagamos\n",
    "        loss.backward()\n",
    "        \n",
    "        # actualizamos parámetros\n",
    "        opt.step()\n",
    "\n",
    "\n",
    "def eval_epoch(dl, model, num_batches=None):\n",
    "\n",
    "    # evitamos que se registren las operaciones \n",
    "    # en la gráfica de cómputo\n",
    "    with torch.no_grad():\n",
    "\n",
    "        # historiales\n",
    "        losses, accs = [], []\n",
    "\n",
    "        # validación de la época con num_batches\n",
    "        # si num_batches==None, se usan todos los lotes\n",
    "        for x, y_true in take(dl, num_batches):\n",
    "\n",
    "            # computamos los logits\n",
    "            y_lgts = model(x)\n",
    "\n",
    "            # computamos los puntajes\n",
    "            y_prob = F.softmax(y_lgts, 1)\n",
    "\n",
    "            # computamos la clases\n",
    "            y_pred = torch.argmax(y_prob, 1)\n",
    "\n",
    "            # computamos la pérdida\n",
    "            loss = F.cross_entropy(y_lgts, y_true)\n",
    "\n",
    "            # computamos la exactitud\n",
    "            acc = (y_true == y_pred).type(torch.float32).mean()\n",
    "\n",
    "            # guardamos históricos\n",
    "            losses.append(loss.item())\n",
    "            accs.append(acc.item())\n",
    "\n",
    "        # promediamos\n",
    "        loss = np.mean(losses) * 100\n",
    "        acc = np.mean(accs) * 100\n",
    "\n",
    "        return loss, acc\n",
    "        \n",
    "        \n",
    "def train(model, trn_dl, tst_dl, lr=1e-3, epochs=20,\n",
    "          trn_batches=None, tst_batches=None):\n",
    "\n",
    "    # historiales\n",
    "    loss_hist, acc_hist = [], []\n",
    "    \n",
    "    # optimizador\n",
    "    opt = optim.SGD(model.parameters(), lr=lr)\n",
    "\n",
    "    # ciclo de entrenamiento\n",
    "    for epoch in trange(epochs):\n",
    "\n",
    "        # entrenamos la época\n",
    "        train_epoch(trn_dl, model, opt)\n",
    "\n",
    "        # evaluamos la época en entrenamiento\n",
    "        trn_loss, trn_acc = eval_epoch(trn_dl, model, trn_batches)\n",
    "        # evaluamos la época en prueba\n",
    "        tst_loss, tst_acc = eval_epoch(tst_dl, model, tst_batches)\n",
    "\n",
    "        # guardamos historial\n",
    "        loss_hist.append([trn_loss, tst_loss])\n",
    "        acc_hist.append([trn_acc, tst_acc])\n",
    "\n",
    "        # imprimimos progreso\n",
    "        print(f'E{epoch:02} '\n",
    "              f'loss=[{trn_loss:6.2f},{tst_loss:6.2f}] '\n",
    "              f'acc=[{trn_acc:5.2f},{tst_acc:5.2f}]')\n",
    "\n",
    "    return loss_hist, acc_hist"
   ]
  },
  {
   "cell_type": "markdown",
   "metadata": {},
   "source": [
    "Entrenamos un modelo:"
   ]
  },
  {
   "cell_type": "code",
   "execution_count": null,
   "metadata": {},
   "outputs": [],
   "source": [
    "# instanciamos un modelo\n",
    "model = CNN()\n",
    "# entrenamos\n",
    "loss_hist, acc_hist = train(model, trn_dl, tst_dl)"
   ]
  },
  {
   "cell_type": "markdown",
   "metadata": {},
   "source": [
    "### 4.2 Gráficas de pérdidas y exactitud"
   ]
  },
  {
   "cell_type": "code",
   "execution_count": null,
   "metadata": {},
   "outputs": [],
   "source": [
    "trn_loss, tst_loss = zip(*loss_hist)\n",
    "plt.plot(trn_loss, 'tab:orange', label='trn loss')\n",
    "plt.plot(tst_loss, 'tab:red', label='tst loss')\n",
    "plt.legend(loc='upper right')\n",
    "plt.xlabel('época')\n",
    "plt.ylabel('pérdida')\n",
    "plt.show()"
   ]
  },
  {
   "cell_type": "code",
   "execution_count": null,
   "metadata": {},
   "outputs": [],
   "source": [
    "trn_acc, tst_acc = zip(*acc_hist)\n",
    "plt.plot(trn_acc, 'tab:green', label='trn acc')\n",
    "plt.plot(tst_acc, 'tab:blue', label='tst acc')\n",
    "plt.legend(loc='lower right')\n",
    "plt.xlabel('época')\n",
    "plt.ylabel('exactitud')\n",
    "plt.show()"
   ]
  },
  {
   "cell_type": "markdown",
   "metadata": {},
   "source": [
    "## 5 Evaluación\n",
    "\n",
    "<img src=\"https://raw.githubusercontent.com/bereml/iap/master/fig/eval_trn_tst.svg\" width=\"450\"/>\n",
    "&nbsp;\n",
    "Entrenamiento con una partición de entrenamiento y prueba."
   ]
  },
  {
   "cell_type": "markdown",
   "metadata": {},
   "source": [
    "### 5.1 Evaluación final"
   ]
  },
  {
   "cell_type": "code",
   "execution_count": null,
   "metadata": {},
   "outputs": [],
   "source": [
    "# evaluamos en entrenamiento\n",
    "trn_loss, trn_acc = eval_epoch(trn_dl, model)\n",
    "# evaluamos en prueba\n",
    "tst_loss, tst_acc = eval_epoch(tst_dl, model)\n",
    "print(f'loss=[{trn_loss:6.2f},{tst_loss:6.2f}] '\n",
    "      f'acc=[{trn_acc:5.2f},{tst_acc:5.2f}]')"
   ]
  },
  {
   "cell_type": "markdown",
   "metadata": {},
   "source": [
    "### 5.2 Inferencia"
   ]
  },
  {
   "cell_type": "code",
   "execution_count": null,
   "metadata": {},
   "outputs": [],
   "source": [
    "with torch.no_grad(): \n",
    "    x, y_true = next(iter(tst_dl))\n",
    "    y_lgts = model(x)\n",
    "    y_prob = F.softmax(y_lgts, 1)\n",
    "    y_pred = torch.argmax(y_prob, 1)\n",
    "    titles = [f'V={t} P={p}' for t, p in zip(y_true, y_pred)]\n",
    "    display_batch(x, titles, ROWS, COLS)"
   ]
  }
 ],
 "metadata": {
  "kernelspec": {
   "display_name": "Python 3",
   "language": "python",
   "name": "python3"
  },
  "language_info": {
   "codemirror_mode": {
    "name": "ipython",
    "version": 3
   },
   "file_extension": ".py",
   "mimetype": "text/x-python",
   "name": "python",
   "nbconvert_exporter": "python",
   "pygments_lexer": "ipython3",
   "version": "3.8.5"
  }
 },
 "nbformat": 4,
 "nbformat_minor": 4
}
