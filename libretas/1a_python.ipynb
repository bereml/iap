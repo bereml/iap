{
 "cells": [
  {
   "cell_type": "markdown",
   "metadata": {
    "colab_type": "text",
    "id": "view-in-github"
   },
   "source": [
    "<a href=\"https://colab.research.google.com/github/bereml/iap/blob/master/libretas/1a_python.ipynb\" target=\"_parent\"><img src=\"https://colab.research.google.com/assets/colab-badge.svg\" alt=\"Open In Colab\"/></a>"
   ]
  },
  {
   "cell_type": "markdown",
   "metadata": {},
   "source": [
    "# Introducción a Python\n",
    "\n",
    "Curso: [Introducción al Aprendizaje Profundo](http://turing.iimas.unam.mx/~ricardoml/course/iap/). Profesores: [Bere](https://turing.iimas.unam.mx/~bereml/) y [Ricardo](https://turing.iimas.unam.mx/~ricardoml/) Montalvo Lezama.\n",
    "\n",
    "---\n",
    "---\n",
    "\n",
    "[Python](https://www.python.org) es un lenguaje de programación interpretado que se distingue por ser sencillo y legible diseñado por el dictador benevolente [Guido van Rossum](https://www.youtube.com/watch?v=J0Aq44Pze-w). Es multiparadigma (orientado a objetos, imperativo y un poco funcional), dinámico y multiplataforma.\n",
    "\n",
    "Debido a estas características y su amplio ecosistema de bibliotecas de cómputo científico se ha convertido en la lengua franca de la comunidad de aprendizaje automatizado.\n",
    "\n",
    "![python-ecosystem](https://atrebas.github.io/images/python.png)\n",
    "<div style=\"text-align: center\"> https://atrebas.github.io/post/2019-01-15-2018-learning/ </div>"
   ]
  },
  {
   "cell_type": "markdown",
   "metadata": {},
   "source": [
    "---\n",
    "### 1 Variables\n",
    "\n",
    "Una variable es una localidad de memoria a la que asignamos un identificador o nombre para poder leerla y escribirla.\n",
    "\n",
    "![variable-naming](http://www.commitstrip.com/wp-content/uploads/2015/10/Strip-Trouver-le-nom-de-variable-english650-final.jpg)\n",
    "<div style=\"text-align: center\"> http://www.commitstrip.com/en/2015/10/27/one-of-the-coders-hardest-problems </div>\n",
    "\n",
    "Definición:"
   ]
  },
  {
   "cell_type": "code",
   "execution_count": 1,
   "metadata": {},
   "outputs": [
    {
     "data": {
      "text/plain": [
       "(True, 7, 3.141592, (1+1j))"
      ]
     },
     "execution_count": 1,
     "metadata": {},
     "output_type": "execute_result"
    }
   ],
   "source": [
    "# lógicos\n",
    "a = True     # bool\n",
    "b = False    # bool\n",
    "\n",
    "# numéricos\n",
    "i = 7        # int\n",
    "f = 3.141592 # float\n",
    "c = 1 + 1j   # complex\n",
    "\n",
    "a, i, f, c"
   ]
  },
  {
   "cell_type": "code",
   "execution_count": 2,
   "metadata": {},
   "outputs": [
    {
     "data": {
      "text/plain": [
       "('aprendizaje profundo', str)"
      ]
     },
     "execution_count": 2,
     "metadata": {},
     "output_type": "execute_result"
    }
   ],
   "source": [
    "# cadenas\n",
    "s = 'aprendizaje profundo' # str\n",
    "\n",
    "# type(x) obtiene el tipo de x\n",
    "s, type(s)"
   ]
  },
  {
   "cell_type": "markdown",
   "metadata": {},
   "source": [
    "Aritmética y operadores:"
   ]
  },
  {
   "cell_type": "code",
   "execution_count": 3,
   "metadata": {},
   "outputs": [
    {
     "data": {
      "text/plain": [
       "(False, False, True)"
      ]
     },
     "execution_count": 3,
     "metadata": {},
     "output_type": "execute_result"
    }
   ],
   "source": [
    "# lógicos (evaluación perezosa)\n",
    "not a, a and b, a or b"
   ]
  },
  {
   "cell_type": "code",
   "execution_count": 4,
   "metadata": {},
   "outputs": [
    {
     "data": {
      "text/plain": [
       "(8, 2.141592, (2+2j), 1.570796, 1.0, 49, 1)"
      ]
     },
     "execution_count": 4,
     "metadata": {},
     "output_type": "execute_result"
    }
   ],
   "source": [
    "# numéricos\n",
    "i + 1, f - 1, c * 2, f / 2, f // 2, i ** 2, i % 2"
   ]
  },
  {
   "cell_type": "code",
   "execution_count": 5,
   "metadata": {},
   "outputs": [
    {
     "data": {
      "text/plain": [
       "('a', 'j', 'o', 'profundo', 'aprendizaje ', 'e pro')"
      ]
     },
     "execution_count": 5,
     "metadata": {},
     "output_type": "execute_result"
    }
   ],
   "source": [
    "# acceso a cadenas\n",
    "s[0], s[9], s[-1], s[12:], s[:12], s[10:15]"
   ]
  },
  {
   "cell_type": "code",
   "execution_count": 6,
   "metadata": {},
   "outputs": [
    {
     "data": {
      "text/plain": [
       "('aprendizaje profundo', 'et patati et patata et patati et patata ')"
      ]
     },
     "execution_count": 6,
     "metadata": {},
     "output_type": "execute_result"
    }
   ],
   "source": [
    "# concatenación de cadenas\n",
    "'aprendizaje' + ' ' + 'profundo', 'et patati et patata ' * 2"
   ]
  },
  {
   "cell_type": "code",
   "execution_count": 7,
   "metadata": {},
   "outputs": [
    {
     "data": {
      "text/plain": [
       "'et patati et patata et patati et patata '"
      ]
     },
     "execution_count": 7,
     "metadata": {},
     "output_type": "execute_result"
    }
   ],
   "source": [
    "# multiplicación de cadenas\n",
    "\"et patati et patata \" * 2"
   ]
  },
  {
   "cell_type": "markdown",
   "metadata": {},
   "source": [
    "---\n",
    "### 2 Colecciones\n",
    "\n",
    "Una estructura de datos es una forma de organización, administrción y almacenamiento que permite un acceso y modificación eficiente.\n",
    "\n",
    "| Estructura de datos | Ejemplo                   | Mutable | Ordenada | Repetidos |\n",
    "| ------------------- | ------------------------- | ------- | -------- | --------- |\n",
    "| Lista               | `[1, 1.618, True, 'O_o']` | Si      | Si       | Si        |\n",
    "| Tupla               | `(1, 1.618, True, 'O_o')` | No      | Si       | Si        |\n",
    "| Diccionario         | `{1: 'a', 1.618: 'phi'}`  | Si      | Si*      | No        |\n",
    "| Conjunto            | `{1, 1.618, True, 'O_o'}` | Si      | Si*      | No        |\n",
    "\n",
    "`*` Orden solo en recorrido, el acceso aletorio no es soportado."
   ]
  },
  {
   "cell_type": "markdown",
   "metadata": {},
   "source": [
    "#### 2.1 Listas\n",
    "\n",
    "Colección de elementos con orden (indizado en cero), admite repetidos y se puede modificar (mutable).\n",
    "\n",
    "Definición por extensión:"
   ]
  },
  {
   "cell_type": "code",
   "execution_count": 8,
   "metadata": {},
   "outputs": [
    {
     "data": {
      "text/plain": [
       "[0, 1, 2, 3, 4]"
      ]
     },
     "execution_count": 8,
     "metadata": {},
     "output_type": "execute_result"
    }
   ],
   "source": [
    "# lista de constantes\n",
    "l = [0, 1, 2, 3, 4]\n",
    "l"
   ]
  },
  {
   "cell_type": "code",
   "execution_count": 9,
   "metadata": {},
   "outputs": [
    {
     "data": {
      "text/plain": [
       "[True, 7, 3.141592, (1+1j), 'aprendizaje profundo']"
      ]
     },
     "execution_count": 9,
     "metadata": {},
     "output_type": "execute_result"
    }
   ],
   "source": [
    "# lista mixta\n",
    "l2 = [True, 7, 3.141592, 1 + 1j, 'aprendizaje profundo']\n",
    "l2"
   ]
  },
  {
   "cell_type": "code",
   "execution_count": 10,
   "metadata": {},
   "outputs": [
    {
     "data": {
      "text/plain": [
       "[True, 7, 3.141592, (1+1j), 'aprendizaje profundo']"
      ]
     },
     "execution_count": 10,
     "metadata": {},
     "output_type": "execute_result"
    }
   ],
   "source": [
    "# lista de variables\n",
    "l3 = [a, i, f, c, s]\n",
    "l3"
   ]
  },
  {
   "cell_type": "code",
   "execution_count": 11,
   "metadata": {},
   "outputs": [
    {
     "data": {
      "text/plain": [
       "[[0, 1], [2, 3]]"
      ]
     },
     "execution_count": 11,
     "metadata": {},
     "output_type": "execute_result"
    }
   ],
   "source": [
    "# lista de listas (matriz)\n",
    "l4 = [[0, 1], [2, 3]]\n",
    "l4"
   ]
  },
  {
   "cell_type": "markdown",
   "metadata": {},
   "source": [
    "Lectura:"
   ]
  },
  {
   "cell_type": "code",
   "execution_count": 12,
   "metadata": {},
   "outputs": [
    {
     "data": {
      "text/plain": [
       "(0, 2, 4)"
      ]
     },
     "execution_count": 12,
     "metadata": {},
     "output_type": "execute_result"
    }
   ],
   "source": [
    "# acceso, indizado en cero e inverso\n",
    "l[0], l[2], l[-1]"
   ]
  },
  {
   "cell_type": "code",
   "execution_count": 13,
   "metadata": {},
   "outputs": [
    {
     "data": {
      "text/plain": [
       "([1, 2], [2, 3, 4], [0, 1])"
      ]
     },
     "execution_count": 13,
     "metadata": {},
     "output_type": "execute_result"
    }
   ],
   "source": [
    "# rebanadas: regresan una sublista nueva en el intervalo [a, b)\n",
    "# l = [0, 1, 2, 3, 4]\n",
    "l[1:3], l[2:], l[:2]"
   ]
  },
  {
   "cell_type": "markdown",
   "metadata": {},
   "source": [
    "Escritura"
   ]
  },
  {
   "cell_type": "code",
   "execution_count": 14,
   "metadata": {},
   "outputs": [
    {
     "data": {
      "text/plain": [
       "-1"
      ]
     },
     "execution_count": 14,
     "metadata": {},
     "output_type": "execute_result"
    }
   ],
   "source": [
    "# modificación\n",
    "lm = list(l) # crea una copia\n",
    "lm[0] = -1   # sobreescribe\n",
    "lm[0]"
   ]
  },
  {
   "cell_type": "markdown",
   "metadata": {},
   "source": [
    "Aritmética y operadores:"
   ]
  },
  {
   "cell_type": "code",
   "execution_count": 15,
   "metadata": {},
   "outputs": [
    {
     "data": {
      "text/plain": [
       "([0, 1, 2, 3], [0, 0, 0, 0, 0])"
      ]
     },
     "execution_count": 15,
     "metadata": {},
     "output_type": "execute_result"
    }
   ],
   "source": [
    "# concatenación y producto\n",
    "[0, 1] + [2, 3], [0] * 5"
   ]
  },
  {
   "cell_type": "code",
   "execution_count": 16,
   "metadata": {},
   "outputs": [
    {
     "data": {
      "text/plain": [
       "(5, True)"
      ]
     },
     "execution_count": 16,
     "metadata": {},
     "output_type": "execute_result"
    }
   ],
   "source": [
    "# tamaño y pertenencia\n",
    "len(l), 2 in l"
   ]
  },
  {
   "cell_type": "markdown",
   "metadata": {},
   "source": [
    "Métodos (funciones asociadas):"
   ]
  },
  {
   "cell_type": "code",
   "execution_count": 17,
   "metadata": {},
   "outputs": [
    {
     "data": {
      "text/plain": [
       "[0, 1, 2, 3, 4, -1]"
      ]
     },
     "execution_count": 17,
     "metadata": {},
     "output_type": "execute_result"
    }
   ],
   "source": [
    "l = [0, 1, 2, 3, 4]\n",
    "\n",
    "# append(x) agrega x al final de la lista\n",
    "l.append(-1)\n",
    "l"
   ]
  },
  {
   "cell_type": "code",
   "execution_count": 18,
   "metadata": {},
   "outputs": [
    {
     "data": {
      "text/plain": [
       "[0, 1, 2, 3, 4]"
      ]
     },
     "execution_count": 18,
     "metadata": {},
     "output_type": "execute_result"
    }
   ],
   "source": [
    "# pop() elimina al final de la lista\n",
    "l.pop() # regresa el elemento\n",
    "l"
   ]
  },
  {
   "cell_type": "code",
   "execution_count": 19,
   "metadata": {},
   "outputs": [
    {
     "data": {
      "text/plain": [
       "[-1, 0, 1, 2, 3, 4]"
      ]
     },
     "execution_count": 19,
     "metadata": {},
     "output_type": "execute_result"
    }
   ],
   "source": [
    "# insert(i, x) agrega x en la posición i\n",
    "l.insert(0, -1)\n",
    "l"
   ]
  },
  {
   "cell_type": "code",
   "execution_count": 20,
   "metadata": {},
   "outputs": [
    {
     "data": {
      "text/plain": [
       "[0, 1, 2, 3, 4]"
      ]
     },
     "execution_count": 20,
     "metadata": {},
     "output_type": "execute_result"
    }
   ],
   "source": [
    "# pop(i) elimina en la posición i\n",
    "l.pop(0)\n",
    "l"
   ]
  },
  {
   "cell_type": "code",
   "execution_count": 21,
   "metadata": {},
   "outputs": [
    {
     "data": {
      "text/plain": [
       "[0, 1, 2, 3]"
      ]
     },
     "execution_count": 21,
     "metadata": {},
     "output_type": "execute_result"
    }
   ],
   "source": [
    "# remove(x) remueve x de la lista\n",
    "l.remove(4)\n",
    "l"
   ]
  },
  {
   "cell_type": "code",
   "execution_count": 22,
   "metadata": {},
   "outputs": [
    {
     "data": {
      "text/plain": [
       "[0, 1, 2, 3, 9, 8, 7, 6, 5, 4]"
      ]
     },
     "execution_count": 22,
     "metadata": {},
     "output_type": "execute_result"
    }
   ],
   "source": [
    "# extend(l2) agrega los elementos de una segunda lista l2 (in situ)\n",
    "l.extend([9, 8, 7, 6, 5, 4])\n",
    "l"
   ]
  },
  {
   "cell_type": "code",
   "execution_count": 23,
   "metadata": {},
   "outputs": [
    {
     "data": {
      "text/plain": [
       "[0, 1, 2, 3, 4, 5, 6, 7, 8, 9]"
      ]
     },
     "execution_count": 23,
     "metadata": {},
     "output_type": "execute_result"
    }
   ],
   "source": [
    "# sort() ordena ascendente por defecto (in situ)\n",
    "l.sort()\n",
    "l"
   ]
  },
  {
   "cell_type": "code",
   "execution_count": 24,
   "metadata": {},
   "outputs": [
    {
     "data": {
      "text/plain": [
       "[9, 8, 7, 6, 5, 4, 3, 2, 1, 0]"
      ]
     },
     "execution_count": 24,
     "metadata": {},
     "output_type": "execute_result"
    }
   ],
   "source": [
    "# reversed() invierte la lista (in situ)\n",
    "l.reverse()\n",
    "l"
   ]
  },
  {
   "cell_type": "markdown",
   "metadata": {},
   "source": [
    "#### 2.2 Tuplas\n",
    "Colección de elementos con orden (indizado en cero), admite repetidos y no se puede modificar (inmutable).\n",
    "\n",
    "Definición por extensión:"
   ]
  },
  {
   "cell_type": "code",
   "execution_count": 25,
   "metadata": {},
   "outputs": [
    {
     "data": {
      "text/plain": [
       "((0, 1, 2, 3, 4), tuple)"
      ]
     },
     "execution_count": 25,
     "metadata": {},
     "output_type": "execute_result"
    }
   ],
   "source": [
    "t = (0, 1, 2, 3, 4)\n",
    "t, type(t)"
   ]
  },
  {
   "cell_type": "markdown",
   "metadata": {},
   "source": [
    "Soporta las mismas operaciones que una lista con excepción de las de escritura."
   ]
  },
  {
   "cell_type": "code",
   "execution_count": 26,
   "metadata": {},
   "outputs": [
    {
     "data": {
      "text/plain": [
       "(1, 0)"
      ]
     },
     "execution_count": 26,
     "metadata": {},
     "output_type": "execute_result"
    }
   ],
   "source": [
    "# asignación por intercambio (tuplas implícitas)\n",
    "a, b = 0, 1\n",
    "a, b = b, a\n",
    "a, b"
   ]
  },
  {
   "cell_type": "markdown",
   "metadata": {},
   "source": [
    "#### 2.3 Diccionarios\n",
    "\n",
    "Arreglo asociativo llave-valor (mutable), las llaves son únicas mientras que los valores se pueden repetir.\n",
    "\n",
    "Definición por extensión:"
   ]
  },
  {
   "cell_type": "code",
   "execution_count": 27,
   "metadata": {},
   "outputs": [
    {
     "data": {
      "text/plain": [
       "{'a': 0, 'b': 1, 'c': 2, 'd': 3, 'e': -1}"
      ]
     },
     "execution_count": 27,
     "metadata": {},
     "output_type": "execute_result"
    }
   ],
   "source": [
    "d = {'a': 0, 'b': 1, 'c': 2, 'd': 3, 'e': -1}\n",
    "d"
   ]
  },
  {
   "cell_type": "markdown",
   "metadata": {},
   "source": [
    "Lectura:"
   ]
  },
  {
   "cell_type": "code",
   "execution_count": 28,
   "metadata": {},
   "outputs": [
    {
     "data": {
      "text/plain": [
       "2"
      ]
     },
     "execution_count": 28,
     "metadata": {},
     "output_type": "execute_result"
    }
   ],
   "source": [
    "d['c']"
   ]
  },
  {
   "cell_type": "markdown",
   "metadata": {},
   "source": [
    "Escritura:"
   ]
  },
  {
   "cell_type": "code",
   "execution_count": 29,
   "metadata": {},
   "outputs": [
    {
     "data": {
      "text/plain": [
       "({'a': 0, 'b': 1, 'c': 2, 'd': 3, 'e': 4, 'f': 5}, 0)"
      ]
     },
     "execution_count": 29,
     "metadata": {},
     "output_type": "execute_result"
    }
   ],
   "source": [
    "# modificar\n",
    "d['e'] = 4\n",
    "# agregar\n",
    "d['f'] = 5\n",
    "d, d['a']"
   ]
  },
  {
   "cell_type": "code",
   "execution_count": 30,
   "metadata": {},
   "outputs": [
    {
     "data": {
      "text/plain": [
       "{'a': 0, 'b': 1, 'c': 2, 'd': 3, 'e': 4}"
      ]
     },
     "execution_count": 30,
     "metadata": {},
     "output_type": "execute_result"
    }
   ],
   "source": [
    "# elimiar un elemento\n",
    "del d['f']\n",
    "d"
   ]
  },
  {
   "cell_type": "code",
   "execution_count": 31,
   "metadata": {},
   "outputs": [
    {
     "data": {
      "text/plain": [
       "(5, True)"
      ]
     },
     "execution_count": 31,
     "metadata": {},
     "output_type": "execute_result"
    }
   ],
   "source": [
    "# tamaño y pertenencia\n",
    "len(d), 'c' in d"
   ]
  },
  {
   "cell_type": "markdown",
   "metadata": {},
   "source": [
    "Métodos:"
   ]
  },
  {
   "cell_type": "code",
   "execution_count": 32,
   "metadata": {},
   "outputs": [
    {
     "data": {
      "text/plain": [
       "dict_keys(['a', 'b', 'c', 'd', 'e'])"
      ]
     },
     "execution_count": 32,
     "metadata": {},
     "output_type": "execute_result"
    }
   ],
   "source": [
    "# keys() regresa una lista de las llaves\n",
    "d.keys()"
   ]
  },
  {
   "cell_type": "code",
   "execution_count": 33,
   "metadata": {},
   "outputs": [
    {
     "data": {
      "text/plain": [
       "dict_values([0, 1, 2, 3, 4])"
      ]
     },
     "execution_count": 33,
     "metadata": {},
     "output_type": "execute_result"
    }
   ],
   "source": [
    "# values() regresa una lista de los valores\n",
    "d.values()"
   ]
  },
  {
   "cell_type": "code",
   "execution_count": 34,
   "metadata": {},
   "outputs": [
    {
     "data": {
      "text/plain": [
       "dict_items([('a', 0), ('b', 1), ('c', 2), ('d', 3), ('e', 4)])"
      ]
     },
     "execution_count": 34,
     "metadata": {},
     "output_type": "execute_result"
    }
   ],
   "source": [
    "# items() regresa una lista de pares llave-valor\n",
    "d.items()"
   ]
  },
  {
   "cell_type": "code",
   "execution_count": 35,
   "metadata": {},
   "outputs": [
    {
     "data": {
      "text/plain": [
       "(0, 26)"
      ]
     },
     "execution_count": 35,
     "metadata": {},
     "output_type": "execute_result"
    }
   ],
   "source": [
    "# get() obtiene un valor para una llave dada,\n",
    "# acepta un valor por defecto en caso de una llave inexistente\n",
    "d.get('a'), d.get('z', 26) "
   ]
  },
  {
   "cell_type": "markdown",
   "metadata": {},
   "source": [
    "---\n",
    "### 3 Condicionales y ciclos\n",
    "\n",
    "Sentencias que permiten controlar el flujo del programa.\n",
    "\n",
    "![python-antigravity](https://imgs.xkcd.com/comics/python.png)\n",
    "<div style=\"text-align: center\"> https://xkcd.com/353/ </div>\n",
    "\n",
    "#### 3.1 ``if``, ``elif`` y ``else``"
   ]
  },
  {
   "cell_type": "code",
   "execution_count": 36,
   "metadata": {},
   "outputs": [
    {
     "name": "stdout",
     "output_type": "stream",
     "text": [
      "condicional simple 1\n",
      "condicional par 1\n",
      "condicional múltiple 2\n"
     ]
    }
   ],
   "source": [
    "predicado = True\n",
    "\n",
    "# condicional simple\n",
    "if predicado:\n",
    "    print(\"condicional simple 1\")\n",
    "if not predicado:\n",
    "    print(\"condicional simple 2\")\n",
    "\n",
    "# condicional par\n",
    "if predicado:\n",
    "    print(\"condicional par 1\")\n",
    "else:\n",
    "    print(\"condicional par 2\")\n",
    "\n",
    "# condicional múltiple\n",
    "if predicado and not predicado:\n",
    "    print(\"condicional múltiple 1\")\n",
    "elif predicado and predicado:\n",
    "    print(\"condicional múltiple 2\")\n",
    "else:\n",
    "    print(\"condicional múltiple 3\")"
   ]
  },
  {
   "cell_type": "markdown",
   "metadata": {},
   "source": [
    "#### 3.2 ``for``"
   ]
  },
  {
   "cell_type": "code",
   "execution_count": 37,
   "metadata": {},
   "outputs": [
    {
     "name": "stdout",
     "output_type": "stream",
     "text": [
      "a\n",
      "b\n",
      "c\n",
      "d\n",
      "e\n"
     ]
    }
   ],
   "source": [
    "l = ['a', 'b', 'c', 'd', 'e']\n",
    "# recorriendo una lista/tupla\n",
    "for x in l:\n",
    "    print(x)"
   ]
  },
  {
   "cell_type": "code",
   "execution_count": 38,
   "metadata": {},
   "outputs": [
    {
     "name": "stdout",
     "output_type": "stream",
     "text": [
      "a 0\n",
      "b 1\n",
      "c 2\n",
      "d 3\n",
      "e 4\n"
     ]
    }
   ],
   "source": [
    "# recorriendo un diccionario\n",
    "for k, v in d.items():\n",
    "    print(k, v)"
   ]
  },
  {
   "cell_type": "code",
   "execution_count": 39,
   "metadata": {},
   "outputs": [
    {
     "name": "stdout",
     "output_type": "stream",
     "text": [
      "0\n",
      "2\n",
      "4\n",
      "6\n",
      "8\n"
     ]
    }
   ],
   "source": [
    "# ciclo en un contador\n",
    "for i in range(0, 10, 2):\n",
    "    print(i)"
   ]
  },
  {
   "cell_type": "code",
   "execution_count": 40,
   "metadata": {},
   "outputs": [
    {
     "name": "stdout",
     "output_type": "stream",
     "text": [
      "0 a\n",
      "1 b\n",
      "2 c\n",
      "3 d\n",
      "4 e\n"
     ]
    }
   ],
   "source": [
    "# ciclo sobre la lista y un contador\n",
    "for i, x in enumerate(l):\n",
    "    print(i, x)"
   ]
  },
  {
   "cell_type": "markdown",
   "metadata": {},
   "source": [
    "#### 3.3 ``while``"
   ]
  },
  {
   "cell_type": "code",
   "execution_count": 41,
   "metadata": {},
   "outputs": [
    {
     "name": "stdout",
     "output_type": "stream",
     "text": [
      "0.038551839337380045\n",
      "0.6962243226370528\n",
      "0.14393322139536102\n",
      "0.46253225482908755\n",
      "0.671646764117767\n",
      "0.7929512716552943\n"
     ]
    }
   ],
   "source": [
    "# importamos un módulo\n",
    "import random\n",
    "\n",
    "# fijamos la semilla\n",
    "random.seed(43)\n",
    "\n",
    "continuar = True\n",
    "while continuar:\n",
    "    # r es un pseudo aleatorio en [0, 1) \n",
    "    r = random.random() \n",
    "    print(r)\n",
    "    if r > 0.75:\n",
    "        continuar = False  "
   ]
  },
  {
   "cell_type": "markdown",
   "metadata": {},
   "source": [
    "### Participación A"
   ]
  },
  {
   "cell_type": "code",
   "execution_count": 42,
   "metadata": {},
   "outputs": [],
   "source": [
    "# escribe código para imprimir el cuadrado \n",
    "# de los números enteros en l\n",
    "\n"
   ]
  },
  {
   "cell_type": "markdown",
   "metadata": {},
   "source": [
    "---\n",
    "### 4 Funciones\n",
    "\n",
    "Función sin argumentos y sin retorno:"
   ]
  },
  {
   "cell_type": "code",
   "execution_count": 43,
   "metadata": {},
   "outputs": [
    {
     "name": "stdout",
     "output_type": "stream",
     "text": [
      "Servus!\n"
     ]
    }
   ],
   "source": [
    "def saludar():\n",
    "    print('Servus!')\n",
    "\n",
    "saludar()"
   ]
  },
  {
   "cell_type": "markdown",
   "metadata": {},
   "source": [
    "Función un argumento y un valor de retorno:"
   ]
  },
  {
   "cell_type": "code",
   "execution_count": 44,
   "metadata": {},
   "outputs": [
    {
     "data": {
      "text/plain": [
       "25"
      ]
     },
     "execution_count": 44,
     "metadata": {},
     "output_type": "execute_result"
    }
   ],
   "source": [
    "def cuadrado(x):\n",
    "    return x ** 2\n",
    "\n",
    "cuadrado(5)"
   ]
  },
  {
   "cell_type": "markdown",
   "metadata": {},
   "source": [
    "Función con múltiples argumentos y valores de retorno:"
   ]
  },
  {
   "cell_type": "code",
   "execution_count": 45,
   "metadata": {},
   "outputs": [
    {
     "data": {
      "text/plain": [
       "(3, -1)"
      ]
     },
     "execution_count": 45,
     "metadata": {},
     "output_type": "execute_result"
    }
   ],
   "source": [
    "def suma_y_resta(x, y):\n",
    "    return x + y, x - y\n",
    "\n",
    "suma_y_resta(1, 2)"
   ]
  },
  {
   "cell_type": "markdown",
   "metadata": {},
   "source": [
    "Función con argumento por defecto:"
   ]
  },
  {
   "cell_type": "code",
   "execution_count": 46,
   "metadata": {},
   "outputs": [
    {
     "data": {
      "text/plain": [
       "(16, 2.0)"
      ]
     },
     "execution_count": 46,
     "metadata": {},
     "output_type": "execute_result"
    }
   ],
   "source": [
    "def cuadrado_o_raiz(x, op='raiz'):\n",
    "    if op == 'cuadrado':\n",
    "        return x ** 2\n",
    "    else:\n",
    "        return x ** .5\n",
    "\n",
    "cuadrado_o_raiz(4, 'cuadrado'), cuadrado_o_raiz(4)"
   ]
  },
  {
   "cell_type": "markdown",
   "metadata": {},
   "source": [
    "Función recursiva que suma una lista:"
   ]
  },
  {
   "cell_type": "code",
   "execution_count": 47,
   "metadata": {},
   "outputs": [
    {
     "data": {
      "text/plain": [
       "10"
      ]
     },
     "execution_count": 47,
     "metadata": {},
     "output_type": "execute_result"
    }
   ],
   "source": [
    "def list_rec_sum(l):\n",
    "    n = len(l)\n",
    "    if n == 0:\n",
    "        return 0\n",
    "    elif n == 1:\n",
    "        return l[0]\n",
    "    else:\n",
    "        m = n // 2\n",
    "        return list_rec_sum(l[:m]) + list_rec_sum(l[m:])\n",
    "\n",
    "list_rec_sum([0, 1, 2, 3, 4])"
   ]
  },
  {
   "cell_type": "markdown",
   "metadata": {},
   "source": [
    "Función con una función como argumento:"
   ]
  },
  {
   "cell_type": "code",
   "execution_count": 48,
   "metadata": {},
   "outputs": [
    {
     "data": {
      "text/plain": [
       "[0, 1, 4]"
      ]
     },
     "execution_count": 48,
     "metadata": {},
     "output_type": "execute_result"
    }
   ],
   "source": [
    "def func_map(fn, l):\n",
    "    r = []\n",
    "    for x in l:\n",
    "        r.append(fn(x))\n",
    "    return r\n",
    "\n",
    "func_map(cuadrado, [0, 1, 2])"
   ]
  },
  {
   "cell_type": "markdown",
   "metadata": {},
   "source": [
    "### Participación B"
   ]
  },
  {
   "cell_type": "code",
   "execution_count": 49,
   "metadata": {},
   "outputs": [
    {
     "data": {
      "text/plain": [
       "(0, 0, 0, 0)"
      ]
     },
     "execution_count": 49,
     "metadata": {},
     "output_type": "execute_result"
    }
   ],
   "source": [
    "# implementa la función aritmetica(·) con el siguiente comportamiento:\n",
    "# aritmetica(x, y, op='+') => x + y\n",
    "# aritmetica(x, y, op='-') => x - y\n",
    "# aritmetica(x, y, op='*') => x * y\n",
    "# aritmetica(x, y, op='/') => x / y\n",
    "# aritmetica(x, y)         => x / y\n",
    "\n",
    "def aritmetica(x, y, op='/'):\n",
    "    return 0\n",
    "\n",
    "aritmetica(1, 2, '+'), aritmetica(1, 2, '-'), aritmetica(1, 2, '*'), aritmetica(1, 2, '/')"
   ]
  },
  {
   "cell_type": "markdown",
   "metadata": {},
   "source": [
    "### Participación C"
   ]
  },
  {
   "cell_type": "code",
   "execution_count": 50,
   "metadata": {},
   "outputs": [],
   "source": [
    "# implementa una función recursiva que \n",
    "# compute el conjunto potencia\n",
    "def conjunto_potencia(cjt):\n",
    "    pass\n",
    "\n",
    "conjunto_potencia([0, 1, 2])"
   ]
  },
  {
   "cell_type": "markdown",
   "metadata": {},
   "source": [
    "<img src=\"https://thomaspark.co/wp/wp-content/uploads/2017/01/xkcd.png\" alt=\"numpy\" width=\"600\" />\n",
    "<div style=\"text-align: center\"> https://thomaspark.co/2017/01/relevant-xkcd/ </div>"
   ]
  },
  {
   "cell_type": "markdown",
   "metadata": {},
   "source": [
    "---\n",
    "### 5 Comprensiones de colecciones\n",
    "\n",
    "Definición de colecciones similar a la definición matemática de conjuntos por comprensión."
   ]
  },
  {
   "cell_type": "code",
   "execution_count": 51,
   "metadata": {},
   "outputs": [
    {
     "data": {
      "text/plain": [
       "[0, 1, 4, 9, 16, 25, 36, 49, 64, 81]"
      ]
     },
     "execution_count": 51,
     "metadata": {},
     "output_type": "execute_result"
    }
   ],
   "source": [
    "l = range(10)\n",
    "# comprensión de lista sencilla\n",
    "[x**2 for x in l]"
   ]
  },
  {
   "cell_type": "code",
   "execution_count": 52,
   "metadata": {},
   "outputs": [
    {
     "data": {
      "text/plain": [
       "[0, 1, 4, 9, 16]"
      ]
     },
     "execution_count": 52,
     "metadata": {},
     "output_type": "execute_result"
    }
   ],
   "source": [
    "# comprensión de lista con condición \n",
    "[x**2 for x in l if x < 5]"
   ]
  },
  {
   "cell_type": "code",
   "execution_count": 53,
   "metadata": {},
   "outputs": [
    {
     "data": {
      "text/plain": [
       "(0, 1, 4, 9, 16)"
      ]
     },
     "execution_count": 53,
     "metadata": {},
     "output_type": "execute_result"
    }
   ],
   "source": [
    "# comprensión de tupla\n",
    "tuple(x**2 for x in t if x < 5)"
   ]
  },
  {
   "cell_type": "code",
   "execution_count": 54,
   "metadata": {},
   "outputs": [
    {
     "data": {
      "text/plain": [
       "{0: 'A',\n",
       " 1: 'B',\n",
       " 2: 'C',\n",
       " 3: 'D',\n",
       " 4: 'E',\n",
       " 5: 'F',\n",
       " 6: 'G',\n",
       " 7: 'H',\n",
       " 8: 'I',\n",
       " 9: 'J'}"
      ]
     },
     "execution_count": 54,
     "metadata": {},
     "output_type": "execute_result"
    }
   ],
   "source": [
    "# comprensión de diccionario\n",
    "{i: chr(65 + i) for i in l}"
   ]
  },
  {
   "cell_type": "markdown",
   "metadata": {},
   "source": [
    "### Participación D"
   ]
  },
  {
   "cell_type": "code",
   "execution_count": 55,
   "metadata": {},
   "outputs": [],
   "source": [
    "# define un diccionario por comprensión donde\n",
    "# las llaves sean los 10 primeros enteros multiplos de 3\n",
    "# y los valores el cubo de cada llave\n",
    "# ej: {0: 0, 3: 9, 6: 36, 9: 81}\n",
    "\n"
   ]
  },
  {
   "cell_type": "markdown",
   "metadata": {},
   "source": [
    "### 6 Funciones integradas\n",
    "\n",
    "Python provee de un conjunto de funciones integradas (built-ins) bastante utiles en el día a día."
   ]
  },
  {
   "cell_type": "code",
   "execution_count": 56,
   "metadata": {},
   "outputs": [
    {
     "data": {
      "text/plain": [
       "(0, 9, 45)"
      ]
     },
     "execution_count": 56,
     "metadata": {},
     "output_type": "execute_result"
    }
   ],
   "source": [
    "min(l), max(l), sum(l)"
   ]
  },
  {
   "cell_type": "code",
   "execution_count": 57,
   "metadata": {},
   "outputs": [
    {
     "data": {
      "text/plain": [
       "[1, 9, 25, 49, 81]"
      ]
     },
     "execution_count": 57,
     "metadata": {},
     "output_type": "execute_result"
    }
   ],
   "source": [
    "# range(n) genera la secuencia de enteros [0, ... , n)\n",
    "[x ** 2 for x in range(10) if x % 2 != 0]"
   ]
  },
  {
   "cell_type": "code",
   "execution_count": 58,
   "metadata": {},
   "outputs": [
    {
     "name": "stdout",
     "output_type": "stream",
     "text": [
      "Α α\n",
      "Β β\n",
      "Γ γ\n",
      "Δ δ\n",
      "Ε ε\n"
     ]
    }
   ],
   "source": [
    "# zip() empareja colecciones\n",
    "ALPHA = ['Α', 'Β', 'Γ', 'Δ', 'Ε']\n",
    "alpha = ['α', 'β', 'γ', 'δ', 'ε']\n",
    "for c, C in zip(ALPHA, alpha):\n",
    "    print(c, C)"
   ]
  },
  {
   "cell_type": "markdown",
   "metadata": {},
   "source": [
    "---\n",
    "### 7 Formateo de cadenas"
   ]
  },
  {
   "cell_type": "code",
   "execution_count": 59,
   "metadata": {},
   "outputs": [
    {
     "data": {
      "text/plain": [
       "'Mah cualli xihualacan'"
      ]
     },
     "execution_count": 59,
     "metadata": {},
     "output_type": "execute_result"
    }
   ],
   "source": [
    "# str.format()\n",
    "\"Mah {} {}\".format(\"cualli\", 'xihualacan')"
   ]
  },
  {
   "cell_type": "code",
   "execution_count": 60,
   "metadata": {},
   "outputs": [
    {
     "data": {
      "text/plain": [
       "'Mah cualli xihualacan'"
      ]
     },
     "execution_count": 60,
     "metadata": {},
     "output_type": "execute_result"
    }
   ],
   "source": [
    "s1 = \"cualli\"\n",
    "s2 = \"xihualacan\"\n",
    "# f-strings\n",
    "f\"Mah {s1} {s2}\""
   ]
  },
  {
   "cell_type": "markdown",
   "metadata": {},
   "source": [
    "### Participación E\n",
    "\n",
    "La [suma de Riemann](https://es.wikipedia.org/wiki/Suma_de_Riemann) permite calcular una aproximación de una integral. Dada una función $f(x)$ y una partición\n",
    "\n",
    "$$x_0 = a < x_1 < \\cdots < x_{N-1} < x_N = b$$\n",
    "\n",
    "la suma de Riemann queda definida de la siguiente forma\n",
    "\n",
    "$$\\sum_{i=1}^N f(x_i^ * ) (x_i - x_{i-1}) \\ \\ , \\ x_i^* \\in [x_{i-1},x_i]$$\n",
    "\n",
    "Implementa la función `suma_riemann` que toma como parámetros la función $f$, el intervalo $[a, b]$, y el número de puntos $n$."
   ]
  },
  {
   "cell_type": "code",
   "execution_count": 61,
   "metadata": {},
   "outputs": [
    {
     "data": {
      "text/plain": [
       "0"
      ]
     },
     "execution_count": 61,
     "metadata": {},
     "output_type": "execute_result"
    }
   ],
   "source": [
    "def suma_riemann(f, a, b, n):\n",
    "    return 0\n",
    "\n",
    "# [x^3 / 3]_0^3 ≈ 9\n",
    "suma_riemann(cuadrado, 0, 3, 1000)"
   ]
  },
  {
   "cell_type": "markdown",
   "metadata": {},
   "source": [
    "---\n",
    "### 8 Clases\n",
    "\n",
    "Una clase es una plantilla que define un estado y comportamientos para una familia de objetos. El estado está dado por variables llamadas atributos y los comportamientos para modificar ese estado por medio de funciones llamadas métodos. Un estado especifico se obtiene al instanciar la clase en un objeto.\n",
    "\n",
    "![clases](https://raw.githubusercontent.com/bereml/iap/master/fig/clases.png)"
   ]
  },
  {
   "cell_type": "code",
   "execution_count": 62,
   "metadata": {},
   "outputs": [],
   "source": [
    "# clase base\n",
    "class Vehiculo:\n",
    "    \n",
    "    def __init__(self, nombre='X', rapidez=0):\n",
    "        self.nombre = nombre\n",
    "        self.rapidez = rapidez\n",
    "        \n",
    "    def info(self):\n",
    "        print(f'Vehículo {self.nombre} va a {self.rapidez} km/h.')\n",
    "    \n",
    "    def acelerar(self, cantidad):\n",
    "        self.rapidez = self.rapidez + cantidad \n",
    "\n",
    "# Tamalero hereda de Vehiculo\n",
    "class Triciclo(Vehiculo):\n",
    "    \n",
    "    # reimplementamos el inicializador\n",
    "    def __init__(self):\n",
    "        super().__init__('Tamalero', 10)\n",
    "    \n",
    "    # reimplementamos el método de acelerar\n",
    "    def acelerar(self, porcentaje):\n",
    "        self.rapidez = self.rapidez + self.rapidez * porcentaje "
   ]
  },
  {
   "cell_type": "code",
   "execution_count": 63,
   "metadata": {},
   "outputs": [
    {
     "name": "stdout",
     "output_type": "stream",
     "text": [
      "Vehículo X va a 0 km/h.\n",
      "Vehículo X va a 25 km/h.\n"
     ]
    }
   ],
   "source": [
    "# instanciamos Vehiculo\n",
    "vehiculo = Vehiculo()\n",
    "# veamos su estado\n",
    "vehiculo.info()\n",
    "# modfiquemos el estado\n",
    "vehiculo.acelerar(25)\n",
    "# veamos su estado\n",
    "vehiculo.info()"
   ]
  },
  {
   "cell_type": "code",
   "execution_count": 64,
   "metadata": {},
   "outputs": [
    {
     "name": "stdout",
     "output_type": "stream",
     "text": [
      "Vehículo Tamalero va a 10 km/h.\n",
      "Vehículo Tamalero va a 12.5 km/h.\n"
     ]
    }
   ],
   "source": [
    "# instanciamos Triciclo\n",
    "tamalero = Triciclo()\n",
    "# veamos su estado\n",
    "tamalero.info()\n",
    "# modfiquemos el estado\n",
    "tamalero.acelerar(.25)\n",
    "# veamos su estado\n",
    "tamalero.info()"
   ]
  },
  {
   "cell_type": "markdown",
   "metadata": {},
   "source": [
    "### Participación F\n",
    "\n",
    "Implementa la clase `Pumabus` que herede de la clase `Vehiculo`, además:\n",
    "  * Implemementa el método `desacelerar(cantidad)` sin permitir que la rapidez sea menor a 0 km/h.\n",
    "  * Reimplementa el inicilizador `__init__` para que reciba como argumento la ruta del Puma.\n",
    "  * Reimplementa el el método `info` para que el mensaje sea 'Aquí va el Pumita X a N km/h!', donde `X` es la ruta del Puma. \n",
    "  * Instancia dos rutas diferentes de tu Puma."
   ]
  },
  {
   "cell_type": "code",
   "execution_count": 65,
   "metadata": {},
   "outputs": [],
   "source": [
    "# Pumita hereda de Vehiculo\n",
    "\n"
   ]
  },
  {
   "cell_type": "markdown",
   "metadata": {},
   "source": [
    "---\n",
    "### 9 Matplotlib\n",
    "\n",
    "[Matplotlib](https://matplotlib.org) es un bibilioteca para producir gráficas con calidad de publicación."
   ]
  },
  {
   "cell_type": "code",
   "execution_count": 66,
   "metadata": {},
   "outputs": [],
   "source": [
    "# importamos\n",
    "%matplotlib inline\n",
    "import matplotlib.pyplot as plt"
   ]
  },
  {
   "cell_type": "code",
   "execution_count": 67,
   "metadata": {},
   "outputs": [
    {
     "data": {
      "image/png": "[encoded data removed]",
      "text/plain": [
       "<Figure size 432x288 with 1 Axes>"
      ]
     },
     "metadata": {
      "needs_background": "light"
     },
     "output_type": "display_data"
    }
   ],
   "source": [
    "# definimos rango y dominio\n",
    "X = [-5, -4, -3, -2, - 1, 0, 1, 2, 3, 4, 5]\n",
    "Y = [x**2 for x in X]\n",
    "\n",
    "# graficamos\n",
    "plt.plot(X, Y)\n",
    "plt.show()"
   ]
  },
  {
   "cell_type": "markdown",
   "metadata": {},
   "source": [
    "### Participación G\n",
    "\n",
    "Implementa la grafica de la función [sigmoide](https://es.wikipedia.org/wiki/Funci%C3%B3n_sigmoide):\n",
    "\n",
    "\\begin{equation*}\n",
    "f(x) = \\frac{1}{1 + e^{-x}}\n",
    "\\end{equation*}\n",
    "\n",
    "Sugerencia: utiliza la función [`math.exp`](https://docs.python.org/3.8/library/math.html?highlight=exp#math.exp)."
   ]
  },
  {
   "cell_type": "code",
   "execution_count": 68,
   "metadata": {},
   "outputs": [],
   "source": [
    "from math import exp\n",
    "\n"
   ]
  },
  {
   "cell_type": "markdown",
   "metadata": {},
   "source": [
    "### 10 Pandas\n",
    "\n",
    "[Pandas](https://pandas.pydata.org) es una bibliteca para la manipulación de datos estructurados. Para datos tabulares provee la estructura [`Dataframe`](https://pandas.pydata.org/pandas-docs/stable/reference/api/pandas.DataFrame.html).\n",
    "\n",
    "![pandas-dataframe](https://media.geeksforgeeks.org/wp-content/uploads/finallpandas.png)\n",
    "<div style=\"text-align: center\"> https://www.geeksforgeeks.org/python-pandas-dataframe/ </div>"
   ]
  },
  {
   "cell_type": "markdown",
   "metadata": {},
   "source": [
    "Para verla en funcionamiento, descarguemos nuestro primer conjunto de datos del curso. Se trata de conjunto de datos de calificaciones de un grupo de alumnos. Cuenta con dos atributos entrada: la calificación que obtuvo en un examen previo y el número de horas que estudio el alumno para presentar el examen. La salida es la calificación que obtuvo el alumno en el curso examen actual. Descarguemos el conjunto:"
   ]
  },
  {
   "cell_type": "code",
   "execution_count": 69,
   "metadata": {},
   "outputs": [
    {
     "name": "stdout",
     "output_type": "stream",
     "text": [
      "mkdir: cannot create directory '../datos': File exists\n",
      "File '../datos/califs.csv' already there; not retrieving.\n",
      "prev,horas,calif\n",
      "5.6,8.2,5.1\n",
      "6.7,9.3,5.9\n",
      "5.1,10.0,5.4\n",
      "5.7,10.4,6.5\n"
     ]
    }
   ],
   "source": [
    "# los comandos precedidos por ! se ejecutan como comandos de sistema Linux\n",
    "! mkdir ../datos\n",
    "! wget -nc https://raw.githubusercontent.com/bereml/iap/master/datos/califs.csv -O ../datos/califs.csv\n",
    "! head -n 5 ../datos/califs.csv"
   ]
  },
  {
   "cell_type": "markdown",
   "metadata": {},
   "source": [
    "Ahora leamos los datos en un `Dataframe`:"
   ]
  },
  {
   "cell_type": "code",
   "execution_count": 70,
   "metadata": {},
   "outputs": [
    {
     "data": {
      "text/html": [
       "<div>\n",
       "<style scoped>\n",
       "    .dataframe tbody tr th:only-of-type {\n",
       "        vertical-align: middle;\n",
       "    }\n",
       "\n",
       "    .dataframe tbody tr th {\n",
       "        vertical-align: top;\n",
       "    }\n",
       "\n",
       "    .dataframe thead th {\n",
       "        text-align: right;\n",
       "    }\n",
       "</style>\n",
       "<table border=\"1\" class=\"dataframe\">\n",
       "  <thead>\n",
       "    <tr style=\"text-align: right;\">\n",
       "      <th></th>\n",
       "      <th>prev</th>\n",
       "      <th>horas</th>\n",
       "      <th>calif</th>\n",
       "    </tr>\n",
       "  </thead>\n",
       "  <tbody>\n",
       "    <tr>\n",
       "      <th>0</th>\n",
       "      <td>5.6</td>\n",
       "      <td>8.2</td>\n",
       "      <td>5.1</td>\n",
       "    </tr>\n",
       "    <tr>\n",
       "      <th>1</th>\n",
       "      <td>6.7</td>\n",
       "      <td>9.3</td>\n",
       "      <td>5.9</td>\n",
       "    </tr>\n",
       "    <tr>\n",
       "      <th>2</th>\n",
       "      <td>5.1</td>\n",
       "      <td>10.0</td>\n",
       "      <td>5.4</td>\n",
       "    </tr>\n",
       "    <tr>\n",
       "      <th>3</th>\n",
       "      <td>5.7</td>\n",
       "      <td>10.4</td>\n",
       "      <td>6.5</td>\n",
       "    </tr>\n",
       "    <tr>\n",
       "      <th>4</th>\n",
       "      <td>7.1</td>\n",
       "      <td>10.4</td>\n",
       "      <td>6.7</td>\n",
       "    </tr>\n",
       "    <tr>\n",
       "      <th>5</th>\n",
       "      <td>6.4</td>\n",
       "      <td>10.4</td>\n",
       "      <td>6.0</td>\n",
       "    </tr>\n",
       "    <tr>\n",
       "      <th>6</th>\n",
       "      <td>6.1</td>\n",
       "      <td>10.4</td>\n",
       "      <td>6.8</td>\n",
       "    </tr>\n",
       "    <tr>\n",
       "      <th>7</th>\n",
       "      <td>6.8</td>\n",
       "      <td>10.5</td>\n",
       "      <td>6.2</td>\n",
       "    </tr>\n",
       "    <tr>\n",
       "      <th>8</th>\n",
       "      <td>6.3</td>\n",
       "      <td>10.7</td>\n",
       "      <td>7.2</td>\n",
       "    </tr>\n",
       "    <tr>\n",
       "      <th>9</th>\n",
       "      <td>6.2</td>\n",
       "      <td>10.9</td>\n",
       "      <td>7.2</td>\n",
       "    </tr>\n",
       "    <tr>\n",
       "      <th>10</th>\n",
       "      <td>4.9</td>\n",
       "      <td>10.9</td>\n",
       "      <td>6.7</td>\n",
       "    </tr>\n",
       "    <tr>\n",
       "      <th>11</th>\n",
       "      <td>5.6</td>\n",
       "      <td>11.2</td>\n",
       "      <td>6.7</td>\n",
       "    </tr>\n",
       "    <tr>\n",
       "      <th>12</th>\n",
       "      <td>5.9</td>\n",
       "      <td>11.3</td>\n",
       "      <td>7.0</td>\n",
       "    </tr>\n",
       "    <tr>\n",
       "      <th>13</th>\n",
       "      <td>7.1</td>\n",
       "      <td>11.5</td>\n",
       "      <td>7.9</td>\n",
       "    </tr>\n",
       "    <tr>\n",
       "      <th>14</th>\n",
       "      <td>6.2</td>\n",
       "      <td>11.5</td>\n",
       "      <td>6.8</td>\n",
       "    </tr>\n",
       "    <tr>\n",
       "      <th>15</th>\n",
       "      <td>7.0</td>\n",
       "      <td>11.5</td>\n",
       "      <td>6.7</td>\n",
       "    </tr>\n",
       "    <tr>\n",
       "      <th>16</th>\n",
       "      <td>5.4</td>\n",
       "      <td>11.5</td>\n",
       "      <td>7.0</td>\n",
       "    </tr>\n",
       "    <tr>\n",
       "      <th>17</th>\n",
       "      <td>7.0</td>\n",
       "      <td>11.5</td>\n",
       "      <td>6.4</td>\n",
       "    </tr>\n",
       "    <tr>\n",
       "      <th>18</th>\n",
       "      <td>6.4</td>\n",
       "      <td>11.6</td>\n",
       "      <td>6.5</td>\n",
       "    </tr>\n",
       "    <tr>\n",
       "      <th>19</th>\n",
       "      <td>4.2</td>\n",
       "      <td>11.7</td>\n",
       "      <td>5.7</td>\n",
       "    </tr>\n",
       "    <tr>\n",
       "      <th>20</th>\n",
       "      <td>8.0</td>\n",
       "      <td>11.8</td>\n",
       "      <td>7.8</td>\n",
       "    </tr>\n",
       "    <tr>\n",
       "      <th>21</th>\n",
       "      <td>6.7</td>\n",
       "      <td>11.8</td>\n",
       "      <td>6.9</td>\n",
       "    </tr>\n",
       "    <tr>\n",
       "      <th>22</th>\n",
       "      <td>5.4</td>\n",
       "      <td>11.9</td>\n",
       "      <td>7.3</td>\n",
       "    </tr>\n",
       "    <tr>\n",
       "      <th>23</th>\n",
       "      <td>7.5</td>\n",
       "      <td>11.9</td>\n",
       "      <td>6.6</td>\n",
       "    </tr>\n",
       "    <tr>\n",
       "      <th>24</th>\n",
       "      <td>5.7</td>\n",
       "      <td>11.9</td>\n",
       "      <td>7.4</td>\n",
       "    </tr>\n",
       "    <tr>\n",
       "      <th>25</th>\n",
       "      <td>5.5</td>\n",
       "      <td>11.9</td>\n",
       "      <td>7.4</td>\n",
       "    </tr>\n",
       "    <tr>\n",
       "      <th>26</th>\n",
       "      <td>7.5</td>\n",
       "      <td>12.0</td>\n",
       "      <td>7.6</td>\n",
       "    </tr>\n",
       "    <tr>\n",
       "      <th>27</th>\n",
       "      <td>7.0</td>\n",
       "      <td>12.1</td>\n",
       "      <td>6.9</td>\n",
       "    </tr>\n",
       "    <tr>\n",
       "      <th>28</th>\n",
       "      <td>6.1</td>\n",
       "      <td>12.1</td>\n",
       "      <td>7.8</td>\n",
       "    </tr>\n",
       "    <tr>\n",
       "      <th>29</th>\n",
       "      <td>7.1</td>\n",
       "      <td>12.2</td>\n",
       "      <td>7.8</td>\n",
       "    </tr>\n",
       "    <tr>\n",
       "      <th>30</th>\n",
       "      <td>5.5</td>\n",
       "      <td>12.5</td>\n",
       "      <td>6.7</td>\n",
       "    </tr>\n",
       "    <tr>\n",
       "      <th>31</th>\n",
       "      <td>7.9</td>\n",
       "      <td>12.8</td>\n",
       "      <td>7.5</td>\n",
       "    </tr>\n",
       "    <tr>\n",
       "      <th>32</th>\n",
       "      <td>6.0</td>\n",
       "      <td>12.8</td>\n",
       "      <td>7.0</td>\n",
       "    </tr>\n",
       "    <tr>\n",
       "      <th>33</th>\n",
       "      <td>7.1</td>\n",
       "      <td>12.8</td>\n",
       "      <td>7.7</td>\n",
       "    </tr>\n",
       "    <tr>\n",
       "      <th>34</th>\n",
       "      <td>5.4</td>\n",
       "      <td>12.8</td>\n",
       "      <td>7.3</td>\n",
       "    </tr>\n",
       "    <tr>\n",
       "      <th>35</th>\n",
       "      <td>7.7</td>\n",
       "      <td>12.8</td>\n",
       "      <td>7.2</td>\n",
       "    </tr>\n",
       "    <tr>\n",
       "      <th>36</th>\n",
       "      <td>8.0</td>\n",
       "      <td>12.9</td>\n",
       "      <td>7.8</td>\n",
       "    </tr>\n",
       "    <tr>\n",
       "      <th>37</th>\n",
       "      <td>5.9</td>\n",
       "      <td>12.9</td>\n",
       "      <td>7.7</td>\n",
       "    </tr>\n",
       "    <tr>\n",
       "      <th>38</th>\n",
       "      <td>8.4</td>\n",
       "      <td>13.0</td>\n",
       "      <td>7.9</td>\n",
       "    </tr>\n",
       "    <tr>\n",
       "      <th>39</th>\n",
       "      <td>7.3</td>\n",
       "      <td>13.1</td>\n",
       "      <td>8.1</td>\n",
       "    </tr>\n",
       "    <tr>\n",
       "      <th>40</th>\n",
       "      <td>8.7</td>\n",
       "      <td>13.3</td>\n",
       "      <td>8.1</td>\n",
       "    </tr>\n",
       "    <tr>\n",
       "      <th>41</th>\n",
       "      <td>10.1</td>\n",
       "      <td>13.3</td>\n",
       "      <td>9.2</td>\n",
       "    </tr>\n",
       "    <tr>\n",
       "      <th>42</th>\n",
       "      <td>8.0</td>\n",
       "      <td>13.4</td>\n",
       "      <td>8.9</td>\n",
       "    </tr>\n",
       "    <tr>\n",
       "      <th>43</th>\n",
       "      <td>8.3</td>\n",
       "      <td>13.5</td>\n",
       "      <td>8.6</td>\n",
       "    </tr>\n",
       "    <tr>\n",
       "      <th>44</th>\n",
       "      <td>6.5</td>\n",
       "      <td>13.7</td>\n",
       "      <td>8.4</td>\n",
       "    </tr>\n",
       "    <tr>\n",
       "      <th>45</th>\n",
       "      <td>6.6</td>\n",
       "      <td>13.7</td>\n",
       "      <td>8.5</td>\n",
       "    </tr>\n",
       "    <tr>\n",
       "      <th>46</th>\n",
       "      <td>7.2</td>\n",
       "      <td>13.8</td>\n",
       "      <td>8.1</td>\n",
       "    </tr>\n",
       "    <tr>\n",
       "      <th>47</th>\n",
       "      <td>7.2</td>\n",
       "      <td>13.9</td>\n",
       "      <td>8.3</td>\n",
       "    </tr>\n",
       "    <tr>\n",
       "      <th>48</th>\n",
       "      <td>8.7</td>\n",
       "      <td>13.9</td>\n",
       "      <td>9.1</td>\n",
       "    </tr>\n",
       "    <tr>\n",
       "      <th>49</th>\n",
       "      <td>8.8</td>\n",
       "      <td>14.4</td>\n",
       "      <td>8.6</td>\n",
       "    </tr>\n",
       "  </tbody>\n",
       "</table>\n",
       "</div>"
      ],
      "text/plain": [
       "    prev  horas  calif\n",
       "0    5.6    8.2    5.1\n",
       "1    6.7    9.3    5.9\n",
       "2    5.1   10.0    5.4\n",
       "3    5.7   10.4    6.5\n",
       "4    7.1   10.4    6.7\n",
       "5    6.4   10.4    6.0\n",
       "6    6.1   10.4    6.8\n",
       "7    6.8   10.5    6.2\n",
       "8    6.3   10.7    7.2\n",
       "9    6.2   10.9    7.2\n",
       "10   4.9   10.9    6.7\n",
       "11   5.6   11.2    6.7\n",
       "12   5.9   11.3    7.0\n",
       "13   7.1   11.5    7.9\n",
       "14   6.2   11.5    6.8\n",
       "15   7.0   11.5    6.7\n",
       "16   5.4   11.5    7.0\n",
       "17   7.0   11.5    6.4\n",
       "18   6.4   11.6    6.5\n",
       "19   4.2   11.7    5.7\n",
       "20   8.0   11.8    7.8\n",
       "21   6.7   11.8    6.9\n",
       "22   5.4   11.9    7.3\n",
       "23   7.5   11.9    6.6\n",
       "24   5.7   11.9    7.4\n",
       "25   5.5   11.9    7.4\n",
       "26   7.5   12.0    7.6\n",
       "27   7.0   12.1    6.9\n",
       "28   6.1   12.1    7.8\n",
       "29   7.1   12.2    7.8\n",
       "30   5.5   12.5    6.7\n",
       "31   7.9   12.8    7.5\n",
       "32   6.0   12.8    7.0\n",
       "33   7.1   12.8    7.7\n",
       "34   5.4   12.8    7.3\n",
       "35   7.7   12.8    7.2\n",
       "36   8.0   12.9    7.8\n",
       "37   5.9   12.9    7.7\n",
       "38   8.4   13.0    7.9\n",
       "39   7.3   13.1    8.1\n",
       "40   8.7   13.3    8.1\n",
       "41  10.1   13.3    9.2\n",
       "42   8.0   13.4    8.9\n",
       "43   8.3   13.5    8.6\n",
       "44   6.5   13.7    8.4\n",
       "45   6.6   13.7    8.5\n",
       "46   7.2   13.8    8.1\n",
       "47   7.2   13.9    8.3\n",
       "48   8.7   13.9    9.1\n",
       "49   8.8   14.4    8.6"
      ]
     },
     "execution_count": 70,
     "metadata": {},
     "output_type": "execute_result"
    }
   ],
   "source": [
    "# importamos pandas\n",
    "import pandas as pd\n",
    "# leemos el Dataframe\n",
    "df = pd.read_csv('../datos/califs.csv')\n",
    "# lo imprimimos\n",
    "df"
   ]
  },
  {
   "cell_type": "markdown",
   "metadata": {},
   "source": [
    "### Participación H\n",
    "\n",
    "Grafica los valores de la segunda columna en el eje $x$ y los de la segunda columna en el eje $y$. Como tercer argumento de la función `plot` usa `'.'`."
   ]
  },
  {
   "cell_type": "code",
   "execution_count": 71,
   "metadata": {},
   "outputs": [],
   "source": [
    "# listas con los valores de la segunda y tercera columnas\n",
    "\n"
   ]
  },
  {
   "cell_type": "markdown",
   "metadata": {},
   "source": [
    "### 11 Numpy\n",
    "\n",
    "[Numpy](https://numpy.org) es una biblioteca que proporcina arreglos multidimensionales de alto desempeño y una amplia colección de funciones matemáticas para operar con los mismos.\n",
    "\n",
    "<img src=\"https://www.oreilly.com/library/view/elegant-scipy/9781491922927/assets/elsp_0105.png\" alt=\"numpy\" width=\"500\" />\n",
    "<div style=\"text-align: center\"> https://www.oreilly.com/library/view/elegant-scipy/9781491922927/ch01.html </div>\n",
    "\n",
    "El arreglo multimensional está implementado en la clase [`ndarray`](https://numpy.org/doc/stable/reference/generated/numpy.ndarray.html). Es un contenedor de datos sobre el que se aplican funciones paralelizadas ([SIMD](https://en.wikipedia.org/wiki/SIMD)). Esta técnica se conoce como vectorización.\n",
    "\n",
    "![clases](https://raw.githubusercontent.com/bereml/iap/master/fig/numpy.png)\n",
    "<div style=\"text-align: center\"><a href=\"https://www.nature.com/articles/s41586-020-2649-2\">Array programming with NumPy</a></div>"
   ]
  },
  {
   "cell_type": "markdown",
   "metadata": {},
   "source": [
    "Arreglos y propiedades."
   ]
  },
  {
   "cell_type": "code",
   "execution_count": 72,
   "metadata": {},
   "outputs": [
    {
     "data": {
      "text/plain": [
       "array([0, 1, 2, 3, 4, 5, 6, 7, 8, 9])"
      ]
     },
     "execution_count": 72,
     "metadata": {},
     "output_type": "execute_result"
    }
   ],
   "source": [
    "# importamos\n",
    "import numpy as np\n",
    "\n",
    "# definimos un arreglo multidimensional (nd-array)\n",
    "a = np.array([0, 1, 2, 3, 4, 5, 6, 7, 8, 9])\n",
    "a"
   ]
  },
  {
   "cell_type": "code",
   "execution_count": 73,
   "metadata": {},
   "outputs": [
    {
     "data": {
      "text/plain": [
       "(10, 1, (10,), dtype('int64'))"
      ]
     },
     "execution_count": 73,
     "metadata": {},
     "output_type": "execute_result"
    }
   ],
   "source": [
    "# atributos\n",
    "a.size, a.ndim, a.shape, a.dtype"
   ]
  },
  {
   "cell_type": "code",
   "execution_count": 74,
   "metadata": {},
   "outputs": [
    {
     "data": {
      "text/plain": [
       "array([[0, 1, 2, 3, 4],\n",
       "       [5, 6, 7, 8, 9]])"
      ]
     },
     "execution_count": 74,
     "metadata": {},
     "output_type": "execute_result"
    }
   ],
   "source": [
    "# redimensionanado\n",
    "b = a.reshape(2, 5)\n",
    "b"
   ]
  },
  {
   "cell_type": "code",
   "execution_count": 75,
   "metadata": {},
   "outputs": [
    {
     "data": {
      "text/plain": [
       "(10, 2, (2, 5))"
      ]
     },
     "execution_count": 75,
     "metadata": {},
     "output_type": "execute_result"
    }
   ],
   "source": [
    "b.size, b.ndim, b.shape"
   ]
  },
  {
   "cell_type": "markdown",
   "metadata": {},
   "source": [
    "Funciones de creación."
   ]
  },
  {
   "cell_type": "code",
   "execution_count": 76,
   "metadata": {},
   "outputs": [
    {
     "data": {
      "text/plain": [
       "array([[0., 0.],\n",
       "       [0., 0.],\n",
       "       [0., 0.],\n",
       "       [0., 0.],\n",
       "       [0., 0.]])"
      ]
     },
     "execution_count": 76,
     "metadata": {},
     "output_type": "execute_result"
    }
   ],
   "source": [
    "np.zeros((5, 2)) # np.ones()"
   ]
  },
  {
   "cell_type": "code",
   "execution_count": 77,
   "metadata": {},
   "outputs": [
    {
     "data": {
      "text/plain": [
       "array([[1, 1, 1, 1, 1],\n",
       "       [1, 1, 1, 1, 1]])"
      ]
     },
     "execution_count": 77,
     "metadata": {},
     "output_type": "execute_result"
    }
   ],
   "source": [
    "np.ones_like(b) # np.zeros_like()"
   ]
  },
  {
   "cell_type": "code",
   "execution_count": 78,
   "metadata": {},
   "outputs": [
    {
     "data": {
      "text/plain": [
       "array([0., 1., 2., 3., 4., 5., 6., 7., 8., 9.])"
      ]
     },
     "execution_count": 78,
     "metadata": {},
     "output_type": "execute_result"
    }
   ],
   "source": [
    "np.arange(10, dtype=np.float)"
   ]
  },
  {
   "cell_type": "code",
   "execution_count": 79,
   "metadata": {},
   "outputs": [
    {
     "data": {
      "text/plain": [
       "array([ 0.        ,  1.11111111,  2.22222222,  3.33333333,  4.44444444,\n",
       "        5.55555556,  6.66666667,  7.77777778,  8.88888889, 10.        ])"
      ]
     },
     "execution_count": 79,
     "metadata": {},
     "output_type": "execute_result"
    }
   ],
   "source": [
    "np.linspace(0, 10, 10)"
   ]
  },
  {
   "cell_type": "markdown",
   "metadata": {},
   "source": [
    "Funciones aleatorias."
   ]
  },
  {
   "cell_type": "code",
   "execution_count": 80,
   "metadata": {},
   "outputs": [
    {
     "data": {
      "text/plain": [
       "array([[0.11505457, 0.60906654],\n",
       "       [0.13339096, 0.24058962]])"
      ]
     },
     "execution_count": 80,
     "metadata": {},
     "output_type": "execute_result"
    }
   ],
   "source": [
    "# reproducibilidad\n",
    "np.random.seed(43)\n",
    "# aleatorios entre [0, 1)\n",
    "np.random.rand(2, 2)"
   ]
  },
  {
   "cell_type": "code",
   "execution_count": 81,
   "metadata": {},
   "outputs": [
    {
     "data": {
      "text/plain": [
       "array([[ 0.85807335, -0.41300998],\n",
       "       [ 0.49818858,  2.01019925]])"
      ]
     },
     "execution_count": 81,
     "metadata": {},
     "output_type": "execute_result"
    }
   ],
   "source": [
    "# muestreamos x ~ unif(0, 1)\n",
    "np.random.randn(2, 2)"
   ]
  },
  {
   "cell_type": "markdown",
   "metadata": {},
   "source": [
    "Funciones vectorizadas"
   ]
  },
  {
   "cell_type": "code",
   "execution_count": 82,
   "metadata": {},
   "outputs": [
    {
     "data": {
      "text/plain": [
       "array([[0, 1, 2],\n",
       "       [3, 4, 5]])"
      ]
     },
     "execution_count": 82,
     "metadata": {},
     "output_type": "execute_result"
    }
   ],
   "source": [
    "a = np.arange(6).reshape(2, 3)\n",
    "a"
   ]
  },
  {
   "cell_type": "code",
   "execution_count": 83,
   "metadata": {},
   "outputs": [
    {
     "data": {
      "text/plain": [
       "(15, array([3, 5, 7]), array([ 3, 12]))"
      ]
     },
     "execution_count": 83,
     "metadata": {},
     "output_type": "execute_result"
    }
   ],
   "source": [
    "# funciones de reducción: sum, prod, mean, min, max, any, all, etc.\n",
    "# axis es la dimensión que collapsa\n",
    "a.sum(), a.sum(axis=0), a.sum(axis=1)"
   ]
  },
  {
   "cell_type": "code",
   "execution_count": 84,
   "metadata": {},
   "outputs": [
    {
     "data": {
      "text/plain": [
       "array([[1., 1., 1.],\n",
       "       [1., 1., 1.]])"
      ]
     },
     "execution_count": 84,
     "metadata": {},
     "output_type": "execute_result"
    }
   ],
   "source": [
    "b = np.ones(6).reshape(2, 3)\n",
    "b"
   ]
  },
  {
   "cell_type": "code",
   "execution_count": 85,
   "metadata": {},
   "outputs": [
    {
     "data": {
      "text/plain": [
       "array([[ 0.54030231,  1.38177329,  1.44959973],\n",
       "       [ 0.68142231, -0.21650019, -0.41862197]])"
      ]
     },
     "execution_count": 85,
     "metadata": {},
     "output_type": "execute_result"
    }
   ],
   "source": [
    "# funciones varias\n",
    "np.sin(a) + np.cos(b)"
   ]
  },
  {
   "cell_type": "markdown",
   "metadata": {},
   "source": [
    "### Participación I\n",
    "\n",
    "Calcula la suma de las distancias euclidiana $ d(p, q) = \\sqrt{ \\sum_i (p_i - q_i)^2 } $ pixel a pixel de las dos imágenes primero usando ciclos y después vectorizando con `ndarray`."
   ]
  },
  {
   "cell_type": "code",
   "execution_count": 86,
   "metadata": {},
   "outputs": [],
   "source": [
    "# import raiz cuadrada\n",
    "from math import sqrt\n",
    "# importamos scikit-image\n",
    "# bibilioteca para la manipulación de imágenes\n",
    "from skimage import io\n",
    "from skimage.transform import resize\n",
    "# para medir el tiempo\n",
    "import time"
   ]
  },
  {
   "cell_type": "code",
   "execution_count": 87,
   "metadata": {},
   "outputs": [
    {
     "name": "stdout",
     "output_type": "stream",
     "text": [
      "img1.shape = (1000, 1100, 4)\n"
     ]
    },
    {
     "data": {
      "text/plain": [
       "<matplotlib.image.AxesImage at 0x7fa73e5c9dc0>"
      ]
     },
     "execution_count": 87,
     "metadata": {},
     "output_type": "execute_result"
    },
    {
     "data": {
      "image/png": "[encoded data removed]",
      "text/plain": [
       "<Figure size 432x288 with 1 Axes>"
      ]
     },
     "metadata": {
      "needs_background": "light"
     },
     "output_type": "display_data"
    }
   ],
   "source": [
    "img1 = io.imread('https://openclipart.org/image/400px/307532')\n",
    "# redimensionamos\n",
    "img1 = resize(img1, (1000, 1100))\n",
    "# forma y muestra\n",
    "print(f'img1.shape = {img1.shape}' )\n",
    "plt.imshow(img1)"
   ]
  },
  {
   "cell_type": "code",
   "execution_count": 88,
   "metadata": {},
   "outputs": [
    {
     "name": "stdout",
     "output_type": "stream",
     "text": [
      "img2.shape = (1000, 1100, 4)\n"
     ]
    },
    {
     "data": {
      "text/plain": [
       "<matplotlib.image.AxesImage at 0x7fa73c3ac370>"
      ]
     },
     "execution_count": 88,
     "metadata": {},
     "output_type": "execute_result"
    },
    {
     "data": {
      "image/png": "[encoded data removed]",
      "text/plain": [
       "<Figure size 432x288 with 1 Axes>"
      ]
     },
     "metadata": {
      "needs_background": "light"
     },
     "output_type": "display_data"
    }
   ],
   "source": [
    "img2 = io.imread('https://openclipart.org/image/400px/309291')\n",
    "img2 = resize(img2, (1000, 1100)) \n",
    "print(f'img2.shape = {img2.shape}' )\n",
    "plt.imshow(img2)"
   ]
  },
  {
   "cell_type": "code",
   "execution_count": 89,
   "metadata": {},
   "outputs": [
    {
     "name": "stdout",
     "output_type": "stream",
     "text": [
      "Tiempo de ejecución: 4.1961669921875e-05, distancia 0\n"
     ]
    }
   ],
   "source": [
    "def l2_for(a, b):\n",
    "    \"\"\"Calcula la distancia de dos arreglos 3D.\"\"\"\n",
    "    \n",
    "    return 0\n",
    "\n",
    "inicio = time.time()\n",
    "distancia = l2_for(img1, img2)\n",
    "tiempo = time.time() - inicio\n",
    "\n",
    "print(f'Tiempo de ejecución: {tiempo}, distancia {distancia}')"
   ]
  },
  {
   "cell_type": "code",
   "execution_count": 90,
   "metadata": {},
   "outputs": [
    {
     "name": "stdout",
     "output_type": "stream",
     "text": [
      "Tiempo de ejecución: 0.00010442733764648438, distancia 0\n"
     ]
    }
   ],
   "source": [
    "# para esta implementación te puede ser util:\n",
    "#   np.power(d, n)\n",
    "#   np.sum(d, axis=2)\n",
    "#   np.sqrt(d)\n",
    "#   np.sum(d)\n",
    "def l2_numpy(a, b):\n",
    "    \"\"\"Calcula la distancia de dos arreglos 3D.\"\"\"\n",
    "    \n",
    "    return 0\n",
    "\n",
    "inicio = time.time()\n",
    "distancia = l2_numpy(img1, img2)\n",
    "tiempo = time.time() - inicio\n",
    "\n",
    "print(f'Tiempo de ejecución: {tiempo}, distancia {distancia}')"
   ]
  },
  {
   "cell_type": "markdown",
   "metadata": {},
   "source": [
    "## Recomendación\n",
    "\n",
    "Para profundizar más sobre Python y bibliotecas de su ecosistema de computo científico recomendamos las [Scipy Lecture Notes](http://scipy-lectures.org/).\n",
    "\n",
    "![xkcd-ml](https://imgs.xkcd.com/comics/machine_learning.png)\n",
    "<div style=\"text-align: center\"> https://xkcd.com/1838/ </div>"
   ]
  }
 ],
 "metadata": {
  "kernelspec": {
   "display_name": "Python 3",
   "language": "python",
   "name": "python3"
  },
  "language_info": {
   "codemirror_mode": {
    "name": "ipython",
    "version": 3
   },
   "file_extension": ".py",
   "mimetype": "text/x-python",
   "name": "python",
   "nbconvert_exporter": "python",
   "pygments_lexer": "ipython3",
   "version": "3.8.5"
  }
 },
 "nbformat": 4,
 "nbformat_minor": 4
}
