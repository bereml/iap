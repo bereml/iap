{
 "cells": [
  {
   "cell_type": "markdown",
   "metadata": {
    "colab_type": "text",
    "id": "view-in-github"
   },
   "source": [
    "<a href=\"https://colab.research.google.com/github/bereml/iap/blob/master/libretas/2e_speech_cnn1d.ipynb\" target=\"_parent\"><img src=\"https://colab.research.google.com/assets/colab-badge.svg\" alt=\"Open In Colab\"/></a>"
   ]
  },
  {
   "cell_type": "markdown",
   "metadata": {},
   "source": [
    "# Reconocimiento de comandos de voz con CNN 1D\n",
    "\n",
    "Curso: [Introducción al Aprendizaje Profundo](http://turing.iimas.unam.mx/~ricardoml/course/iap/). Profesores: [Bere](https://turing.iimas.unam.mx/~bereml/) y [Ricardo](https://turing.iimas.unam.mx/~ricardoml/) Montalvo Lezama.\n",
    "\n",
    "---\n",
    "---\n",
    "\n",
    "En esta libreta veremos un ejemplo de clasificación de audio empleando formas de onda y redes convolucionales 1D. \n",
    "\n",
    "[Speech Commands](https://arxiv.org/abs/1804.03209) es un conjunto de comandos de voz (palabras) con más de 100k ejemplos. Cada audio dura alrededor de 1 segundo y tienen un solo canal de voz con una frecuencia de muestreo de 16000hz.\n",
    "\n",
    "<img src=\"https://d3i71xaburhd42.cloudfront.net/da6e404d8911b0e5785019a79dc8607e0b313dc4/7-Figure1-1.png\"  style=\"width: 200px;\" />"
   ]
  },
  {
   "cell_type": "markdown",
   "metadata": {},
   "source": [
    "## 1. Preparación"
   ]
  },
  {
   "cell_type": "code",
   "execution_count": 1,
   "metadata": {},
   "outputs": [
    {
     "name": "stdout",
     "output_type": "stream",
     "text": [
      "Requirement already satisfied: torchinfo in /home/richardt/.miniconda3/envs/iap/lib/python3.8/site-packages (0.0.8)\n"
     ]
    }
   ],
   "source": [
    "# Colab\n",
    "! pip install torchinfo\n",
    "try:\n",
    "    import torchaudio\n",
    "except:\n",
    "    ! pip install torchaudio"
   ]
  },
  {
   "cell_type": "markdown",
   "metadata": {},
   "source": [
    "### 1.1. Bibliotecas"
   ]
  },
  {
   "cell_type": "code",
   "execution_count": 2,
   "metadata": {
    "colab": {},
    "colab_type": "code",
    "id": "Ny0L2LzogTN-"
   },
   "outputs": [],
   "source": [
    "# funciones aleatorias\n",
    "import random\n",
    "# tomar n elementos de una secuencia\n",
    "from itertools import islice as take\n",
    "\n",
    "# audio\n",
    "import librosa\n",
    "import librosa.display\n",
    "\n",
    "# reproductor\n",
    "import IPython as ip\n",
    "# gráficas\n",
    "import matplotlib.pyplot as plt\n",
    "# arreglos multidimensionales\n",
    "import numpy as np\n",
    "\n",
    "# redes neuronales\n",
    "import torch\n",
    "import torch.nn as nn\n",
    "import torch.nn.functional as F\n",
    "import torch.optim as optim\n",
    "# redes audio\n",
    "import torchaudio\n",
    "import torchaudio.transforms as T\n",
    "# redes visión\n",
    "import torchvision.models as tvm\n",
    "\n",
    "# redes neuronales\n",
    "from torch.utils.data import DataLoader\n",
    "from torchaudio.datasets import SPEECHCOMMANDS\n",
    "# inspección de arquitectura\n",
    "from torchinfo import summary\n",
    "\n",
    "# barras de progreso\n",
    "from tqdm.auto import trange"
   ]
  },
  {
   "cell_type": "markdown",
   "metadata": {},
   "source": [
    "### 1.2. Auxiliares"
   ]
  },
  {
   "cell_type": "code",
   "execution_count": 3,
   "metadata": {},
   "outputs": [],
   "source": [
    "# directorio de datos\n",
    "DATA_DIR = '../datos/speech_commands'\n",
    "\n",
    "# tamaño del lote\n",
    "BATCH_SIZE = 32\n",
    "\n",
    "# parámetros de audio\n",
    "SECS = 1\n",
    "SAMPLE_RATE = 16000\n",
    "\n",
    "# SpeechCommands classes\n",
    "CLASSES = (\n",
    "    'backward', 'bed', 'bird', 'cat', 'dog',\n",
    "    'down', 'eight', 'five', 'follow', 'forward',\n",
    "    'four', 'go', 'happy', 'house', 'learn', \n",
    "    'left', 'marvin', 'nine', 'no', 'off', \n",
    "    'on', 'one', 'right', 'seven', 'sheila',\n",
    "    'six', 'stop', 'three', 'tree', 'two',\n",
    "    'up', 'visual', 'wow', 'yes', 'zero'\n",
    ")\n",
    "NUM_CLASSES = len(CLASSES)\n",
    "CLASS_IDX = {c: i for i, c in enumerate(CLASSES)}\n",
    "\n",
    "    \n",
    "def set_seed(seed=0):\n",
    "    \"\"\"Initializes pseudo-random number generators.\"\"\"\n",
    "    random.seed(seed)\n",
    "    np.random.seed(seed)\n",
    "    torch.manual_seed(seed)\n",
    "\n",
    "    \n",
    "# reproducibilidad\n",
    "set_seed()"
   ]
  },
  {
   "cell_type": "markdown",
   "metadata": {
    "colab_type": "text",
    "id": "MjKxreAkoZeT"
   },
   "source": [
    "## 2. Datos"
   ]
  },
  {
   "cell_type": "markdown",
   "metadata": {},
   "source": [
    "### 2.1. Descarga"
   ]
  },
  {
   "cell_type": "code",
   "execution_count": 4,
   "metadata": {},
   "outputs": [],
   "source": [
    "! mkdir -p {DATA_DIR}"
   ]
  },
  {
   "cell_type": "code",
   "execution_count": 5,
   "metadata": {},
   "outputs": [],
   "source": [
    "ds = SPEECHCOMMANDS(DATA_DIR, download=True)"
   ]
  },
  {
   "cell_type": "code",
   "execution_count": 6,
   "metadata": {},
   "outputs": [
    {
     "data": {
      "text/plain": [
       "105829"
      ]
     },
     "execution_count": 6,
     "metadata": {},
     "output_type": "execute_result"
    }
   ],
   "source": [
    "len(ds)"
   ]
  },
  {
   "cell_type": "code",
   "execution_count": 7,
   "metadata": {},
   "outputs": [
    {
     "name": "stdout",
     "output_type": "stream",
     "text": [
      "../datos/speech_commands:\n",
      "SpeechCommands\n",
      "speech_commands_v0.02.tar.gz\n",
      "\n",
      "../datos/speech_commands/SpeechCommands:\n",
      "speech_commands_v0.02\n",
      "\n",
      "../datos/speech_commands/SpeechCommands/speech_commands_v0.02:\n",
      "LICENSE\n",
      "README.md\n",
      "_background_noise_\n",
      "backward\n",
      "bed\n",
      "bird\n",
      "cat\n",
      "dog\n",
      "down\n",
      "eight\n",
      "five\n",
      "follow\n",
      "forward\n",
      "four\n",
      "go\n",
      "happy\n",
      "house\n",
      "learn\n",
      "left\n",
      "marvin\n",
      "nine\n",
      "no\n",
      "off\n",
      "on\n",
      "one\n",
      "right\n",
      "seven\n",
      "sheila\n",
      "six\n",
      "stop\n",
      "testing_list.txt\n",
      "three\n",
      "tree\n",
      "two\n",
      "up\n",
      "validation_list.txt\n",
      "visual\n",
      "wow\n",
      "yes\n",
      "zero\n",
      "\n",
      "../datos/speech_commands/SpeechCommands/speech_commands_v0.02/_background_noise_:\n",
      "README.md\n",
      "doing_the_dishes.wav\n",
      "dude_miaowing.wav\n",
      "exercise_bike.wav\n",
      "pink_noise.wav\n",
      "ls: write error: Broken pipe\n"
     ]
    }
   ],
   "source": [
    "! ls -R {DATA_DIR} | head -55"
   ]
  },
  {
   "cell_type": "markdown",
   "metadata": {
    "colab_type": "text",
    "id": "9p_BsiITogUA"
   },
   "source": [
    "### 2.2. Conjunto de datos"
   ]
  },
  {
   "cell_type": "code",
   "execution_count": 8,
   "metadata": {},
   "outputs": [],
   "source": [
    "def identity(x):\n",
    "    return x\n",
    "\n",
    "\n",
    "def label2index(label):\n",
    "    return CLASS_IDX[label]\n",
    "\n",
    "\n",
    "class SPEECHCOMMANDS2(SPEECHCOMMANDS):\n",
    "\n",
    "    def __init__(self, root, download=False, subset=None,\n",
    "                 waveform_tsfm=identity, label_tsfm=identity):\n",
    "        super().__init__(root=root, download=download, subset=subset)\n",
    "        self.waveform_tsfm = waveform_tsfm\n",
    "        self.label_tsfm = label_tsfm\n",
    "\n",
    "    def __getitem__(self, i):\n",
    "        waveform, sample_rate, label, *_ = super().__getitem__(i)\n",
    "        x = self.waveform_tsfm(waveform)\n",
    "        y = self.label_tsfm(label)\n",
    "        return x, y, label, sample_rate"
   ]
  },
  {
   "cell_type": "markdown",
   "metadata": {},
   "source": [
    "### 2.3. Transformación para la forma de onda"
   ]
  },
  {
   "cell_type": "code",
   "execution_count": 9,
   "metadata": {},
   "outputs": [],
   "source": [
    "class WaveformPadTruncate(nn.Module):\n",
    "\n",
    "    def __init__(self, secs=SECS, sample_rate=SAMPLE_RATE):\n",
    "        super().__init__()\n",
    "        self.samples = secs * sample_rate\n",
    "    \n",
    "    def forward(self, waveform):\n",
    "        samples = waveform.shape[1]\n",
    "        \n",
    "        if samples < self.samples:\n",
    "            difference = self.samples - samples\n",
    "            padding = torch.zeros(1, difference)\n",
    "            waveform = torch.cat([waveform, padding], 1)\n",
    "\n",
    "        elif samples > self.samples:\n",
    "            start = random.randint(0, waveform.shape[1] - self.samples)\n",
    "            waveform = waveform.narrow(1, start, self.samples)\n",
    "        \n",
    "        return waveform\n",
    "        \n",
    "        \n",
    "        start = random.randint(0, waveform.shape[1] - self.samples)\n",
    "        waveform = waveform.narrow(1, start, self.samples)\n",
    "        return waveform"
   ]
  },
  {
   "cell_type": "markdown",
   "metadata": {},
   "source": [
    "### 2.4. Inspección del conjunto"
   ]
  },
  {
   "cell_type": "code",
   "execution_count": 10,
   "metadata": {},
   "outputs": [
    {
     "name": "stdout",
     "output_type": "stream",
     "text": [
      "x shape=torch.Size([32, 1, 16000]) dtype=torch.float32\n",
      "y shape=torch.Size([32]) dtype=torch.int64\n"
     ]
    }
   ],
   "source": [
    "# creamos un Dataset\n",
    "ds = SPEECHCOMMANDS2(\n",
    "    # directorio de datos\n",
    "    root=DATA_DIR,\n",
    "    # transformación de la forma de onda\n",
    "    waveform_tsfm=WaveformPadTruncate(),\n",
    "    # transformación de etiqueta\n",
    "    label_tsfm=label2index,\n",
    ")\n",
    "\n",
    "# creamos un DataLoader\n",
    "dl = DataLoader(\n",
    "    # conjunto\n",
    "    ds,\n",
    "    # tamaño del lote\n",
    "    batch_size=BATCH_SIZE,\n",
    ")\n",
    "\n",
    "# desplegamos un lote de imágenes\n",
    "x, y, labels, sr = next(iter(dl))\n",
    "print(f'x shape={x.shape} dtype={x.dtype}')\n",
    "print(f'y shape={y.shape} dtype={y.dtype}')"
   ]
  },
  {
   "cell_type": "markdown",
   "metadata": {},
   "source": [
    "### 2.5. Cargador de datos"
   ]
  },
  {
   "cell_type": "code",
   "execution_count": 11,
   "metadata": {
    "colab": {
     "base_uri": "https://localhost:8080/",
     "height": 54
    },
    "colab_type": "code",
    "id": "E1aEVpYtuadH",
    "outputId": "8df25761-3201-461a-e82b-26b5befd0302"
   },
   "outputs": [],
   "source": [
    "def build_dl(subset=None, shuffle=False):\n",
    "    \n",
    "    waveform_tsfm = WaveformPadTruncate()\n",
    "        \n",
    "    # creamos un Dataset\n",
    "    ds = SPEECHCOMMANDS2(\n",
    "        # directorio de datos\n",
    "        root=DATA_DIR,\n",
    "        # subconjunto\n",
    "        subset=subset,\n",
    "        # transformación de la forma de onda\n",
    "        waveform_tsfm=waveform_tsfm,\n",
    "        # transformación de etiqueta\n",
    "        label_tsfm=label2index,\n",
    "    )\n",
    "\n",
    "    # creamos un DataLoader\n",
    "    dl = DataLoader(\n",
    "        # conjunto\n",
    "        ds,\n",
    "        # tamaño del lote\n",
    "        batch_size=BATCH_SIZE,\n",
    "        # barajear\n",
    "        shuffle=shuffle,\n",
    "    )\n",
    "    return dl"
   ]
  },
  {
   "cell_type": "markdown",
   "metadata": {},
   "source": [
    "### 2.6. Entrenamiento"
   ]
  },
  {
   "cell_type": "code",
   "execution_count": 12,
   "metadata": {},
   "outputs": [
    {
     "name": "stdout",
     "output_type": "stream",
     "text": [
      "x shape=torch.Size([32, 1, 16000]) dtype=torch.float32\n",
      "y shape=torch.Size([32]) dtype=torch.int64\n"
     ]
    },
    {
     "data": {
      "image/png": "[encoded data removed]",
      "text/plain": [
       "<Figure size 432x288 with 1 Axes>"
      ]
     },
     "metadata": {
      "needs_background": "light"
     },
     "output_type": "display_data"
    },
    {
     "data": {
      "text/html": [
       "\n",
       "                <audio  controls=\"controls\" >\n",
       "                    <source src=\"data:audio/wav;base64,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\" type=\"audio/wav\" />\n",
       "                    Your browser does not support the audio element.\n",
       "                </audio>\n",
       "              "
      ],
      "text/plain": [
       "<IPython.lib.display.Audio object>"
      ]
     },
     "execution_count": 12,
     "metadata": {},
     "output_type": "execute_result"
    }
   ],
   "source": [
    "dl = build_dl(subset='training')\n",
    "\n",
    "# inspeccionemos el lote\n",
    "x, y, labels, sr = next(iter(dl))\n",
    "print(f'x shape={x.shape} dtype={x.dtype}')\n",
    "print(f'y shape={y.shape} dtype={y.dtype}')\n",
    "\n",
    "# inspeccionemos un ejemplo\n",
    "waveform = x[0].squeeze().numpy()\n",
    "label = labels[0]\n",
    "\n",
    "# grafiquemos forma de onda\n",
    "librosa.display.waveplot(waveform, sr=SAMPLE_RATE)\n",
    "plt.title(f'Forma de onda: {label}')\n",
    "plt.xlabel('tiempo')\n",
    "plt.ylabel('amplitud')\n",
    "plt.show()\n",
    "\n",
    "# reproductor\n",
    "ip.display.Audio(waveform, rate=SAMPLE_RATE)"
   ]
  },
  {
   "cell_type": "markdown",
   "metadata": {},
   "source": [
    "### 2.7. Validación"
   ]
  },
  {
   "cell_type": "code",
   "execution_count": 13,
   "metadata": {
    "colab": {
     "base_uri": "https://localhost:8080/",
     "height": 54
    },
    "colab_type": "code",
    "id": "QXMXXc9DPgqY",
    "outputId": "100e6a58-5552-4c5f-b08e-dc83c23c3b21"
   },
   "outputs": [
    {
     "name": "stdout",
     "output_type": "stream",
     "text": [
      "x shape=torch.Size([32, 1, 16000]) dtype=torch.float32\n",
      "y shape=torch.Size([32]) dtype=torch.int64\n"
     ]
    },
    {
     "data": {
      "image/png": "[encoded data removed]",
      "text/plain": [
       "<Figure size 432x288 with 1 Axes>"
      ]
     },
     "metadata": {
      "needs_background": "light"
     },
     "output_type": "display_data"
    },
    {
     "data": {
      "text/html": [
       "\n",
       "                <audio  controls=\"controls\" >\n",
       "                    <source src=\"data:audio/wav;base64,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\" type=\"audio/wav\" />\n",
       "                    Your browser does not support the audio element.\n",
       "                </audio>\n",
       "              "
      ],
      "text/plain": [
       "<IPython.lib.display.Audio object>"
      ]
     },
     "execution_count": 13,
     "metadata": {},
     "output_type": "execute_result"
    }
   ],
   "source": [
    "dl = build_dl(subset='validation')\n",
    "\n",
    "# inspeccionemos el lote\n",
    "x, y, labels, sr = next(iter(dl))\n",
    "print(f'x shape={x.shape} dtype={x.dtype}')\n",
    "print(f'y shape={y.shape} dtype={y.dtype}')\n",
    "\n",
    "# inspeccionemos un ejemplo\n",
    "waveform = x[0].squeeze().numpy()\n",
    "label = labels[0]\n",
    "\n",
    "# grafiquemos forma de onda\n",
    "librosa.display.waveplot(waveform, sr=SAMPLE_RATE)\n",
    "plt.title(f'Forma de onda: {label}')\n",
    "plt.xlabel('tiempo')\n",
    "plt.ylabel('amplitud')\n",
    "plt.show()\n",
    "\n",
    "# reproductor\n",
    "ip.display.Audio(waveform, rate=SAMPLE_RATE)"
   ]
  },
  {
   "cell_type": "markdown",
   "metadata": {},
   "source": [
    "## 3. Ciclo de entrenamiento"
   ]
  },
  {
   "cell_type": "code",
   "execution_count": 14,
   "metadata": {},
   "outputs": [],
   "source": [
    "def train_epoch(dl, model, opt, device):\n",
    "\n",
    "    # por cada lote\n",
    "    for x, y_true, *_ in dl:\n",
    "\n",
    "        # movemos a dispositivo\n",
    "        x = x.to(device)\n",
    "        y_true = y_true.to(device)\n",
    "\n",
    "        # computamos logits\n",
    "        y_lgts = model(x)\n",
    "\n",
    "        # computamos la pérdida\n",
    "        loss = F.cross_entropy(y_lgts, y_true)\n",
    "\n",
    "        # vaciamos los gradientes\n",
    "        opt.zero_grad()\n",
    "\n",
    "        # retropropagamos\n",
    "        loss.backward()\n",
    "\n",
    "        # actualizamos parámetros\n",
    "        opt.step()\n",
    "\n",
    "\n",
    "def eval_epoch(dl, model, device, num_batches=None):\n",
    "\n",
    "    # evitamos que se registren las operaciones \n",
    "    # en la gráfica de cómputo\n",
    "    with torch.no_grad():\n",
    "\n",
    "        # historiales\n",
    "        losses, accs = [], []\n",
    "\n",
    "        # validación de la época con num_batches\n",
    "        # si num_batches==None, se usan todos los lotes\n",
    "        for x, y_true, *_ in take(dl, num_batches):\n",
    "\n",
    "            # movemos a dispositivo\n",
    "            x = x.to(device)\n",
    "            y_true = y_true.to(device)\n",
    "\n",
    "            # computamos los logits\n",
    "            y_lgts = model(x)\n",
    "\n",
    "            # computamos los puntajes\n",
    "            y_prob = F.softmax(y_lgts, 1)\n",
    "\n",
    "            # computamos la clases\n",
    "            y_pred = torch.argmax(y_prob, 1)\n",
    "\n",
    "            # computamos la pérdida\n",
    "            loss = F.cross_entropy(y_lgts, y_true)\n",
    "\n",
    "            # computamos la exactitud\n",
    "            acc = (y_true == y_pred).type(torch.float32).mean()\n",
    "\n",
    "            # guardamos históricos\n",
    "            losses.append(loss.item())\n",
    "            accs.append(acc.item())\n",
    "\n",
    "        # promediamos\n",
    "        loss = np.mean(losses) * 100\n",
    "        acc = np.mean(accs) * 100\n",
    "\n",
    "        return loss, acc\n",
    "        \n",
    "        \n",
    "def train(model, trn_dl, tst_dl, lr=1e-4, epochs=20,\n",
    "          trn_batches=None, tst_batches=None):\n",
    "\n",
    "    # historiales\n",
    "    loss_hist, acc_hist = [], []\n",
    "    \n",
    "    # optimizador\n",
    "    opt = optim.Adam(model.parameters(), lr=lr)\n",
    "\n",
    "    # usamos GPU si está disponible\n",
    "    device = torch.device('cuda' if torch.cuda.is_available() else 'cpu')\n",
    "    # movemos a dispositivo\n",
    "    model.to(device)\n",
    "\n",
    "    # ciclo de entrenamiento\n",
    "    for epoch in trange(epochs):\n",
    "\n",
    "        # modelo en modo de entrenamiento\n",
    "        model.train()\n",
    "        # entrenamos la época\n",
    "        train_epoch(trn_dl, model, opt, device)\n",
    "\n",
    "        # modelo en modo de evaluación\n",
    "        model.eval()\n",
    "        # evaluamos la época en entrenamiento\n",
    "        trn_loss, trn_acc = eval_epoch(trn_dl, model, device, trn_batches)\n",
    "        # evaluamos la época en prueba\n",
    "        tst_loss, tst_acc = eval_epoch(tst_dl, model, device, tst_batches)\n",
    "\n",
    "        # guardamos historial\n",
    "        loss_hist.append([trn_loss, tst_loss])\n",
    "        acc_hist.append([trn_acc, tst_acc])\n",
    "\n",
    "        # imprimimos progreso\n",
    "        print(f'E{epoch:02} '\n",
    "              f'loss=[{trn_loss:6.2f},{tst_loss:6.2f}] '\n",
    "              f'acc=[{trn_acc:5.2f},{tst_acc:5.2f}]')\n",
    "\n",
    "    return loss_hist, acc_hist\n",
    "\n",
    "\n"
   ]
  },
  {
   "cell_type": "markdown",
   "metadata": {},
   "source": [
    "## 4. Arquitectura"
   ]
  },
  {
   "cell_type": "markdown",
   "metadata": {},
   "source": [
    "El siguiente diseño es una versión simplificada de la arquitectura M5 presentada [Dai. y col. en \n",
    "Very Deep Convolutional Neural Networks for Raw Waveforms](https://arxiv.org/abs/1610.00087)."
   ]
  },
  {
   "cell_type": "code",
   "execution_count": 15,
   "metadata": {},
   "outputs": [
    {
     "data": {
      "text/plain": [
       "M5B2(\n",
       "  (cnn): Sequential(\n",
       "    (0): Conv1d(1, 32, kernel_size=(80,), stride=(16,))\n",
       "    (1): BatchNorm1d(32, eps=1e-05, momentum=0.1, affine=True, track_running_stats=True)\n",
       "    (2): ReLU()\n",
       "    (3): MaxPool1d(kernel_size=4, stride=4, padding=0, dilation=1, ceil_mode=False)\n",
       "    (4): Conv1d(32, 32, kernel_size=(3,), stride=(1,))\n",
       "    (5): BatchNorm1d(32, eps=1e-05, momentum=0.1, affine=True, track_running_stats=True)\n",
       "    (6): ReLU()\n",
       "    (7): MaxPool1d(kernel_size=4, stride=4, padding=0, dilation=1, ceil_mode=False)\n",
       "  )\n",
       "  (pool): AdaptiveAvgPool1d(output_size=1)\n",
       "  (flat): Flatten(start_dim=1, end_dim=-1)\n",
       "  (fc): Linear(in_features=32, out_features=35, bias=True)\n",
       ")"
      ]
     },
     "execution_count": 15,
     "metadata": {},
     "output_type": "execute_result"
    }
   ],
   "source": [
    "class M5B2(nn.Module):\n",
    "\n",
    "    def __init__(self, n_in_channels=1, n_classes=NUM_CLASSES, \n",
    "                 stride=16, n_channel=32):\n",
    "        super().__init__()\n",
    "\n",
    "        self.cnn = nn.Sequential(\n",
    "\n",
    "            # bloque conv 1\n",
    "            nn.Conv1d(in_channels=n_in_channels, \n",
    "                      out_channels=n_channel, \n",
    "                      kernel_size=80, stride=stride),\n",
    "            nn.BatchNorm1d(num_features=n_channel),\n",
    "            nn.ReLU(),\n",
    "            nn.MaxPool1d(kernel_size=4, stride=4),\n",
    "\n",
    "            # bloque conv 2\n",
    "            nn.Conv1d(in_channels=n_channel, \n",
    "                      out_channels=n_channel, \n",
    "                      kernel_size=3),\n",
    "            nn.BatchNorm1d(num_features=n_channel),\n",
    "            nn.ReLU(),\n",
    "            nn.MaxPool1d(kernel_size=4, stride=4),\n",
    "\n",
    "        )\n",
    "\n",
    "        self.pool = nn.AdaptiveAvgPool1d(1)\n",
    "        self.flat = nn.Flatten()\n",
    "        self.fc = nn.Linear(n_channel, n_classes)\n",
    "\n",
    "\n",
    "    def forward(self, x):\n",
    "        x = self.cnn(x)\n",
    "        x = self.pool(x)\n",
    "        x = self.flat(x)\n",
    "        x = self.fc(x)\n",
    "        return x\n",
    "\n",
    "\n",
    "def build_m5b2():\n",
    "    return M5B2()\n",
    "\n",
    "m5b2 = build_m5b2()\n",
    "m5b2"
   ]
  },
  {
   "cell_type": "code",
   "execution_count": 16,
   "metadata": {},
   "outputs": [
    {
     "name": "stdout",
     "output_type": "stream",
     "text": [
      "torch.Size([1, 1, 16000]) => torch.Size([1, 35])\n"
     ]
    }
   ],
   "source": [
    "x = torch.zeros(1, 1, 16000)\n",
    "y = m5b2(x)\n",
    "print(f'{x.shape} => {y.shape}')"
   ]
  },
  {
   "cell_type": "code",
   "execution_count": 17,
   "metadata": {},
   "outputs": [
    {
     "data": {
      "text/plain": [
       "===================================================================================================================\n",
       "Layer (type:depth-idx)                   Input Shape               Output Shape              Param #\n",
       "===================================================================================================================\n",
       "├─Sequential: 1-1                        [1, 1, 16000]             [1, 32, 61]               --\n",
       "|    └─Conv1d: 2-1                       [1, 1, 16000]             [1, 32, 996]              2,592\n",
       "|    └─BatchNorm1d: 2-2                  [1, 32, 996]              [1, 32, 996]              64\n",
       "|    └─ReLU: 2-3                         [1, 32, 996]              [1, 32, 996]              --\n",
       "|    └─MaxPool1d: 2-4                    [1, 32, 996]              [1, 32, 249]              --\n",
       "|    └─Conv1d: 2-5                       [1, 32, 249]              [1, 32, 247]              3,104\n",
       "|    └─BatchNorm1d: 2-6                  [1, 32, 247]              [1, 32, 247]              64\n",
       "|    └─ReLU: 2-7                         [1, 32, 247]              [1, 32, 247]              --\n",
       "|    └─MaxPool1d: 2-8                    [1, 32, 247]              [1, 32, 61]               --\n",
       "├─AdaptiveAvgPool1d: 1-2                 [1, 32, 61]               [1, 32, 1]                --\n",
       "├─Flatten: 1-3                           [1, 32, 1]                [1, 32]                   --\n",
       "├─Linear: 1-4                            [1, 32]                   [1, 35]                   1,155\n",
       "===================================================================================================================\n",
       "Total params: 6,979\n",
       "Trainable params: 6,979\n",
       "Non-trainable params: 0\n",
       "Total mult-adds (M): 3.32\n",
       "===================================================================================================================\n",
       "Input size (MB): 0.06\n",
       "Forward/backward pass size (MB): 0.64\n",
       "Params size (MB): 0.03\n",
       "Estimated Total Size (MB): 0.73\n",
       "==================================================================================================================="
      ]
     },
     "execution_count": 17,
     "metadata": {},
     "output_type": "execute_result"
    }
   ],
   "source": [
    "summary(m5b2, (1, 1, 16000), device='cpu', verbose=0,\n",
    "        col_names=['input_size', 'output_size', 'num_params'])"
   ]
  },
  {
   "cell_type": "markdown",
   "metadata": {},
   "source": [
    "## 5. Entrenamiento"
   ]
  },
  {
   "cell_type": "code",
   "execution_count": 18,
   "metadata": {},
   "outputs": [],
   "source": [
    "def train_model(build_model, lr=1e-4, epochs=20):\n",
    "    set_seed()\n",
    "    trn_dl = build_dl(subset='training', shuffle=True)\n",
    "    val_dl = build_dl(subset='validation', shuffle=False)\n",
    "    model = build_model()\n",
    "    loss_hist, acc_hist = train(\n",
    "        model, trn_dl, val_dl, lr=lr, epochs=epochs)"
   ]
  },
  {
   "cell_type": "code",
   "execution_count": 19,
   "metadata": {},
   "outputs": [
    {
     "data": {
      "application/vnd.jupyter.widget-view+json": {
       "model_id": "4cba91b7bfd645bb9baf4ad615987de1",
       "version_major": 2,
       "version_minor": 0
      },
      "text/plain": [
       "  0%|          | 0/20 [00:00<?, ?it/s]"
      ]
     },
     "metadata": {},
     "output_type": "display_data"
    },
    {
     "name": "stdout",
     "output_type": "stream",
     "text": [
      "E00 loss=[323.22,323.28] acc=[15.92,16.42]\n",
      "E01 loss=[302.22,302.14] acc=[20.47,21.24]\n",
      "E02 loss=[286.51,285.21] acc=[22.45,23.15]\n",
      "E03 loss=[276.64,275.05] acc=[24.42,25.38]\n",
      "E04 loss=[269.78,268.39] acc=[26.44,27.14]\n",
      "E05 loss=[262.62,260.72] acc=[27.93,28.45]\n",
      "E06 loss=[257.74,256.29] acc=[29.02,29.29]\n",
      "E07 loss=[252.00,250.06] acc=[30.37,31.78]\n",
      "E08 loss=[249.75,247.93] acc=[31.30,32.42]\n",
      "E09 loss=[243.92,241.73] acc=[32.37,33.36]\n",
      "E10 loss=[239.17,236.50] acc=[34.03,35.56]\n",
      "E11 loss=[237.82,235.89] acc=[33.65,34.59]\n",
      "E12 loss=[234.78,232.50] acc=[34.77,35.96]\n",
      "E13 loss=[232.92,230.90] acc=[35.68,36.78]\n",
      "E14 loss=[231.77,230.11] acc=[35.24,35.80]\n",
      "E15 loss=[227.32,225.12] acc=[37.30,38.04]\n",
      "E16 loss=[226.93,225.11] acc=[37.26,37.80]\n",
      "E17 loss=[227.81,224.95] acc=[36.70,37.59]\n",
      "E18 loss=[227.82,225.48] acc=[36.55,37.51]\n",
      "E19 loss=[223.96,222.24] acc=[37.58,38.65]\n"
     ]
    }
   ],
   "source": [
    "train_model(build_model=build_m5b2)"
   ]
  },
  {
   "cell_type": "markdown",
   "metadata": {},
   "source": [
    "## 6. Participación"
   ]
  },
  {
   "cell_type": "markdown",
   "metadata": {},
   "source": [
    "Extiende la arquitectura anterior para que tenga 4 bloques convolucionales siguiendo el mismo patrón, en los ultimos dos incrementa al doble el número de canales. "
   ]
  },
  {
   "cell_type": "code",
   "execution_count": null,
   "metadata": {},
   "outputs": [],
   "source": []
  },
  {
   "cell_type": "code",
   "execution_count": null,
   "metadata": {},
   "outputs": [],
   "source": []
  },
  {
   "cell_type": "code",
   "execution_count": null,
   "metadata": {},
   "outputs": [],
   "source": []
  },
  {
   "cell_type": "code",
   "execution_count": null,
   "metadata": {},
   "outputs": [],
   "source": []
  }
 ],
 "metadata": {
  "kernelspec": {
   "display_name": "Python 3",
   "language": "python",
   "name": "python3"
  },
  "language_info": {
   "codemirror_mode": {
    "name": "ipython",
    "version": 3
   },
   "file_extension": ".py",
   "mimetype": "text/x-python",
   "name": "python",
   "nbconvert_exporter": "python",
   "pygments_lexer": "ipython3",
   "version": "3.8.5"
  }
 },
 "nbformat": 4,
 "nbformat_minor": 4
}
